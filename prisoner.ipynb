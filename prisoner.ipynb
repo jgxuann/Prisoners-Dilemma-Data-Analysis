{
  "cells": [
    {
      "cell_type": "markdown",
      "metadata": {
        "id": "view-in-github",
        "colab_type": "text"
      },
      "source": [
        "<a href=\"https://colab.research.google.com/github/jgxuann/Prisoners-Dilemma-Data-Analysis/blob/main/prisoner.ipynb\" target=\"_parent\"><img src=\"https://colab.research.google.com/assets/colab-badge.svg\" alt=\"Open In Colab\"/></a>"
      ]
    },
    {
      "cell_type": "code",
      "execution_count": null,
      "metadata": {
        "colab": {
          "base_uri": "https://localhost:8080/"
        },
        "collapsed": true,
        "id": "2DqbZOR9XAnJ",
        "outputId": "55fbf4e6-778c-4422-dc77-390f061379f7"
      },
      "outputs": [
        {
          "output_type": "stream",
          "name": "stderr",
          "text": [
            "Installing package into ‘/usr/local/lib/R/site-library’\n",
            "(as ‘lib’ is unspecified)\n",
            "\n",
            "Installing package into ‘/usr/local/lib/R/site-library’\n",
            "(as ‘lib’ is unspecified)\n",
            "\n",
            "Installing package into ‘/usr/local/lib/R/site-library’\n",
            "(as ‘lib’ is unspecified)\n",
            "\n",
            "also installing the dependencies ‘rbibutils’, ‘cowplot’, ‘Deriv’, ‘microbenchmark’, ‘Rdpack’, ‘doBy’, ‘SparseM’, ‘MatrixModels’, ‘minqa’, ‘nloptr’, ‘reformulas’, ‘RcppEigen’, ‘carData’, ‘abind’, ‘Formula’, ‘pbkrtest’, ‘quantreg’, ‘estimability’, ‘numDeriv’, ‘mvtnorm’, ‘lme4’, ‘car’, ‘plyr’, ‘emmeans’\n",
            "\n",
            "\n",
            "Installing package into ‘/usr/local/lib/R/site-library’\n",
            "(as ‘lib’ is unspecified)\n",
            "\n",
            "also installing the dependency ‘permute’\n",
            "\n",
            "\n",
            "Installing package into ‘/usr/local/lib/R/site-library’\n",
            "(as ‘lib’ is unspecified)\n",
            "\n",
            "Installing packages into ‘/usr/local/lib/R/site-library’\n",
            "(as ‘lib’ is unspecified)\n",
            "\n",
            "also installing the dependencies ‘zoo’, ‘TH.data’, ‘sandwich’\n",
            "\n",
            "\n"
          ]
        }
      ],
      "source": [
        "# 安装包\n",
        "install.packages(\"readxl\")\n",
        "install.packages(\"dplyr\")\n",
        "install.packages(\"ARTool\")\n",
        "install.packages(\"vegan\")\n",
        "install.packages(\"ART\")\n",
        "install.packages(c(\"emmeans\", \"ggplot2\", \"multcomp\"))\n",
        "install.packages(\"ggpubr\")"
      ]
    },
    {
      "cell_type": "code",
      "execution_count": null,
      "metadata": {
        "colab": {
          "base_uri": "https://localhost:8080/",
          "height": 405
        },
        "id": "GRfG3fbBZVen",
        "outputId": "e6ddc289-effe-4181-87c0-b039c749834d",
        "collapsed": true
      },
      "outputs": [
        {
          "output_type": "display_data",
          "data": {
            "text/html": [
              "<table class=\"dataframe\">\n",
              "<caption>A tibble: 6 × 14</caption>\n",
              "<thead>\n",
              "\t<tr><th scope=col>Nickname</th><th scope=col>Age</th><th scope=col>ID</th><th scope=col>Sex</th><th scope=col>Model_type</th><th scope=col>Cooperate</th><th scope=col>Betrayal</th><th scope=col>Time</th><th scope=col>Earns</th><th scope=col>Switchs</th><th scope=col>Be_Friendly</th><th scope=col>Repair_Effort</th><th scope=col>Be_Friendly_Weighted</th><th scope=col>Repair_Effort_Weighted</th></tr>\n",
              "\t<tr><th scope=col>&lt;chr&gt;</th><th scope=col>&lt;dbl&gt;</th><th scope=col>&lt;chr&gt;</th><th scope=col>&lt;chr&gt;</th><th scope=col>&lt;chr&gt;</th><th scope=col>&lt;dbl&gt;</th><th scope=col>&lt;dbl&gt;</th><th scope=col>&lt;chr&gt;</th><th scope=col>&lt;dbl&gt;</th><th scope=col>&lt;dbl&gt;</th><th scope=col>&lt;dbl&gt;</th><th scope=col>&lt;dbl&gt;</th><th scope=col>&lt;dbl&gt;</th><th scope=col>&lt;dbl&gt;</th></tr>\n",
              "</thead>\n",
              "<tbody>\n",
              "\t<tr><td>M1PH</td><td>23</td><td>M1</td><td>M</td><td>Purported Human</td><td>0.60</td><td>20</td><td>386</td><td>125</td><td>21</td><td>0.5455</td><td>0.5455</td><td>0.5190000</td><td>0.6000000</td></tr>\n",
              "\t<tr><td>M2PH</td><td>23</td><td>M2</td><td>M</td><td>Purported Human</td><td>0.68</td><td>16</td><td>482</td><td>125</td><td> 9</td><td>0.4167</td><td>0.5000</td><td>0.4143000</td><td>0.5143000</td></tr>\n",
              "\t<tr><td>M3PH</td><td>23</td><td>M3</td><td>M</td><td>Purported Human</td><td>0.52</td><td>24</td><td>819</td><td>114</td><td>19</td><td>0.3889</td><td>0.5000</td><td>0.5179000</td><td>0.5893000</td></tr>\n",
              "\t<tr><td>M4PH</td><td>22</td><td>M4</td><td>M</td><td>Purported Human</td><td>0.64</td><td>18</td><td>631</td><td>129</td><td> 7</td><td>0.2727</td><td>0.3182</td><td>0.4579000</td><td>0.3864000</td></tr>\n",
              "\t<tr><td>M5PH</td><td>24</td><td>M5</td><td>M</td><td>Purported Human</td><td>0.62</td><td>19</td><td>604</td><td>124</td><td>11</td><td>0.4375</td><td>0.5000</td><td>0.4111111</td><td>0.5472222</td></tr>\n",
              "\t<tr><td>M6PH</td><td>26</td><td>M6</td><td>M</td><td>Purported Human</td><td>0.64</td><td>18</td><td>490</td><td>130</td><td>11</td><td>0.4091</td><td>0.5000</td><td>0.4733333</td><td>0.6311111</td></tr>\n",
              "</tbody>\n",
              "</table>\n"
            ],
            "text/markdown": "\nA tibble: 6 × 14\n\n| Nickname &lt;chr&gt; | Age &lt;dbl&gt; | ID &lt;chr&gt; | Sex &lt;chr&gt; | Model_type &lt;chr&gt; | Cooperate &lt;dbl&gt; | Betrayal &lt;dbl&gt; | Time &lt;chr&gt; | Earns &lt;dbl&gt; | Switchs &lt;dbl&gt; | Be_Friendly &lt;dbl&gt; | Repair_Effort &lt;dbl&gt; | Be_Friendly_Weighted &lt;dbl&gt; | Repair_Effort_Weighted &lt;dbl&gt; |\n|---|---|---|---|---|---|---|---|---|---|---|---|---|---|\n| M1PH | 23 | M1 | M | Purported Human | 0.60 | 20 | 386 | 125 | 21 | 0.5455 | 0.5455 | 0.5190000 | 0.6000000 |\n| M2PH | 23 | M2 | M | Purported Human | 0.68 | 16 | 482 | 125 |  9 | 0.4167 | 0.5000 | 0.4143000 | 0.5143000 |\n| M3PH | 23 | M3 | M | Purported Human | 0.52 | 24 | 819 | 114 | 19 | 0.3889 | 0.5000 | 0.5179000 | 0.5893000 |\n| M4PH | 22 | M4 | M | Purported Human | 0.64 | 18 | 631 | 129 |  7 | 0.2727 | 0.3182 | 0.4579000 | 0.3864000 |\n| M5PH | 24 | M5 | M | Purported Human | 0.62 | 19 | 604 | 124 | 11 | 0.4375 | 0.5000 | 0.4111111 | 0.5472222 |\n| M6PH | 26 | M6 | M | Purported Human | 0.64 | 18 | 490 | 130 | 11 | 0.4091 | 0.5000 | 0.4733333 | 0.6311111 |\n\n",
            "text/latex": "A tibble: 6 × 14\n\\begin{tabular}{llllllllllllll}\n Nickname & Age & ID & Sex & Model\\_type & Cooperate & Betrayal & Time & Earns & Switchs & Be\\_Friendly & Repair\\_Effort & Be\\_Friendly\\_Weighted & Repair\\_Effort\\_Weighted\\\\\n <chr> & <dbl> & <chr> & <chr> & <chr> & <dbl> & <dbl> & <chr> & <dbl> & <dbl> & <dbl> & <dbl> & <dbl> & <dbl>\\\\\n\\hline\n\t M1PH & 23 & M1 & M & Purported Human & 0.60 & 20 & 386 & 125 & 21 & 0.5455 & 0.5455 & 0.5190000 & 0.6000000\\\\\n\t M2PH & 23 & M2 & M & Purported Human & 0.68 & 16 & 482 & 125 &  9 & 0.4167 & 0.5000 & 0.4143000 & 0.5143000\\\\\n\t M3PH & 23 & M3 & M & Purported Human & 0.52 & 24 & 819 & 114 & 19 & 0.3889 & 0.5000 & 0.5179000 & 0.5893000\\\\\n\t M4PH & 22 & M4 & M & Purported Human & 0.64 & 18 & 631 & 129 &  7 & 0.2727 & 0.3182 & 0.4579000 & 0.3864000\\\\\n\t M5PH & 24 & M5 & M & Purported Human & 0.62 & 19 & 604 & 124 & 11 & 0.4375 & 0.5000 & 0.4111111 & 0.5472222\\\\\n\t M6PH & 26 & M6 & M & Purported Human & 0.64 & 18 & 490 & 130 & 11 & 0.4091 & 0.5000 & 0.4733333 & 0.6311111\\\\\n\\end{tabular}\n",
            "text/plain": [
              "  Nickname Age ID Sex Model_type      Cooperate Betrayal Time Earns Switchs\n",
              "1 M1PH     23  M1 M   Purported Human 0.60      20       386  125   21     \n",
              "2 M2PH     23  M2 M   Purported Human 0.68      16       482  125    9     \n",
              "3 M3PH     23  M3 M   Purported Human 0.52      24       819  114   19     \n",
              "4 M4PH     22  M4 M   Purported Human 0.64      18       631  129    7     \n",
              "5 M5PH     24  M5 M   Purported Human 0.62      19       604  124   11     \n",
              "6 M6PH     26  M6 M   Purported Human 0.64      18       490  130   11     \n",
              "  Be_Friendly Repair_Effort Be_Friendly_Weighted Repair_Effort_Weighted\n",
              "1 0.5455      0.5455        0.5190000            0.6000000             \n",
              "2 0.4167      0.5000        0.4143000            0.5143000             \n",
              "3 0.3889      0.5000        0.5179000            0.5893000             \n",
              "4 0.2727      0.3182        0.4579000            0.3864000             \n",
              "5 0.4375      0.5000        0.4111111            0.5472222             \n",
              "6 0.4091      0.5000        0.4733333            0.6311111             "
            ]
          },
          "metadata": {}
        }
      ],
      "source": [
        "# 加载 readxl 包\n",
        "library(readxl)\n",
        "\n",
        "# 路径\n",
        "file_path <- \"/content/prisoner_data_analysis.xlsx\"\n",
        "\n",
        "# 读取 Excel 文件\n",
        "df <- read_excel(file_path)\n",
        "\n",
        "# 显示数据的前几行\n",
        "head(df)\n"
      ]
    },
    {
      "cell_type": "code",
      "source": [
        "# 加载必要的包\n",
        "library(ggplot2)\n",
        "library(ggpubr)\n",
        "library(dplyr)\n",
        "\n",
        "# 确保 dplyr::filter() 函数正确调用\n",
        "df_filtered <- df %>%\n",
        "  dplyr::filter(Model_type != \"Human\")\n",
        "\n",
        "# 确保 Be_Friendly 列是数值型，并将其转换为百分比\n",
        "df_filtered$Be_Friendly <- as.numeric(as.character(df_filtered$Be_Friendly)) * 100\n",
        "\n",
        "# 创建分组变量\n",
        "df_filtered$Group <- interaction(df_filtered$Sex, df_filtered$Model_type, sep = \"_\")\n",
        "\n",
        "# 列出所有可能的比较组\n",
        "comparisons <- combn(unique(df_filtered$Group), 2, simplify = FALSE)\n",
        "\n",
        "# 打印所有可能的比较组\n",
        "print(\"所有可能的比较组:\")\n",
        "for (i in 1:length(comparisons)) {\n",
        "  print(paste(\"比较组\", i, \":\", comparisons[[i]][1], \"vs\", comparisons[[i]][2]))\n",
        "}\n",
        "\n",
        "# 选择需要显示的比较组（例如第 1 和第 3 个比较组）\n",
        "selected_comparisons <- list(comparisons[[8]], comparisons[[1]], comparisons[[2]], comparisons[[15]])\n",
        "\n",
        "# 手动指定选择的比较组的 p 值\n",
        "selected_p_values <- c(0.0113, 0.0013, 0.0049, 0.0441)\n",
        "\n",
        "# 格式化 p 值到小数点后四位\n",
        "# formatted_p_values <- sprintf(\"%.4f\", selected_p_values)\n",
        "\n",
        "# 打印选择的比较组和对应的 p 值，进行验证\n",
        "for (i in 1:length(selected_comparisons)) {\n",
        "  cat(\"Comparing:\", selected_comparisons[[i]][1], \"vs\", selected_comparisons[[i]][2], \"\\n\")\n",
        "  cat(\"p-value:\", selected_p_values[i], \"\\n\\n\")\n",
        "}\n",
        "\n",
        "# 自定义颜色\n",
        "# custom_colors <- c(\"#E69F00\", \"#56B4E9\", \"#009E73\", \"#F0E442\", \"#0072B2\", \"#D55E00\")\n",
        "custom_colors <- c(\"#AABCDB\", \"#7698C3\", \"#487DB2\", \"#D0908F\", \"#BE6C6D\", \"#AA3A49\")\n",
        "\n",
        "# 计算每组的均值、中位数和标准差\n",
        "group_stats <- df_filtered %>%\n",
        "  group_by(Group) %>%\n",
        "  summarise(\n",
        "    mean = mean(Be_Friendly, na.rm = TRUE),\n",
        "    median = median(Be_Friendly, na.rm = TRUE),\n",
        "    sd = sd(Be_Friendly, na.rm = TRUE)\n",
        "  )\n",
        "\n",
        "# 自定义X轴标签和图例标签\n",
        "x_labels <- c(\n",
        "  \"F_LLM\" = \"A\",\n",
        "  \"M_LLM\" = \"B\",\n",
        "  \"F_Purported Human\" = \"C\",\n",
        "  \"M_Purported Human\" = \"D\",\n",
        "  \"F_Purported Interpretable\" = \"E\",\n",
        "  \"M_Purported Interpretable\" = \"F\"\n",
        "\n",
        ")\n",
        "\n",
        "legend_labels <- c(\n",
        "  \"F_LLM\" = \"A: F/LLM Agent\",\n",
        "  \"M_LLM\" = \"B: M/LLM Agent\",\n",
        "  \"F_Purported Human\" = \"C: F/Purported Human\",\n",
        "  \"M_Purported Human\" = \"D: M/Purported Human\",\n",
        "  \"F_Purported Interpretable\" = \"E: F/Purported Rule-based AI Agent\",\n",
        "  \"M_Purported Interpretable\" = \"F: M/Purported Rule-based AI Agent\"\n",
        ")\n",
        "\n",
        "# 绘制箱线图并添加自定义注释\n",
        "p <- ggplot(df_filtered, aes(x = Group, y = Be_Friendly, fill = Group)) +\n",
        "  geom_boxplot(width = 0.8, alpha = 0.85) +  # 调整箱线图的宽度\n",
        "  scale_fill_manual(values = custom_colors, labels = legend_labels) +\n",
        "  # scale_fill_manual(values = custom_colors) +\n",
        "  labs(title = \"Amicability by Gender and Purported Opponents' Nature\",\n",
        "       x = \"Gender & Purported Opponents' Nature\",\n",
        "       y = \"Amicability (%)\") +\n",
        "  theme_minimal() +\n",
        "  theme(plot.title = element_text(hjust = 0.5, size = 18, face = \"bold\"),\n",
        "        axis.title.x = element_text(size = 16),\n",
        "        axis.title.y = element_text(size = 16),\n",
        "        axis.text.x = element_text(size = 14, hjust = 1),\n",
        "        axis.text.y = element_text(size = 14),\n",
        "        legend.position = \"top\", # 将图例放置在上方\n",
        "\n",
        "        panel.grid = element_blank(),  # 去掉网格线\n",
        "        axis.line = element_line(color = \"black\"),  # 添加x轴和y轴\n",
        "        axis.ticks = element_line(color = \"black\"))+ # 添加刻度线\n",
        "\n",
        "  stat_summary(fun = mean, geom = \"point\", shape = 18, size = 3, color = \"black\") +\n",
        "  stat_summary(fun.data = mean_sdl, fun.args = list(mult = 1),\n",
        "               geom = \"errorbar\", color = \"black\", width = 0.2) +\n",
        "  scale_y_continuous(limits = c(0, 100), breaks = seq(0, 100, by = 20)) +  # 设置 y 轴的限制和间距\n",
        "  scale_x_discrete(labels = x_labels)\n",
        "\n",
        "# 添加手动指定的 p 值和比较线，并自定义注释内容\n",
        "max_y <- max(df_filtered$Be_Friendly, na.rm = TRUE)\n",
        "y_step <- 0.05 * (max_y - min(df_filtered$Be_Friendly, na.rm = TRUE))\n",
        "\n",
        "# 调整 y_step 以确保比较线不太靠近箱线图\n",
        "y_step <- 0.1 * (max_y - min(df_filtered$Be_Friendly, na.rm = TRUE))\n",
        "\n",
        "# 打印调试信息\n",
        "print(paste(\"max_y:\", max_y))\n",
        "print(paste(\"y_step:\", y_step))\n",
        "\n",
        "for (i in 1:length(selected_comparisons)) {\n",
        "  comp <- selected_comparisons[[i]]\n",
        "  p_val <- selected_p_values[i]\n",
        "  annotation_text <- paste(\"p =\", round(p_val, 4))\n",
        "  print(paste(\"Comparison:\", comp[1], \"vs\", comp[2], \"p-value:\", p_val, \"y_position:\", max_y + i * y_step)) # 调试信息\n",
        "  p <- p + geom_signif(comparisons = list(as.character(comp)),\n",
        "                       annotations = annotation_text,\n",
        "                       y_position = max_y + (i - 4.5) * y_step,  # 将比较线往下一点\n",
        "                       tip_length = 0.03,\n",
        "                       textsize = 4)\n",
        "}\n",
        "\n",
        "# 添加均值、中位数和标准差的标签\n",
        "for(i in 1:nrow(group_stats)) {\n",
        "  p <- p + annotate(\"text\", x = i, y = group_stats$mean[i] - 0.2 * max_y,\n",
        "                    label = paste0(\"AVG: \", round(group_stats$mean[i], 2), \"%\"),\n",
        "                    size = 4, color = \"black\") +\n",
        "    annotate(\"text\", x = i, y = group_stats$median[i] - 0.3 * max_y,\n",
        "             label = paste0(\"Md: \", round(group_stats$median[i], 2), \"%\"),\n",
        "             size = 4, color = \"black\") +\n",
        "    annotate(\"text\", x = i, y = group_stats$mean[i] -  0.25 * max_y,\n",
        "             label = paste0(\"SD: \", round(group_stats$sd[i], 2), \"%\"),\n",
        "             size = 4, color = \"black\")\n",
        "}\n",
        "\n",
        "# 调整图例文本和符号大小\n",
        "p <- p + theme(\n",
        "  legend.text = element_text(size = 13),  # 调整图例文本的大小\n",
        "  legend.title = element_text(size = 15), # 调整图例标题的大小\n",
        "  legend.key.size = unit(1.4, \"lines\")    # 调整图例符号的大小\n",
        ")\n",
        "\n",
        "# 显示图形\n",
        "print(p)\n",
        "\n",
        "# # 保存高清版的图\n",
        "# ggsave(\n",
        "#   filename = \"friendly.pdf\",  # 保存文件名\n",
        "#   plot = p,  # 指定要保存的图\n",
        "#   device = cairo_pdf,  # 使用Cairo库保存高质量的PDF\n",
        "#   width = 10, height = 8,  # 图的宽度和高度（英寸）\n",
        "#   dpi = 300  # 高分辨率\n",
        "# )"
      ],
      "metadata": {
        "colab": {
          "base_uri": "https://localhost:8080/",
          "height": 1000
        },
        "id": "Gjlbjqs4ulxg",
        "outputId": "3abe1f36-c38f-4fbb-97fb-c79b1008823b"
      },
      "execution_count": null,
      "outputs": [
        {
          "output_type": "stream",
          "name": "stdout",
          "text": [
            "[1] \"所有可能的比较组:\"\n",
            "[1] \"比较组 1 : M_Purported Human vs M_Purported Rule-Based Agents\"\n",
            "[1] \"比较组 2 : M_Purported Human vs M_Purported LLM Agents\"\n",
            "[1] \"比较组 3 : M_Purported Human vs F_Purported Human\"\n",
            "[1] \"比较组 4 : M_Purported Human vs F_Purported Rule-Based Agents\"\n",
            "[1] \"比较组 5 : M_Purported Human vs F_Purported LLM Agents\"\n",
            "[1] \"比较组 6 : M_Purported Rule-Based Agents vs M_Purported LLM Agents\"\n",
            "[1] \"比较组 7 : M_Purported Rule-Based Agents vs F_Purported Human\"\n",
            "[1] \"比较组 8 : M_Purported Rule-Based Agents vs F_Purported Rule-Based Agents\"\n",
            "[1] \"比较组 9 : M_Purported Rule-Based Agents vs F_Purported LLM Agents\"\n",
            "[1] \"比较组 10 : M_Purported LLM Agents vs F_Purported Human\"\n",
            "[1] \"比较组 11 : M_Purported LLM Agents vs F_Purported Rule-Based Agents\"\n",
            "[1] \"比较组 12 : M_Purported LLM Agents vs F_Purported LLM Agents\"\n",
            "[1] \"比较组 13 : F_Purported Human vs F_Purported Rule-Based Agents\"\n",
            "[1] \"比较组 14 : F_Purported Human vs F_Purported LLM Agents\"\n",
            "[1] \"比较组 15 : F_Purported Rule-Based Agents vs F_Purported LLM Agents\"\n",
            "Comparing: 6 vs 5 \n",
            "p-value: 0.0113 \n",
            "\n",
            "Comparing: 2 vs 6 \n",
            "p-value: 0.0013 \n",
            "\n",
            "Comparing: 2 vs 4 \n",
            "p-value: 0.0049 \n",
            "\n",
            "Comparing: 5 vs 3 \n",
            "p-value: 0.0441 \n",
            "\n",
            "[1] \"max_y: 100\"\n",
            "[1] \"y_step: 10\"\n",
            "[1] \"Comparison: M_Purported Rule-Based Agents vs F_Purported Rule-Based Agents p-value: 0.0113 y_position: 110\"\n",
            "[1] \"Comparison: M_Purported Human vs M_Purported Rule-Based Agents p-value: 0.0013 y_position: 120\"\n",
            "[1] \"Comparison: M_Purported Human vs M_Purported LLM Agents p-value: 0.0049 y_position: 130\"\n",
            "[1] \"Comparison: F_Purported Rule-Based Agents vs F_Purported LLM Agents p-value: 0.0441 y_position: 140\"\n"
          ]
        },
        {
          "output_type": "stream",
          "name": "stderr",
          "text": [
            "Warning message:\n",
            "“\u001b[1m\u001b[22mComputation failed in `stat_summary()`.\n",
            "Caused by error in `fun.data()`:\n",
            "\u001b[1m\u001b[22m\u001b[33m!\u001b[39m The package \"Hmisc\" is required.”\n"
          ]
        },
        {
          "output_type": "display_data",
          "data": {
            "text/plain": [
              "plot without title"
            ],
            "image/png": "[encoded data removed]"
          },
          "metadata": {
            "image/png": {
              "width": 420,
              "height": 420
            }
          }
        }
      ]
    },
    {
      "cell_type": "code",
      "source": [
        "install.packages(\"lmerTest\")"
      ],
      "metadata": {
        "colab": {
          "base_uri": "https://localhost:8080/"
        },
        "id": "vmdMThazQ6Z5",
        "outputId": "fea6b791-6876-4cfc-e68e-8b72568b7976"
      },
      "execution_count": null,
      "outputs": [
        {
          "output_type": "stream",
          "name": "stderr",
          "text": [
            "Installing package into ‘/usr/local/lib/R/site-library’\n",
            "(as ‘lib’ is unspecified)\n",
            "\n"
          ]
        }
      ]
    },
    {
      "cell_type": "code",
      "source": [
        "# 加载必要的包 ----------------------------------------------------------------\n",
        "library(ggplot2)\n",
        "library(dplyr)\n",
        "library(lme4)      # 线性混合效应模型\n",
        "library(lmerTest)  # 计算p值\n",
        "library(emmeans)   # 事后检验\n",
        "library(ggsignif)  # 添加显著性标记\n",
        "\n",
        "# 假设你的数据框已加载并命名为 df -------------------------------------------------\n",
        "\n",
        "# 数据预处理 ----------------------------------------------------------------\n",
        "# 过滤掉 Human 类别，并创建分组变量 Group\n",
        "df_filtered <- df %>%\n",
        "  filter(Model_type != \"Human\") %>%\n",
        "  mutate(\n",
        "    Be_Friendly = as.numeric(as.character(Be_Friendly)) * 100,  # 转换为百分比\n",
        "    Group = interaction(Sex, Model_type, sep = \"_\")             # 创建分组变量\n",
        "  )\n",
        "\n",
        "# 检查数据中是否存在随机效应变量（如 Subject）\n",
        "# 如果数据中没有 Subject，请删除模型中的 (1 | Subject) 或替换为实际随机效应变量\n",
        "# 拟合线性混合效应模型 ----------------------------------------------------------\n",
        "model <- lmer(\n",
        "  Be_Friendly ~ Group + (1 | Subject),  # 固定效应为 Group，随机效应为 Subject\n",
        "  data = df_filtered\n",
        ")\n",
        "\n",
        "# 计算所有两两比较的 p 值（使用 Tukey 方法校正多重比较）\n",
        "emm <- emmeans(model, pairwise ~ Group, adjust = \"tukey\")\n",
        "contrasts <- as.data.frame(emm$contrasts)  # 提取比较结果\n",
        "\n",
        "# 筛选显著的结果（p < 0.05）\n",
        "sig_contrasts <- contrasts %>%\n",
        "  filter(p.value < 0.05) %>%\n",
        "  mutate(\n",
        "    group1 = gsub(\" - .*\", \"\", contrast),  # 提取比较组1\n",
        "    group2 = gsub(\".* - \", \"\", contrast)   # 提取比较组2\n",
        "  )\n",
        "\n",
        "# 生成比较列表和 p 值\n",
        "selected_comparisons <- lapply(1:nrow(sig_contrasts), function(i) {\n",
        "  c(sig_contrasts$group1[i], sig_contrasts$group2[i])\n",
        "})\n",
        "selected_p_values <- sig_contrasts$p.value\n",
        "\n",
        "# 打印显著比较组\n",
        "if (length(selected_comparisons) > 0) {\n",
        "  cat(\"显著的比较组:\\n\")\n",
        "  for (i in 1:length(selected_comparisons)) {\n",
        "    cat(\"Comparing:\", selected_comparisons[[i]][1], \"vs\",\n",
        "        selected_comparisons[[i]][2], \"p =\", selected_p_values[i], \"\\n\")\n",
        "  }\n",
        "} else {\n",
        "  cat(\"无显著比较组\\n\")\n",
        "}\n",
        "\n",
        "# 自定义颜色和标签（与你的原始代码一致）-----------------------------------------\n",
        "custom_colors <- c(\"#AABCDB\", \"#7698C3\", \"#487DB2\", \"#D0908F\", \"#BE6C6D\", \"#AA3A49\")\n",
        "x_labels <- c(\n",
        "  \"F_LLM\" = \"A\",\n",
        "  \"M_LLM\" = \"B\",\n",
        "  \"F_Purported Human\" = \"C\",\n",
        "  \"M_Purported Human\" = \"D\",\n",
        "  \"F_Purported Interpretable\" = \"E\",\n",
        "  \"M_Purported Interpretable\" = \"F\"\n",
        ")\n",
        "legend_labels <- c(\n",
        "  \"F_LLM\" = \"A: F/LLM Agent\",\n",
        "  \"M_LLM\" = \"B: M/LLM Agent\",\n",
        "  \"F_Purported Human\" = \"C: F/Purported Human\",\n",
        "  \"M_Purported Human\" = \"D: M/Purported Human\",\n",
        "  \"F_Purported Interpretable\" = \"E: F/Purported Rule-based AI Agent\",\n",
        "  \"M_Purported Interpretable\" = \"F: M/Purported Rule-based AI Agent\"\n",
        ")\n",
        "\n",
        "# 绘制箱线图 -------------------------------------------------------------------\n",
        "p <- ggplot(df_filtered, aes(x = Group, y = Be_Friendly, fill = Group)) +\n",
        "  geom_boxplot(width = 0.8, alpha = 0.85) +\n",
        "  scale_fill_manual(values = custom_colors, labels = legend_labels) +\n",
        "  labs(\n",
        "    title = \"Amicability by Gender and Purported Opponents' Nature\",\n",
        "    x = \"Gender & Purported Opponents' Nature\",\n",
        "    y = \"Amicability (%)\"\n",
        "  ) +\n",
        "  theme_minimal() +\n",
        "  theme(\n",
        "    plot.title = element_text(hjust = 0.5, size = 18, face = \"bold\"),\n",
        "    axis.title.x = element_text(size = 16),\n",
        "    axis.title.y = element_text(size = 16),\n",
        "    axis.text.x = element_text(size = 14, hjust = 1),\n",
        "    axis.text.y = element_text(size = 14),\n",
        "    legend.position = \"top\",\n",
        "    panel.grid = element_blank(),\n",
        "    axis.line = element_line(color = \"black\"),\n",
        "    axis.ticks = element_line(color = \"black\")\n",
        "  ) +\n",
        "  scale_y_continuous(limits = c(0, 100), breaks = seq(0, 100, by = 20)) +\n",
        "  scale_x_discrete(labels = x_labels)\n",
        "\n",
        "# 自动添加显著性标记（仅显示显著结果）-------------------------------------------\n",
        "if (length(selected_comparisons) > 0) {\n",
        "  max_y <- max(df_filtered$Be_Friendly, na.rm = TRUE)\n",
        "  y_step <- 0.1 * max_y  # 调整比较线的垂直间距\n",
        "\n",
        "  p <- p + geom_signif(\n",
        "    comparisons = selected_comparisons,\n",
        "    annotations = sprintf(\"p = %.3f\", selected_p_values),  # 显示三位小数\n",
        "    y_position = seq(max_y + y_step, by = y_step, length.out = length(selected_comparisons)),\n",
        "    tip_length = 0.01,\n",
        "    textsize = 4,\n",
        "    vjust = -0.2\n",
        "  )\n",
        "}\n",
        "\n",
        "# 显示图形\n",
        "print(p)\n",
        "\n",
        "# 保存为PDF（可选）\n",
        "# ggsave(\"amicability_plot.pdf\", plot = p, width = 10, height = 8, dpi = 300)"
      ],
      "metadata": {
        "colab": {
          "base_uri": "https://localhost:8080/",
          "height": 1000
        },
        "id": "Mfqpw475Qt5J",
        "outputId": "9cd01fcf-7cf1-40c5-f66d-0ec95b9ddaae"
      },
      "execution_count": null,
      "outputs": [
        {
          "output_type": "stream",
          "name": "stderr",
          "text": [
            "\n",
            "Attaching package: ‘lmerTest’\n",
            "\n",
            "\n",
            "The following object is masked from ‘package:lme4’:\n",
            "\n",
            "    lmer\n",
            "\n",
            "\n",
            "The following object is masked from ‘package:stats’:\n",
            "\n",
            "    step\n",
            "\n",
            "\n",
            "Welcome to emmeans.\n",
            "Caution: You lose important information if you filter this package's results.\n",
            "See '? untidy'\n",
            "\n"
          ]
        },
        {
          "output_type": "error",
          "ename": "ERROR",
          "evalue": "Error in eval(predvars, data, env): object 'Subject' not found\n",
          "traceback": [
            "Error in eval(predvars, data, env): object 'Subject' not found\nTraceback:\n",
            "1. eval.parent(mc)",
            "2. eval(expr, p)",
            "3. eval(expr, p)",
            "4. lme4::lmer(formula = Be_Friendly ~ Group + (1 | Subject), data = df_filtered)",
            "5. eval(mc, parent.frame(1L))",
            "6. eval(mc, parent.frame(1L))",
            "7. lme4::lFormula(formula = Be_Friendly ~ Group + (1 | Subject), \n .     data = df_filtered, control = structure(list(optimizer = \"nloptwrap\", \n .         restart_edge = TRUE, boundary.tol = 1e-05, calc.derivs = TRUE, \n .         use.last.params = FALSE, checkControl = list(check.nobs.vs.rankZ = \"ignore\", \n .             check.nobs.vs.nlev = \"stop\", check.nlev.gtreq.5 = \"ignore\", \n .             check.nlev.gtr.1 = \"stop\", check.nobs.vs.nRE = \"stop\", \n .             check.rankX = \"message+drop.cols\", check.scaleX = \"warning\", \n .             check.formula.LHS = \"stop\"), checkConv = list(check.conv.grad = list(\n .             action = \"warning\", tol = 0.002, relTol = NULL), \n .             check.conv.singular = list(action = \"message\", tol = 1e-04), \n .             check.conv.hess = list(action = \"warning\", tol = 1e-06)), \n .         optCtrl = list()), class = c(\"lmerControl\", \"merControl\"\n .     )))",
            "8. eval(mf, parent.frame())",
            "9. eval(mf, parent.frame())",
            "10. stats::model.frame(data = df_filtered, drop.unused.levels = TRUE, \n  .     formula = Be_Friendly ~ Group + (1 + Subject))",
            "11. model.frame.default(data = df_filtered, drop.unused.levels = TRUE, \n  .     formula = Be_Friendly ~ Group + (1 + Subject))",
            "12. eval(predvars, data, env)",
            "13. eval(predvars, data, env)",
            "14. .handleSimpleError(function (cnd) \n  . {\n  .     watcher$capture_plot_and_output()\n  .     cnd <- sanitize_call(cnd)\n  .     watcher$push(cnd)\n  .     switch(on_error, continue = invokeRestart(\"eval_continue\"), \n  .         stop = invokeRestart(\"eval_stop\"), error = NULL)\n  . }, \"object 'Subject' not found\", base::quote(eval(predvars, data, \n  .     env)))"
          ]
        }
      ]
    },
    {
      "cell_type": "code",
      "source": [
        "library(ARTool)\n",
        "library(dplyr)\n",
        "library(tidyr)\n",
        "library(ggplot2)\n",
        "\n",
        "# 假设你的数据框名称是 df\n",
        "\n",
        "# 筛选出 `model_type` 为 \"Purported Human\" 和 \"Human\" 的数据\n",
        "df_filtered <- df %>%\n",
        "  filter(Model_type %in% c(\"Purported Human\", \"Human\"))\n",
        "\n",
        "# 转换 `model_type` 为因子变量\n",
        "df_filtered$Model_type <- as.factor(df_filtered$Model_type)\n",
        "\n",
        "# 定义变量列表\n",
        "variables <- c(\"Cooperate\", \"Betrayal\", \"Be_Friendly\", \"Repair_Effort\")\n",
        "\n",
        "# 对每个变量进行ART ANOVA分析\n",
        "anova_results_list <- lapply(variables, function(var) {\n",
        "  # 创建子数据集，只包含一个变量\n",
        "  df_sub <- df_filtered %>%\n",
        "    select(Model_type, ID, !!sym(var))\n",
        "\n",
        "  # 转换数据为长格式\n",
        "  df_long_sub <- df_sub %>%\n",
        "    pivot_longer(cols = !!sym(var),\n",
        "                 names_to = \"Variable\",\n",
        "                 values_to = \"Value\")\n",
        "\n",
        "  # 创建 ART 模型，只包含 model_type 主效应\n",
        "  art_model <- art(Value ~ Model_type + (1|ID), data = df_long_sub)\n",
        "\n",
        "  # 进行 ANOVA 分析\n",
        "  anova_results <- anova(art_model)\n",
        "\n",
        "  return(anova_results)\n",
        "})\n",
        "\n",
        "# 打印每个变量的 ANOVA 结果\n",
        "names(anova_results_list) <- variables\n",
        "anova_results_list\n"
      ],
      "metadata": {
        "colab": {
          "base_uri": "https://localhost:8080/",
          "height": 761
        },
        "id": "Aug_O26pJtCk",
        "outputId": "6889ffd5-b327-4803-cf46-c7dda96a4f2f"
      },
      "execution_count": null,
      "outputs": [
        {
          "output_type": "stream",
          "name": "stderr",
          "text": [
            "Installing package into ‘/usr/local/lib/R/site-library’\n",
            "(as ‘lib’ is unspecified)\n",
            "\n",
            "Installing package into ‘/usr/local/lib/R/site-library’\n",
            "(as ‘lib’ is unspecified)\n",
            "\n",
            "Installing package into ‘/usr/local/lib/R/site-library’\n",
            "(as ‘lib’ is unspecified)\n",
            "\n",
            "Installing package into ‘/usr/local/lib/R/site-library’\n",
            "(as ‘lib’ is unspecified)\n",
            "\n"
          ]
        },
        {
          "output_type": "display_data",
          "data": {
            "text/html": [
              "<dl>\n",
              "\t<dt>$Cooperate</dt>\n",
              "\t\t<dd><table class=\"dataframe\">\n",
              "<caption>A anova.art: 1 × 5</caption>\n",
              "<thead>\n",
              "\t<tr><th></th><th scope=col>Term</th><th scope=col>F</th><th scope=col>Df</th><th scope=col>Df.res</th><th scope=col>Pr(&gt;F)</th></tr>\n",
              "\t<tr><th></th><th scope=col>&lt;chr&gt;</th><th scope=col>&lt;dbl&gt;</th><th scope=col>&lt;dbl&gt;</th><th scope=col>&lt;dbl&gt;</th><th scope=col>&lt;dbl&gt;</th></tr>\n",
              "</thead>\n",
              "<tbody>\n",
              "\t<tr><th scope=row>Model_type</th><td>Model_type</td><td>25.59735</td><td>1</td><td>29</td><td>2.150635e-05</td></tr>\n",
              "</tbody>\n",
              "</table>\n",
              "</dd>\n",
              "\t<dt>$Betrayal</dt>\n",
              "\t\t<dd><table class=\"dataframe\">\n",
              "<caption>A anova.art: 1 × 5</caption>\n",
              "<thead>\n",
              "\t<tr><th></th><th scope=col>Term</th><th scope=col>F</th><th scope=col>Df</th><th scope=col>Df.res</th><th scope=col>Pr(&gt;F)</th></tr>\n",
              "\t<tr><th></th><th scope=col>&lt;chr&gt;</th><th scope=col>&lt;dbl&gt;</th><th scope=col>&lt;dbl&gt;</th><th scope=col>&lt;dbl&gt;</th><th scope=col>&lt;dbl&gt;</th></tr>\n",
              "</thead>\n",
              "<tbody>\n",
              "\t<tr><th scope=row>Model_type</th><td>Model_type</td><td>25.17356</td><td>1</td><td>29</td><td>2.417354e-05</td></tr>\n",
              "</tbody>\n",
              "</table>\n",
              "</dd>\n",
              "\t<dt>$Be_Friendly</dt>\n",
              "\t\t<dd><table class=\"dataframe\">\n",
              "<caption>A anova.art: 1 × 5</caption>\n",
              "<thead>\n",
              "\t<tr><th></th><th scope=col>Term</th><th scope=col>F</th><th scope=col>Df</th><th scope=col>Df.res</th><th scope=col>Pr(&gt;F)</th></tr>\n",
              "\t<tr><th></th><th scope=col>&lt;chr&gt;</th><th scope=col>&lt;dbl&gt;</th><th scope=col>&lt;dbl&gt;</th><th scope=col>&lt;dbl&gt;</th><th scope=col>&lt;dbl&gt;</th></tr>\n",
              "</thead>\n",
              "<tbody>\n",
              "\t<tr><th scope=row>Model_type</th><td>Model_type</td><td>1.064029</td><td>1</td><td>29</td><td>0.3108246</td></tr>\n",
              "</tbody>\n",
              "</table>\n",
              "</dd>\n",
              "\t<dt>$Repair_Effort</dt>\n",
              "\t\t<dd><table class=\"dataframe\">\n",
              "<caption>A anova.art: 1 × 5</caption>\n",
              "<thead>\n",
              "\t<tr><th></th><th scope=col>Term</th><th scope=col>F</th><th scope=col>Df</th><th scope=col>Df.res</th><th scope=col>Pr(&gt;F)</th></tr>\n",
              "\t<tr><th></th><th scope=col>&lt;chr&gt;</th><th scope=col>&lt;dbl&gt;</th><th scope=col>&lt;dbl&gt;</th><th scope=col>&lt;dbl&gt;</th><th scope=col>&lt;dbl&gt;</th></tr>\n",
              "</thead>\n",
              "<tbody>\n",
              "\t<tr><th scope=row>Model_type</th><td>Model_type</td><td>2.975127</td><td>1</td><td>29</td><td>0.09519785</td></tr>\n",
              "</tbody>\n",
              "</table>\n",
              "</dd>\n",
              "</dl>\n"
            ],
            "text/markdown": "$Cooperate\n:   \nA anova.art: 1 × 5\n\n| <!--/--> | Term &lt;chr&gt; | F &lt;dbl&gt; | Df &lt;dbl&gt; | Df.res &lt;dbl&gt; | Pr(&gt;F) &lt;dbl&gt; |\n|---|---|---|---|---|---|\n| Model_type | Model_type | 25.59735 | 1 | 29 | 2.150635e-05 |\n\n\n$Betrayal\n:   \nA anova.art: 1 × 5\n\n| <!--/--> | Term &lt;chr&gt; | F &lt;dbl&gt; | Df &lt;dbl&gt; | Df.res &lt;dbl&gt; | Pr(&gt;F) &lt;dbl&gt; |\n|---|---|---|---|---|---|\n| Model_type | Model_type | 25.17356 | 1 | 29 | 2.417354e-05 |\n\n\n$Be_Friendly\n:   \nA anova.art: 1 × 5\n\n| <!--/--> | Term &lt;chr&gt; | F &lt;dbl&gt; | Df &lt;dbl&gt; | Df.res &lt;dbl&gt; | Pr(&gt;F) &lt;dbl&gt; |\n|---|---|---|---|---|---|\n| Model_type | Model_type | 1.064029 | 1 | 29 | 0.3108246 |\n\n\n$Repair_Effort\n:   \nA anova.art: 1 × 5\n\n| <!--/--> | Term &lt;chr&gt; | F &lt;dbl&gt; | Df &lt;dbl&gt; | Df.res &lt;dbl&gt; | Pr(&gt;F) &lt;dbl&gt; |\n|---|---|---|---|---|---|\n| Model_type | Model_type | 2.975127 | 1 | 29 | 0.09519785 |\n\n\n\n\n",
            "text/latex": "\\begin{description}\n\\item[\\$Cooperate] A anova.art: 1 × 5\n\\begin{tabular}{r|lllll}\n  & Term & F & Df & Df.res & Pr(>F)\\\\\n  & <chr> & <dbl> & <dbl> & <dbl> & <dbl>\\\\\n\\hline\n\tModel\\_type & Model\\_type & 25.59735 & 1 & 29 & 2.150635e-05\\\\\n\\end{tabular}\n\n\\item[\\$Betrayal] A anova.art: 1 × 5\n\\begin{tabular}{r|lllll}\n  & Term & F & Df & Df.res & Pr(>F)\\\\\n  & <chr> & <dbl> & <dbl> & <dbl> & <dbl>\\\\\n\\hline\n\tModel\\_type & Model\\_type & 25.17356 & 1 & 29 & 2.417354e-05\\\\\n\\end{tabular}\n\n\\item[\\$Be\\_Friendly] A anova.art: 1 × 5\n\\begin{tabular}{r|lllll}\n  & Term & F & Df & Df.res & Pr(>F)\\\\\n  & <chr> & <dbl> & <dbl> & <dbl> & <dbl>\\\\\n\\hline\n\tModel\\_type & Model\\_type & 1.064029 & 1 & 29 & 0.3108246\\\\\n\\end{tabular}\n\n\\item[\\$Repair\\_Effort] A anova.art: 1 × 5\n\\begin{tabular}{r|lllll}\n  & Term & F & Df & Df.res & Pr(>F)\\\\\n  & <chr> & <dbl> & <dbl> & <dbl> & <dbl>\\\\\n\\hline\n\tModel\\_type & Model\\_type & 2.975127 & 1 & 29 & 0.09519785\\\\\n\\end{tabular}\n\n\\end{description}\n",
            "text/plain": [
              "$Cooperate\n",
              "Analysis of Variance of Aligned Rank Transformed Data\n",
              "\n",
              "Table Type: Analysis of Deviance Table (Type III Wald F tests with Kenward-Roger df) \n",
              "Model: Mixed Effects (lmer)\n",
              "Response: art(Value)\n",
              "\n",
              "                  F Df Df.res     Pr(>F)    \n",
              "1 Model_type 25.597  1     29 2.1506e-05 ***\n",
              "---\n",
              "Signif. codes:   0 ‘***’ 0.001 ‘**’ 0.01 ‘*’ 0.05 ‘.’ 0.1 ‘ ’ 1 \n",
              "\n",
              "$Betrayal\n",
              "Analysis of Variance of Aligned Rank Transformed Data\n",
              "\n",
              "Table Type: Analysis of Deviance Table (Type III Wald F tests with Kenward-Roger df) \n",
              "Model: Mixed Effects (lmer)\n",
              "Response: art(Value)\n",
              "\n",
              "                  F Df Df.res     Pr(>F)    \n",
              "1 Model_type 25.174  1     29 2.4174e-05 ***\n",
              "---\n",
              "Signif. codes:   0 ‘***’ 0.001 ‘**’ 0.01 ‘*’ 0.05 ‘.’ 0.1 ‘ ’ 1 \n",
              "\n",
              "$Be_Friendly\n",
              "Analysis of Variance of Aligned Rank Transformed Data\n",
              "\n",
              "Table Type: Analysis of Deviance Table (Type III Wald F tests with Kenward-Roger df) \n",
              "Model: Mixed Effects (lmer)\n",
              "Response: art(Value)\n",
              "\n",
              "                 F Df Df.res  Pr(>F)  \n",
              "1 Model_type 1.064  1     29 0.31082  \n",
              "---\n",
              "Signif. codes:   0 ‘***’ 0.001 ‘**’ 0.01 ‘*’ 0.05 ‘.’ 0.1 ‘ ’ 1 \n",
              "\n",
              "$Repair_Effort\n",
              "Analysis of Variance of Aligned Rank Transformed Data\n",
              "\n",
              "Table Type: Analysis of Deviance Table (Type III Wald F tests with Kenward-Roger df) \n",
              "Model: Mixed Effects (lmer)\n",
              "Response: art(Value)\n",
              "\n",
              "                  F Df Df.res   Pr(>F)  \n",
              "1 Model_type 2.9751  1     29 0.095198 .\n",
              "---\n",
              "Signif. codes:   0 ‘***’ 0.001 ‘**’ 0.01 ‘*’ 0.05 ‘.’ 0.1 ‘ ’ 1 \n"
            ]
          },
          "metadata": {}
        }
      ]
    },
    {
      "cell_type": "code",
      "source": [
        "library(dplyr)\n",
        "library(tidyr)\n",
        "library(ggplot2)\n",
        "\n",
        "# 假设你的数据框名称是 df\n",
        "\n",
        "# 筛选出 `model_type` 为 \"Purported Human\" 和 \"Human\" 的数据\n",
        "df_filtered <- df %>%\n",
        "  filter(Model_type %in% c(\"Purported Human\", \"Human\"))\n",
        "\n",
        "# 转换 `model_type` 为因子变量\n",
        "df_filtered$Model_type <- as.factor(df_filtered$Model_type)\n",
        "\n",
        "# 定义变量列表\n",
        "variables <- c(\"Cooperate\", \"Betrayal\", \"Be_Friendly\", \"Repair_Effort\")\n",
        "\n",
        "# 对每个变量进行 Wilcoxon 符号秩检验\n",
        "wilcox_results_list <- lapply(variables, function(var) {\n",
        "  # 创建子数据集，只包含一个变量\n",
        "  df_sub <- df_filtered %>%\n",
        "    select(Model_type, ID, !!sym(var))\n",
        "\n",
        "  # 将数据转换为宽格式，以便进行配对比较\n",
        "  df_wide <- df_sub %>%\n",
        "    pivot_wider(names_from = Model_type, values_from = !!sym(var))\n",
        "\n",
        "  # 进行 Wilcoxon 符号秩检验\n",
        "  wilcox_test <- wilcox.test(df_wide$`Purported Human`, df_wide$Human, paired = TRUE)\n",
        "\n",
        "  return(wilcox_test)\n",
        "})\n",
        "\n",
        "# 打印每个变量的 Wilcoxon 符号秩检验结果\n",
        "names(wilcox_results_list) <- variables\n",
        "wilcox_results_list\n"
      ],
      "metadata": {
        "colab": {
          "base_uri": "https://localhost:8080/",
          "height": 901
        },
        "id": "cyZLXTrsM88k",
        "outputId": "7fa415ae-c28b-40f3-8da3-b53f4f0de858",
        "collapsed": true
      },
      "execution_count": null,
      "outputs": [
        {
          "output_type": "stream",
          "name": "stderr",
          "text": [
            "Installing package into ‘/usr/local/lib/R/site-library’\n",
            "(as ‘lib’ is unspecified)\n",
            "\n",
            "Installing package into ‘/usr/local/lib/R/site-library’\n",
            "(as ‘lib’ is unspecified)\n",
            "\n",
            "Installing package into ‘/usr/local/lib/R/site-library’\n",
            "(as ‘lib’ is unspecified)\n",
            "\n",
            "Warning message in wilcox.test.default(df_wide$`Purported Human`, df_wide$Human, :\n",
            "“cannot compute exact p-value with ties”\n",
            "Warning message in wilcox.test.default(df_wide$`Purported Human`, df_wide$Human, :\n",
            "“cannot compute exact p-value with ties”\n",
            "Warning message in wilcox.test.default(df_wide$`Purported Human`, df_wide$Human, :\n",
            "“cannot compute exact p-value with ties”\n",
            "Warning message in wilcox.test.default(df_wide$`Purported Human`, df_wide$Human, :\n",
            "“cannot compute exact p-value with zeroes”\n"
          ]
        },
        {
          "output_type": "display_data",
          "data": {
            "text/plain": [
              "$Cooperate\n",
              "\n",
              "\tWilcoxon signed rank test with continuity correction\n",
              "\n",
              "data:  df_wide$`Purported Human` and df_wide$Human\n",
              "V = 34.5, p-value = 4.805e-05\n",
              "alternative hypothesis: true location shift is not equal to 0\n",
              "\n",
              "\n",
              "$Betrayal\n",
              "\n",
              "\tWilcoxon signed rank test with continuity correction\n",
              "\n",
              "data:  df_wide$`Purported Human` and df_wide$Human\n",
              "V = 430.5, p-value = 4.805e-05\n",
              "alternative hypothesis: true location shift is not equal to 0\n",
              "\n",
              "\n",
              "$Be_Friendly\n",
              "\n",
              "\tWilcoxon signed rank test with continuity correction\n",
              "\n",
              "data:  df_wide$`Purported Human` and df_wide$Human\n",
              "V = 307.5, p-value = 0.1254\n",
              "alternative hypothesis: true location shift is not equal to 0\n",
              "\n",
              "\n",
              "$Repair_Effort\n",
              "\n",
              "\tWilcoxon signed rank test with continuity correction\n",
              "\n",
              "data:  df_wide$`Purported Human` and df_wide$Human\n",
              "V = 324, p-value = 0.0219\n",
              "alternative hypothesis: true location shift is not equal to 0\n",
              "\n"
            ]
          },
          "metadata": {}
        }
      ]
    },
    {
      "cell_type": "code",
      "source": [
        "library(dplyr)\n",
        "library(tidyr)\n",
        "library(ggplot2)\n",
        "\n",
        "# 假设你已经有数据框 df\n",
        "# 例如：df <- read.csv(\"your_data.csv\")\n",
        "\n",
        "# 数据过滤和因子变量转换\n",
        "df_filtered <- df %>%\n",
        "  filter(Model_type %in% c(\"Purported Human\", \"Human\"))\n",
        "\n",
        "df_filtered$Model_type <- as.factor(df_filtered$Model_type)\n",
        "\n",
        "# 定义变量列表\n",
        "variables <- c(\"Cooperate\", \"Be_Friendly\", \"Repair_Effort\")\n",
        "\n",
        "# 检查数据框中是否存在所有变量\n",
        "missing_vars <- setdiff(variables, names(df_filtered))\n",
        "if (length(missing_vars) > 0) {\n",
        "  stop(\"数据框中缺少以下变量: \", paste(missing_vars, collapse = \", \"))\n",
        "}\n",
        "\n",
        "# 打印过滤后的数据框头部\n",
        "cat(\"过滤后的数据框头部:\\n\")\n",
        "print(head(df_filtered))\n",
        "\n",
        "# 对变量进行转换\n",
        "df_filtered <- df_filtered %>%\n",
        "  mutate(\n",
        "    Cooperate = Cooperate * 100,\n",
        "    Be_Friendly = Be_Friendly * 100,\n",
        "    Repair_Effort = Repair_Effort * 100\n",
        "  )\n",
        "\n",
        "# 标记0%的数据\n",
        "df_filtered <- df_filtered %>%\n",
        "  mutate(across(all_of(variables), ~ ifelse(. == 0, 0.1, .)))\n",
        "\n",
        "# 打印转换后的数据框头部\n",
        "cat(\"转换后的数据框头部:\\n\")\n",
        "print(head(df_filtered))\n",
        "\n",
        "# 进行 Wilcoxon 符号秩检验\n",
        "p_values <- sapply(variables, function(var) {\n",
        "  df_sub <- df_filtered %>%\n",
        "    select(Model_type, ID, !!sym(var))\n",
        "\n",
        "  df_wide <- df_sub %>%\n",
        "    pivot_wider(names_from = Model_type, values_from = !!sym(var))\n",
        "\n",
        "  df_wide <- df_wide %>%\n",
        "    mutate(across(c(`Purported Human`, Human), ~ . + runif(n(), -1e-10, 1e-10)))\n",
        "\n",
        "  test_result <- tryCatch({\n",
        "    wilcox.test(df_wide$`Purported Human`, df_wide$Human, paired = TRUE)\n",
        "  }, warning = function(w) {\n",
        "    message(\"变量 \", var, \" 的警告信息: \", w$message)\n",
        "    wilcox.test(df_wide$`Purported Human`, df_wide$Human, paired = TRUE, exact = FALSE)\n",
        "  })\n",
        "\n",
        "  return(test_result$p.value)\n",
        "})\n",
        "\n",
        "# 数据转换为长格式\n",
        "df_long <- df_filtered %>%\n",
        "  pivot_longer(cols = all_of(variables), names_to = \"Variable\", values_to = \"Value\")\n",
        "\n",
        "# 确保变量名称一致\n",
        "df_long$Variable <- factor(df_long$Variable, levels = variables)\n",
        "\n",
        "# 创建包含变量和 p 值的数据框\n",
        "p_values_df <- data.frame(Variable = variables, P_Value = p_values)\n",
        "\n",
        "# 过滤掉0%的数据\n",
        "df_long_no_zero <- df_long %>%\n",
        "  filter(Value != 0.1)\n",
        "\n",
        "# 打印长格式数据框和p值数据框\n",
        "cat(\"长格式数据框头部:\\n\")\n",
        "print(head(df_long_no_zero))\n",
        "cat(\"P 值数据框:\\n\")\n",
        "print(p_values_df)\n",
        "\n",
        "# 计算 y 轴上限，确保所有注释都在图内\n",
        "y_max <- max(df_long_no_zero$Value, na.rm = TRUE) + 30\n",
        "\n",
        "# 自定义颜色方案\n",
        "custom_colors <- c(\"Purported Human\" = \"#42BCB2\", \"Human\" = \"#235689\")\n",
        "\n",
        "p <- ggplot(df_long_no_zero, aes(x = Variable, y = Value, fill = Model_type)) +\n",
        "  geom_boxplot() +\n",
        "  stat_summary(fun = mean, geom = \"point\", shape = 21, size = 3, color = \"black\", fill = \"white\") +\n",
        "  scale_fill_manual(values = custom_colors) +\n",
        "  theme_minimal() +\n",
        "  labs(\n",
        "    title = \"Behavioural Differences Between Purported and Actual Human Opponents\",\n",
        "    x = \"Respond Variable\",  # 更改 x 轴标签\n",
        "    y = \"Percentage (%)\",\n",
        "    fill = \"Opponents' Nature\"\n",
        "  ) +\n",
        "  scale_y_continuous(limits = c(0, 110)) +\n",
        "  scale_x_discrete(labels = c(\"Cooperate\" = \"Cooperate\", \"Be_Friendly\" = \"Amicability\", \"Repair_Effort\" = \"Repair Effort\")) +  # 更改具体 x 轴标签\n",
        "  theme(\n",
        "    legend.position = \"top\",\n",
        "    panel.grid.major = element_blank(),\n",
        "    panel.grid.minor = element_blank(),\n",
        "    axis.line = element_line(colour = \"black\"),\n",
        "    axis.ticks = element_line(colour = \"black\"),\n",
        "    text = element_text(size = 16),\n",
        "    plot.title = element_text(size = 16, hjust = 0.5, face = \"bold\")  # 设置标题居中\n",
        "  )\n",
        "\n",
        "p <- p + geom_point(data = df_long %>% filter(Value == 0.1), aes(x = Variable, y = 0.1), color = \"black\", size = 2)\n",
        "\n",
        "# 打印每组的中位数\n",
        "for (var in variables) {\n",
        "  median_values <- df_filtered %>%\n",
        "    group_by(Model_type) %>%\n",
        "    summarise(Median = median(get(var), na.rm = TRUE))\n",
        "  cat(\"变量\", var, \"的中位数:\\n\")\n",
        "  print(median_values)\n",
        "}\n",
        "\n",
        "# 添加 p 值注释\n",
        "for (i in seq_along(variables)) {\n",
        "  variable <- variables[i]\n",
        "  p_val <- p_values_df$P_Value[p_values_df$Variable == variable]\n",
        "  max_value <- max(df_long_no_zero$Value[df_long_no_zero$Variable == variable], na.rm = TRUE)\n",
        "\n",
        "  if (is.na(max_value)) {\n",
        "    cat(\"Variable:\", variable, \"has no valid max value.\\n\")\n",
        "    next\n",
        "  }\n",
        "\n",
        "  annotation_position <- min(max_value + 5, 110 - 5)\n",
        "  p_val_text <- ifelse(p_val < 0.001, \"< 0.001\", sprintf(\"%.4f\", p_val))\n",
        "  cat(\"Variable:\", variable, \"Annotation Position:\", annotation_position, \"Max Value:\", max_value, \"P Value:\", p_val_text, \"\\n\")\n",
        "\n",
        "  p <- p +\n",
        "    annotate(\"text\", x = i, y = annotation_position, label = paste(\"p =\", p_val_text), vjust = 0, size = 5)\n",
        "}\n",
        "\n",
        "print(p)\n",
        "\n",
        "# 保存高清版的图\n",
        "ggsave(\n",
        "  filename = \"human.pdf\",  # 保存文件名\n",
        "  plot = p,  # 指定要保存的图\n",
        "  device = cairo_pdf,  # 使用Cairo库保存高质量的PDF\n",
        "  width = 10, height = 8,  # 图的宽度和高度（英寸）\n",
        "  dpi = 300  # 高分辨率\n",
        ")\n"
      ],
      "metadata": {
        "colab": {
          "base_uri": "https://localhost:8080/",
          "height": 1000
        },
        "id": "SyWW3QIRVlJ0",
        "outputId": "7b0324d0-81a7-4346-ba1f-e776e8d5446a"
      },
      "execution_count": null,
      "outputs": [
        {
          "output_type": "stream",
          "name": "stdout",
          "text": [
            "过滤后的数据框头部:\n",
            "\u001b[90m# A tibble: 6 × 14\u001b[39m\n",
            "  Nickname   Age ID    Sex   Model_type   Cooperate Betrayal Time  Earns Switchs\n",
            "  \u001b[3m\u001b[90m<chr>\u001b[39m\u001b[23m    \u001b[3m\u001b[90m<dbl>\u001b[39m\u001b[23m \u001b[3m\u001b[90m<chr>\u001b[39m\u001b[23m \u001b[3m\u001b[90m<chr>\u001b[39m\u001b[23m \u001b[3m\u001b[90m<fct>\u001b[39m\u001b[23m            \u001b[3m\u001b[90m<dbl>\u001b[39m\u001b[23m    \u001b[3m\u001b[90m<dbl>\u001b[39m\u001b[23m \u001b[3m\u001b[90m<chr>\u001b[39m\u001b[23m \u001b[3m\u001b[90m<dbl>\u001b[39m\u001b[23m   \u001b[3m\u001b[90m<dbl>\u001b[39m\u001b[23m\n",
            "\u001b[90m1\u001b[39m M1PH        23 M1    M     Purported H…      0.6        20 386     125      21\n",
            "\u001b[90m2\u001b[39m M2PH        23 M2    M     Purported H…      0.68       16 482     125       9\n",
            "\u001b[90m3\u001b[39m M3PH        23 M3    M     Purported H…      0.52       24 819     114      19\n",
            "\u001b[90m4\u001b[39m M4PH        22 M4    M     Purported H…      0.64       18 631     129       7\n",
            "\u001b[90m5\u001b[39m M5PH        24 M5    M     Purported H…      0.62       19 604     124      11\n",
            "\u001b[90m6\u001b[39m M6PH        26 M6    M     Purported H…      0.64       18 490     130      11\n",
            "\u001b[90m# ℹ 4 more variables: Be_Friendly <dbl>, Repair_Effort <dbl>,\u001b[39m\n",
            "\u001b[90m#   Be_Friendly_Weighted <dbl>, Repair_Effort_Weighted <dbl>\u001b[39m\n",
            "转换后的数据框头部:\n",
            "\u001b[90m# A tibble: 6 × 14\u001b[39m\n",
            "  Nickname   Age ID    Sex   Model_type   Cooperate Betrayal Time  Earns Switchs\n",
            "  \u001b[3m\u001b[90m<chr>\u001b[39m\u001b[23m    \u001b[3m\u001b[90m<dbl>\u001b[39m\u001b[23m \u001b[3m\u001b[90m<chr>\u001b[39m\u001b[23m \u001b[3m\u001b[90m<chr>\u001b[39m\u001b[23m \u001b[3m\u001b[90m<fct>\u001b[39m\u001b[23m            \u001b[3m\u001b[90m<dbl>\u001b[39m\u001b[23m    \u001b[3m\u001b[90m<dbl>\u001b[39m\u001b[23m \u001b[3m\u001b[90m<chr>\u001b[39m\u001b[23m \u001b[3m\u001b[90m<dbl>\u001b[39m\u001b[23m   \u001b[3m\u001b[90m<dbl>\u001b[39m\u001b[23m\n",
            "\u001b[90m1\u001b[39m M1PH        23 M1    M     Purported H…        60       20 386     125      21\n",
            "\u001b[90m2\u001b[39m M2PH        23 M2    M     Purported H…        68       16 482     125       9\n",
            "\u001b[90m3\u001b[39m M3PH        23 M3    M     Purported H…        52       24 819     114      19\n",
            "\u001b[90m4\u001b[39m M4PH        22 M4    M     Purported H…        64       18 631     129       7\n",
            "\u001b[90m5\u001b[39m M5PH        24 M5    M     Purported H…        62       19 604     124      11\n",
            "\u001b[90m6\u001b[39m M6PH        26 M6    M     Purported H…        64       18 490     130      11\n",
            "\u001b[90m# ℹ 4 more variables: Be_Friendly <dbl>, Repair_Effort <dbl>,\u001b[39m\n",
            "\u001b[90m#   Be_Friendly_Weighted <dbl>, Repair_Effort_Weighted <dbl>\u001b[39m\n",
            "长格式数据框头部:\n",
            "\u001b[90m# A tibble: 6 × 13\u001b[39m\n",
            "  Nickname   Age ID    Sex   Model_type      Betrayal Time  Earns Switchs\n",
            "  \u001b[3m\u001b[90m<chr>\u001b[39m\u001b[23m    \u001b[3m\u001b[90m<dbl>\u001b[39m\u001b[23m \u001b[3m\u001b[90m<chr>\u001b[39m\u001b[23m \u001b[3m\u001b[90m<chr>\u001b[39m\u001b[23m \u001b[3m\u001b[90m<fct>\u001b[39m\u001b[23m              \u001b[3m\u001b[90m<dbl>\u001b[39m\u001b[23m \u001b[3m\u001b[90m<chr>\u001b[39m\u001b[23m \u001b[3m\u001b[90m<dbl>\u001b[39m\u001b[23m   \u001b[3m\u001b[90m<dbl>\u001b[39m\u001b[23m\n",
            "\u001b[90m1\u001b[39m M1PH        23 M1    M     Purported Human       20 386     125      21\n",
            "\u001b[90m2\u001b[39m M1PH        23 M1    M     Purported Human       20 386     125      21\n",
            "\u001b[90m3\u001b[39m M1PH        23 M1    M     Purported Human       20 386     125      21\n",
            "\u001b[90m4\u001b[39m M2PH        23 M2    M     Purported Human       16 482     125       9\n",
            "\u001b[90m5\u001b[39m M2PH        23 M2    M     Purported Human       16 482     125       9\n",
            "\u001b[90m6\u001b[39m M2PH        23 M2    M     Purported Human       16 482     125       9\n",
            "\u001b[90m# ℹ 4 more variables: Be_Friendly_Weighted <dbl>, Repair_Effort_Weighted <dbl>,\u001b[39m\n",
            "\u001b[90m#   Variable <fct>, Value <dbl>\u001b[39m\n",
            "P 值数据框:\n",
            "                   Variable      P_Value\n",
            "Cooperate         Cooperate 1.060963e-05\n",
            "Be_Friendly     Be_Friendly 1.347351e-01\n",
            "Repair_Effort Repair_Effort 2.478605e-02\n",
            "变量 Cooperate 的中位数:\n",
            "\u001b[90m# A tibble: 2 × 2\u001b[39m\n",
            "  Model_type      Median\n",
            "  \u001b[3m\u001b[90m<fct>\u001b[39m\u001b[23m            \u001b[3m\u001b[90m<dbl>\u001b[39m\u001b[23m\n",
            "\u001b[90m1\u001b[39m Human               71\n",
            "\u001b[90m2\u001b[39m Purported Human     58\n",
            "变量 Be_Friendly 的中位数:\n",
            "\u001b[90m# A tibble: 2 × 2\u001b[39m\n",
            "  Model_type      Median\n",
            "  \u001b[3m\u001b[90m<fct>\u001b[39m\u001b[23m            \u001b[3m\u001b[90m<dbl>\u001b[39m\u001b[23m\n",
            "\u001b[90m1\u001b[39m Human             37.5\n",
            "\u001b[90m2\u001b[39m Purported Human   39.6\n",
            "变量 Repair_Effort 的中位数:\n",
            "\u001b[90m# A tibble: 2 × 2\u001b[39m\n",
            "  Model_type      Median\n",
            "  \u001b[3m\u001b[90m<fct>\u001b[39m\u001b[23m            \u001b[3m\u001b[90m<dbl>\u001b[39m\u001b[23m\n",
            "\u001b[90m1\u001b[39m Human             37.5\n",
            "\u001b[90m2\u001b[39m Purported Human   42.3\n",
            "Variable: Cooperate Annotation Position: 105 Max Value: 100 P Value: < 0.001 \n",
            "Variable: Be_Friendly Annotation Position: 80 Max Value: 75 P Value: 0.1347 \n",
            "Variable: Repair_Effort Annotation Position: 76.43 Max Value: 71.43 P Value: 0.0248 \n"
          ]
        },
        {
          "output_type": "display_data",
          "data": {
            "text/plain": [
              "plot without title"
            ],
            "image/png": "[encoded data removed]"
          },
          "metadata": {
            "image/png": {
              "width": 420,
              "height": 420
            }
          }
        }
      ]
    },
    {
      "cell_type": "code",
      "source": [
        "install.packages(\"reshape2\")\n",
        "install.packages(\"tidyr\")\n",
        "install.packages(\"ggridges\")\n",
        "install.packages(\"viridis\")"
      ],
      "metadata": {
        "id": "Jc70ERTWQO6h",
        "colab": {
          "base_uri": "https://localhost:8080/"
        },
        "outputId": "7319246d-2530-45b3-bf0d-1337c1bc4de8"
      },
      "execution_count": null,
      "outputs": [
        {
          "output_type": "stream",
          "name": "stderr",
          "text": [
            "Installing package into ‘/usr/local/lib/R/site-library’\n",
            "(as ‘lib’ is unspecified)\n",
            "\n",
            "Installing package into ‘/usr/local/lib/R/site-library’\n",
            "(as ‘lib’ is unspecified)\n",
            "\n",
            "Installing package into ‘/usr/local/lib/R/site-library’\n",
            "(as ‘lib’ is unspecified)\n",
            "\n",
            "Installing package into ‘/usr/local/lib/R/site-library’\n",
            "(as ‘lib’ is unspecified)\n",
            "\n",
            "also installing the dependency ‘gridExtra’\n",
            "\n",
            "\n"
          ]
        }
      ]
    },
    {
      "cell_type": "code",
      "source": [
        "# 创建热图，使用平方根缩放并将其横过来显示\n",
        "p <- ggplot(combined_data, aes(x = Sex_Model, y = Rank, fill = Time, label = ID)) +\n",
        "  geom_tile(color = \"white\") +\n",
        "  geom_text(size = 2.5, color = \"black\") +  # 设置文本标签的大小\n",
        "  scale_fill_gradientn(\n",
        "    colors = c(\"#ffffd9\", \"#edf8b1\", \"#c7e9b4\", \"#7fcdbb\", \"#41b6c4\", \"#1d91c0\", \"#225ea8\", \"#253494\", \"#081d58\", \"#4b0082\"),\n",
        "    values = rescale(c(0, 100, 200, 250, 300, 350, 400, 450, 500, 600, 700, 800, 900, 1000)),\n",
        "    trans = \"sqrt\", na.value = \"grey50\"\n",
        "  ) +\n",
        "  theme_minimal() +\n",
        "  labs(title = \"Completion Time by Opponents' Nature and Gender\",\n",
        "       x = \"Gender & Purported Opponents' Nature\",\n",
        "       y = \"Rank\",\n",
        "       fill = \"Seconds\") +\n",
        "  theme(\n",
        "    axis.text.x = element_text(angle = 45, hjust = 1, size = 8),  # 设置 x 轴刻度文本的大小\n",
        "    axis.text.y = element_text(size = 8),  # 设置 y 轴刻度文本的大小\n",
        "    axis.title.x = element_text(size = 12),  # 设置 x 轴标签的大小\n",
        "    axis.title.y = element_text(size = 12),  # 设置 y 轴标签的大小\n",
        "    plot.title = element_text(hjust = 0.5, size = 12, face = \"bold\"),  # 设置图标题的大小\n",
        "    legend.title = element_text(size = 10),  # 设置图例标题的大小\n",
        "    legend.text = element_text(size = 8),  # 设置图例文本的大小\n",
        "    panel.grid.major = element_blank(),  # 去除主网格线\n",
        "    panel.grid.minor = element_blank()  # 去除次网格线\n",
        "  ) +\n",
        "  scale_x_discrete(labels = x_axis_labels) +\n",
        "  coord_fixed(ratio = 1)\n",
        "\n",
        "# 绘制图形\n",
        "print(p)\n",
        "\n",
        "# 保存高清版的图\n",
        "ggsave(\n",
        "  filename = \"time.pdf\",  # 保存文件名\n",
        "  plot = p,  # 指定要保存的图\n",
        "  device = cairo_pdf,  # 使用Cairo库保存高质量的PDF\n",
        "  width = 10, height = 8,  # 图的宽度和高度（英寸）\n",
        "  dpi = 300  # 高分辨率\n",
        ")"
      ],
      "metadata": {
        "colab": {
          "base_uri": "https://localhost:8080/",
          "height": 445
        },
        "id": "gi5CFT9zSlgt",
        "outputId": "9d36c216-b689-4c8b-ce99-07e5e0e5469a"
      },
      "execution_count": null,
      "outputs": [
        {
          "output_type": "error",
          "ename": "ERROR",
          "evalue": "Error in rescale(c(0, 100, 200, 250, 300, 350, 400, 450, 500, 600, 700, : could not find function \"rescale\"\n",
          "traceback": [
            "Error in rescale(c(0, 100, 200, 250, 300, 350, 400, 450, 500, 600, 700, : could not find function \"rescale\"\nTraceback:\n",
            "1. continuous_scale(aesthetics, name = name, palette = pal_gradient_n(colours, \n .     values, space), na.value = na.value, guide = guide, ...)",
            "2. ggproto(NULL, super, call = call, aesthetics = aesthetics, palette = palette, \n .     range = ContinuousRange$new(), limits = limits, trans = transform, \n .     na.value = na.value, expand = expand, rescaler = rescaler, \n .     oob = oob, name = name, breaks = breaks, minor_breaks = minor_breaks, \n .     n.breaks = n.breaks, labels = labels, guide = guide, position = position)",
            "3. list2(...)",
            "4. pal_gradient_n(colours, values, space)",
            "5. force(values)",
            "6. .handleSimpleError(function (cnd) \n . {\n .     watcher$capture_plot_and_output()\n .     cnd <- sanitize_call(cnd)\n .     watcher$push(cnd)\n .     switch(on_error, continue = invokeRestart(\"eval_continue\"), \n .         stop = invokeRestart(\"eval_stop\"), error = invokeRestart(\"eval_error\", \n .             cnd))\n . }, \"could not find function \\\"rescale\\\"\", base::quote(rescale(c(0, \n .     100, 200, 250, 300, 350, 400, 450, 500, 600, 700, 800, 900, \n .     1000))))"
          ]
        }
      ]
    },
    {
      "cell_type": "code",
      "source": [
        "#install.packages(\"ggpubr\")\n",
        "# 加载必要的包\n",
        "\n",
        "library(ggplot2)\n",
        "library(ggpubr)\n",
        "library(dplyr)\n",
        "library(ggsignif)\n",
        "\n",
        "# 过滤掉 Human 类别\n",
        "df_filtered <- df %>%\n",
        "  filter(Model_type != \"Human\")\n",
        "\n",
        "# 确保 Be_Friendly 列是数值型，并将其转换为百分比\n",
        "df_filtered$Be_Friendly <- as.numeric(as.character(df_filtered$Be_Friendly)) * 100\n",
        "\n",
        "# 创建分组变量\n",
        "df_filtered$Group <- interaction(df_filtered$Sex, df_filtered$Model_type, sep = \"_\")\n",
        "\n",
        "# 列出所有可能的比较组\n",
        "comparisons <- combn(unique(df_filtered$Group), 2, simplify = FALSE)\n",
        "\n",
        "# 打印所有可能的比较组\n",
        "print(\"所有可能的比较组:\")\n",
        "for (i in 1:length(comparisons)) {\n",
        "  print(paste(\"比较组\", i, \":\", comparisons[[i]][1], \"vs\", comparisons[[i]][2]))\n",
        "}\n",
        "\n",
        "# 选择需要显示的比较组（例如第 1 和第 3 个比较组）\n",
        "selected_comparisons <- list(comparisons[[8]], comparisons[[1]], comparisons[[2]], comparisons[[15]])\n",
        "\n",
        "# 手动指定选择的比较组的 p 值\n",
        "selected_p_values <- c(0.0113, 0.0013, 0.0049, 0.0441)\n",
        "\n",
        "# 格式化 p 值到小数点后四位\n",
        "# formatted_p_values <- sprintf(\"%.4f\", selected_p_values)\n",
        "\n",
        "# 打印选择的比较组和对应的 p 值，进行验证\n",
        "for (i in 1:length(selected_comparisons)) {\n",
        "  cat(\"Comparing:\", selected_comparisons[[i]][1], \"vs\", selected_comparisons[[i]][2], \"\\n\")\n",
        "  cat(\"p-value:\", selected_p_values[i], \"\\n\\n\")\n",
        "}\n",
        "\n",
        "# 自定义颜色\n",
        "# custom_colors <- c(\"#E69F00\", \"#56B4E9\", \"#009E73\", \"#F0E442\", \"#0072B2\", \"#D55E00\")\n",
        "custom_colors <- c(\"#D8E2E8\", \"#A2C4DD\", \"#668CAD\", \"#E7AC72\", \"#174F75\", \"#4396C3\")\n",
        "\n",
        "\n",
        "\n",
        "# 计算每组的均值、中位数和标准差\n",
        "group_stats <- df_filtered %>%\n",
        "  group_by(Group) %>%\n",
        "  summarise(\n",
        "    mean = mean(Be_Friendly, na.rm = TRUE),\n",
        "    median = median(Be_Friendly, na.rm = TRUE),\n",
        "    sd = sd(Be_Friendly, na.rm = TRUE)\n",
        "  )\n",
        "\n",
        "# 自定义X轴标签和图例标签\n",
        "x_labels <- c(\n",
        "  \"F_LLM\" = \"A\",\n",
        "  \"M_LLM\" = \"B\",\n",
        "  \"F_Purported Human\" = \"C\",\n",
        "  \"M_Purported Human\" = \"D\",\n",
        "  \"F_Purported Interpretable\" = \"E\",\n",
        "  \"M_Purported Interpretable\" = \"F\"\n",
        "\n",
        ")\n",
        "\n",
        "legend_labels <- c(\n",
        "  \"F_LLM\" = \"A: F/LLM Agent\",\n",
        "  \"M_LLM\" = \"B: M/LLM Agent\",\n",
        "  \"F_Purported Human\" = \"C: F/Purported Human\",\n",
        "  \"M_Purported Human\" = \"D: M/Purported Human\",\n",
        "  \"F_Purported Interpretable\" = \"E: F/Purported Rule-based AI Agent\",\n",
        "  \"M_Purported Interpretable\" = \"F: M/Purported Rule-based AI Agent\"\n",
        ")\n",
        "\n",
        "# 绘制箱线图并添加自定义注释\n",
        "p <- ggplot(df_filtered, aes(x = Group, y = Be_Friendly, fill = Group)) +\n",
        "  geom_boxplot(width = 0.8, alpha = 0.85) +  # 调整箱线图的宽度\n",
        "  scale_fill_manual(values = custom_colors, labels = legend_labels) +\n",
        "  # scale_fill_manual(values = custom_colors) +\n",
        "  labs(title = \"Amicability by Gender and Purported Opponents' Nature\",\n",
        "       x = \"Gender & Purported Opponents' Nature\",\n",
        "       y = \"Amicability (%)\") +\n",
        "  theme_minimal() +\n",
        "  theme(plot.title = element_text(hjust = 0.5, size = 18, face = \"bold\"),\n",
        "        axis.title.x = element_text(size = 16),\n",
        "        axis.title.y = element_text(size = 16),\n",
        "        axis.text.x = element_text(size = 14, hjust = 1),\n",
        "        axis.text.y = element_text(size = 14),\n",
        "        legend.position = \"top\", # 将图例放置在上方\n",
        "\n",
        "        panel.grid = element_blank(),  # 去掉网格线\n",
        "        axis.line = element_line(color = \"black\"),  # 添加x轴和y轴\n",
        "        axis.ticks = element_line(color = \"black\"))+ # 添加刻度线\n",
        "\n",
        "  stat_summary(fun = mean, geom = \"point\", shape = 18, size = 3, color = \"black\") +\n",
        "  stat_summary(fun.data = mean_sdl, fun.args = list(mult = 1),\n",
        "               geom = \"errorbar\", color = \"black\", width = 0.2) +\n",
        "  scale_y_continuous(limits = c(0, 100), breaks = seq(0, 100, by = 20)) +  # 设置 y 轴的限制和间距\n",
        "  scale_x_discrete(labels = x_labels)\n",
        "\n",
        "# 添加手动指定的 p 值和比较线，并自定义注释内容\n",
        "max_y <- max(df_filtered$Be_Friendly, na.rm = TRUE)\n",
        "y_step <- 0.05 * (max_y - min(df_filtered$Be_Friendly, na.rm = TRUE))\n",
        "\n",
        "# 调整 y_step 以确保比较线不太靠近箱线图\n",
        "y_step <- 0.1 * (max_y - min(df_filtered$Be_Friendly, na.rm = TRUE))\n",
        "\n",
        "# 打印调试信息\n",
        "print(paste(\"max_y:\", max_y))\n",
        "print(paste(\"y_step:\", y_step))\n",
        "\n",
        "for (i in 1:length(selected_comparisons)) {\n",
        "  comp <- selected_comparisons[[i]]\n",
        "  p_val <- selected_p_values[i]\n",
        "  annotation_text <- paste(\"p =\", round(p_val, 4))\n",
        "  print(paste(\"Comparison:\", comp[1], \"vs\", comp[2], \"p-value:\", p_val, \"y_position:\", max_y + i * y_step)) # 调试信息\n",
        "  p <- p + geom_signif(comparisons = list(as.character(comp)),\n",
        "                       annotations = annotation_text,\n",
        "                       y_position = max_y + (i - 4.5) * y_step,  # 将比较线往下一点\n",
        "                       tip_length = 0.03,\n",
        "                       textsize = 4)\n",
        "}\n",
        "\n",
        "# 添加均值、中位数和标准差的标签\n",
        "for(i in 1:nrow(group_stats)) {\n",
        "  p <- p + annotate(\"text\", x = i, y = group_stats$mean[i] - 0.2 * max_y,\n",
        "                    label = paste0(\"AVG: \", round(group_stats$mean[i], 2), \"%\"),\n",
        "                    size = 4, color = \"black\") +\n",
        "    annotate(\"text\", x = i, y = group_stats$median[i] - 0.3 * max_y,\n",
        "             label = paste0(\"Md: \", round(group_stats$median[i], 2), \"%\"),\n",
        "             size = 4, color = \"black\") +\n",
        "    annotate(\"text\", x = i, y = group_stats$mean[i] -  0.25 * max_y,\n",
        "             label = paste0(\"SD: \", round(group_stats$sd[i], 2), \"%\"),\n",
        "             size = 4, color = \"black\")\n",
        "}\n",
        "\n",
        "# 调整图例文本和符号大小\n",
        "p <- p + theme(\n",
        "  legend.text = element_text(size = 13),  # 调整图例文本的大小\n",
        "  legend.title = element_text(size = 15), # 调整图例标题的大小\n",
        "  legend.key.size = unit(1.4, \"lines\")    # 调整图例符号的大小\n",
        ")\n",
        "\n",
        "# 显示图形\n",
        "print(p)\n",
        "\n",
        "# 保存高清版的图\n",
        "ggsave(\n",
        "  filename = \"friendly.pdf\",  # 保存文件名\n",
        "  plot = p,  # 指定要保存的图\n",
        "  device = cairo_pdf,  # 使用Cairo库保存高质量的PDF\n",
        "  width = 10, height = 8,  # 图的宽度和高度（英寸）\n",
        "  dpi = 300  # 高分辨率\n",
        ")\n",
        "\n",
        "\n",
        "\n"
      ],
      "metadata": {
        "colab": {
          "base_uri": "https://localhost:8080/",
          "height": 1000
        },
        "id": "LfiQFEJY0MLA",
        "outputId": "3695b581-0b4b-43b7-c2df-4c8b4771a7f6"
      },
      "execution_count": null,
      "outputs": [
        {
          "output_type": "stream",
          "name": "stdout",
          "text": [
            "[1] \"所有可能的比较组:\"\n",
            "[1] \"比较组 1 : M_Purported Human vs M_Purported Rule-Based Agents\"\n",
            "[1] \"比较组 2 : M_Purported Human vs M_Purported LLM Agents\"\n",
            "[1] \"比较组 3 : M_Purported Human vs F_Purported Human\"\n",
            "[1] \"比较组 4 : M_Purported Human vs F_Purported Rule-Based Agents\"\n",
            "[1] \"比较组 5 : M_Purported Human vs F_Purported LLM Agents\"\n",
            "[1] \"比较组 6 : M_Purported Rule-Based Agents vs M_Purported LLM Agents\"\n",
            "[1] \"比较组 7 : M_Purported Rule-Based Agents vs F_Purported Human\"\n",
            "[1] \"比较组 8 : M_Purported Rule-Based Agents vs F_Purported Rule-Based Agents\"\n",
            "[1] \"比较组 9 : M_Purported Rule-Based Agents vs F_Purported LLM Agents\"\n",
            "[1] \"比较组 10 : M_Purported LLM Agents vs F_Purported Human\"\n",
            "[1] \"比较组 11 : M_Purported LLM Agents vs F_Purported Rule-Based Agents\"\n",
            "[1] \"比较组 12 : M_Purported LLM Agents vs F_Purported LLM Agents\"\n",
            "[1] \"比较组 13 : F_Purported Human vs F_Purported Rule-Based Agents\"\n",
            "[1] \"比较组 14 : F_Purported Human vs F_Purported LLM Agents\"\n",
            "[1] \"比较组 15 : F_Purported Rule-Based Agents vs F_Purported LLM Agents\"\n",
            "Comparing: 6 vs 5 \n",
            "p-value: 0.0113 \n",
            "\n",
            "Comparing: 2 vs 6 \n",
            "p-value: 0.0013 \n",
            "\n",
            "Comparing: 2 vs 4 \n",
            "p-value: 0.0049 \n",
            "\n",
            "Comparing: 5 vs 3 \n",
            "p-value: 0.0441 \n",
            "\n",
            "[1] \"max_y: 100\"\n",
            "[1] \"y_step: 10\"\n",
            "[1] \"Comparison: M_Purported Rule-Based Agents vs F_Purported Rule-Based Agents p-value: 0.0113 y_position: 110\"\n",
            "[1] \"Comparison: M_Purported Human vs M_Purported Rule-Based Agents p-value: 0.0013 y_position: 120\"\n",
            "[1] \"Comparison: M_Purported Human vs M_Purported LLM Agents p-value: 0.0049 y_position: 130\"\n",
            "[1] \"Comparison: F_Purported Rule-Based Agents vs F_Purported LLM Agents p-value: 0.0441 y_position: 140\"\n"
          ]
        },
        {
          "output_type": "stream",
          "name": "stderr",
          "text": [
            "Warning message:\n",
            "“\u001b[1m\u001b[22mComputation failed in `stat_summary()`.\n",
            "Caused by error in `fun.data()`:\n",
            "\u001b[1m\u001b[22m\u001b[33m!\u001b[39m The package \"Hmisc\" is required.”\n",
            "Warning message:\n",
            "“\u001b[1m\u001b[22mComputation failed in `stat_summary()`.\n",
            "Caused by error in `fun.data()`:\n",
            "\u001b[1m\u001b[22m\u001b[33m!\u001b[39m The package \"Hmisc\" is required.”\n"
          ]
        },
        {
          "output_type": "display_data",
          "data": {
            "text/plain": [
              "plot without title"
            ],
            "image/png": "[encoded data removed]"
          },
          "metadata": {
            "image/png": {
              "width": 420,
              "height": 420
            }
          }
        }
      ]
    },
    {
      "cell_type": "code",
      "source": [
        "if (!requireNamespace(\"ggridges\", quietly = TRUE)) {\n",
        "  install.packages(\"ggridges\")\n",
        "}\n",
        "# 加载必要的包\n",
        "#install.packages(\"ggpubr\")\n",
        "library(ggplot2)\n",
        "library(ggpubr)\n",
        "library(dplyr)\n",
        "library(ggsignif)\n",
        "\n",
        "\n",
        "# 过滤掉 Human 类别\n",
        "df_filtered <- df %>%\n",
        "  filter(Model_type != \"Human\")\n",
        "\n",
        "# 确保 Repair_Effort 列是数值型，并将其转换为百分比\n",
        "df_filtered$Repair_Effort <- as.numeric(as.character(df_filtered$Repair_Effort)) * 100\n",
        "\n",
        "# 创建分组变量，仅根据 Model_type 进行分组\n",
        "df_filtered$Group <- df_filtered$Model_type\n",
        "\n",
        "# 列出所有可能的比较组\n",
        "comparisons <- combn(unique(df_filtered$Group), 2, simplify = FALSE)\n",
        "\n",
        "# 打印所有可能的比较组\n",
        "print(\"所有可能的比较组:\")\n",
        "for (i in 1:length(comparisons)) {\n",
        "  print(paste(\"比较组\", i, \":\", comparisons[[i]][1], \"vs\", comparisons[[i]][2]))\n",
        "}\n",
        "\n",
        "# 选择需要显示的比较组（例如第 1 和第 3 个比较组）\n",
        "selected_comparisons <- list(comparisons[[2]],comparisons[[1]])\n",
        "\n",
        "# 手动指定选择的比较组的 p 值\n",
        "selected_p_values <- c(0.0070,0.060)\n",
        "\n",
        "# 打印选择的比较组和对应的 p 值，进行验证\n",
        "for (i in 1:length(selected_comparisons)) {\n",
        "  cat(\"Comparing:\", selected_comparisons[[i]][1], \"vs\", selected_comparisons[[i]][2], \"\\n\")\n",
        "  cat(\"p-value:\", selected_p_values[i], \"\\n\\n\")\n",
        "}\n",
        "\n",
        "# 自定义颜色\n",
        "custom_colors <- c(\"#EE8227\", \"#8982BB\", \"#79ADD6\")\n",
        "\n",
        "# 计算每组的均值、中位数和标准差\n",
        "group_stats <- df_filtered %>%\n",
        "  group_by(Group) %>%\n",
        "  summarise(\n",
        "    mean = mean(Repair_Effort, na.rm = TRUE),\n",
        "    median = median(Repair_Effort, na.rm = TRUE),\n",
        "    sd = sd(Repair_Effort, na.rm = TRUE)\n",
        "  )\n",
        "\n",
        "# 自定义X轴标签和图例标签\n",
        "x_labels <- c(\n",
        "  \"LLM\" = \"A\",\n",
        "  \"Purported Human\" = \"B\",\n",
        "  \"Purported Interpretable\" = \"C\"\n",
        ")\n",
        "\n",
        "legend_labels <- c(\n",
        "  \"LLM\" = \"A: LLM Agent\",\n",
        "  \"Purported Human\" = \"B: Purported Human\",\n",
        "  \"Purported Interpretable\" = \"C: Purported Rule-based AI Agent\"\n",
        ")\n",
        "\n",
        "\n",
        "# 假设 df_filtered, custom_colors, legend_labels, x_labels, selected_comparisons, selected_p_values 和 group_stats 是预先定义的对象\n",
        "\n",
        "p <- ggplot(df_filtered, aes(x = Repair_Effort, y = Group, fill = Group)) +\n",
        "  geom_density_ridges(scale = 1.2, rel_min_height = 0.01, alpha = 0.9, size = 0.5) + # 绘制山峦图\n",
        "  scale_fill_manual(values = custom_colors, labels = legend_labels) +\n",
        "  labs(title = \"Repair Effort by Purported Opponents' Nature\",\n",
        "       x = \"Repair Effort (%)\",\n",
        "       y = \"Purported Opponents' Nature\") +\n",
        "  theme_minimal() +\n",
        "  theme(plot.title = element_text(hjust = 0.5, size = 16, face = \"bold\"),\n",
        "        axis.title.x = element_text(size = 14),\n",
        "        axis.title.y = element_text(size = 14),\n",
        "        axis.text.x = element_text(size = 13),\n",
        "        axis.text.y = element_text(size = 13),\n",
        "        legend.position = \"top\", # 将图例放置在上方\n",
        "        panel.grid = element_blank(),  # 去掉网格线\n",
        "        axis.line = element_line(color = \"black\"),  # 添加x轴和y轴\n",
        "        axis.ticks = element_line(color = \"black\")) + # 添加刻度线\n",
        "  scale_x_continuous(limits = c(10, 90), breaks = seq(10, 90, by = 20)) +  # 设置 x 轴的限制和间距\n",
        "  scale_y_discrete(labels = x_labels)\n",
        "\n",
        "# 添加手动指定的 p 值和比较线，并自定义注释内容\n",
        "max_y <- max(df_filtered$Repair_Effort, na.rm = TRUE)\n",
        "y_step <- 0.1 * (max_y - min(df_filtered$Repair_Effort, na.rm = TRUE))\n",
        "\n",
        "# 打印调试信息\n",
        "print(paste(\"max_y:\", max_y))\n",
        "print(paste(\"y_step:\", y_step))\n",
        "\n",
        "for (i in 1:length(selected_comparisons)) {\n",
        "  comp <- selected_comparisons[[i]]\n",
        "  p_val <- selected_p_values[i]\n",
        "  annotation_text <- paste(\"p =\", round(p_val, 4))\n",
        "  print(paste(\"Comparison:\", comp[1], \"vs\", comp[2], \"p-value:\", p_val, \"y_position:\", max_y + i * y_step)) # 调试信息\n",
        "  p <- p + geom_signif(comparisons = list(as.character(comp)),\n",
        "                       annotations = annotation_text,\n",
        "                       y_position = max_y + (i + 0.5) * y_step,  # 将比较线往下一点\n",
        "                       tip_length = 0.03,\n",
        "                       textsize = 4)\n",
        "}\n",
        "\n",
        "# 添加均值、中位数和标准差的标签\n",
        "for(i in 1:nrow(group_stats)) {\n",
        "  p <- p + annotate(\"text\", x = group_stats$mean[i], y = i + 0.2,\n",
        "                    label = paste0(\"AVG: \", round(group_stats$mean[i], 2), \"%\"),\n",
        "                    size = 4, color = \"black\", vjust = 0) +\n",
        "    annotate(\"text\", x = group_stats$median[i], y = i + 0.1,\n",
        "             label = paste0(\"Md: \", round(group_stats$median[i], 2), \"%\"),\n",
        "             size = 4, color = \"black\", vjust = 0) +\n",
        "    annotate(\"text\", x = group_stats$mean[i] + 5, y = i + 0.3,\n",
        "             label = paste0(\"SD: \", round(group_stats$sd[i], 2), \"%\"),\n",
        "             size = 4, color = \"black\", vjust = 0)\n",
        "}\n",
        "\n",
        "# 调整图例文本和符号大小\n",
        "p <- p + theme(\n",
        "  legend.text = element_text(size = 11),  # 调整图例文本的大小\n",
        "  legend.title = element_text(size = 14), # 调整图例标题的大小\n",
        "  legend.key.size = unit(1.3, \"lines\")    # 调整图例符号的大小\n",
        ")\n",
        "\n",
        "# 显示图形\n",
        "print(p)\n",
        "\n",
        "# 保存高清版的图\n",
        "ggsave(\n",
        "  filename = \"repair.pdf\",  # 保存文件名\n",
        "  plot = p,  # 指定要保存的图\n",
        "  device = cairo_pdf,  # 使用Cairo库保存高质量的PDF\n",
        "  width = 8, height = 7,  # 图的宽度和高度（英寸）\n",
        "  dpi = 300  # 高分辨率\n",
        ")\n"
      ],
      "metadata": {
        "colab": {
          "base_uri": "https://localhost:8080/",
          "height": 1000
        },
        "id": "hkxVWeg-SN_N",
        "outputId": "445fd79e-22ab-459a-c2e4-71d2540c0643"
      },
      "execution_count": null,
      "outputs": [
        {
          "output_type": "stream",
          "name": "stdout",
          "text": [
            "[1] \"所有可能的比较组:\"\n",
            "[1] \"比较组 1 : Purported Human vs Purported Interpretable\"\n",
            "[1] \"比较组 2 : Purported Human vs LLM\"\n",
            "[1] \"比较组 3 : Purported Interpretable vs LLM\"\n",
            "Comparing: Purported Human vs LLM \n",
            "p-value: 0.007 \n",
            "\n",
            "Comparing: Purported Human vs Purported Interpretable \n",
            "p-value: 0.06 \n",
            "\n"
          ]
        },
        {
          "output_type": "stream",
          "name": "stderr",
          "text": [
            "Warning message in geom_density_ridges(scale = 1.2, rel_min_height = 0.01, alpha = 0.9, :\n",
            "“\u001b[1m\u001b[22mIgnoring unknown parameters: `size`”\n"
          ]
        },
        {
          "output_type": "stream",
          "name": "stdout",
          "text": [
            "[1] \"max_y: 66.6666666666667\"\n",
            "[1] \"y_step: 6.66666666666667\"\n",
            "[1] \"Comparison: Purported Human vs LLM p-value: 0.007 y_position: 73.3333333333334\"\n",
            "[1] \"Comparison: Purported Human vs Purported Interpretable p-value: 0.06 y_position: 80\"\n"
          ]
        },
        {
          "output_type": "stream",
          "name": "stderr",
          "text": [
            "Picking joint bandwidth of 4.24\n",
            "\n",
            "Warning message:\n",
            "“\u001b[1m\u001b[22mRemoved 2 rows containing non-finite outside the scale range\n",
            "(`stat_density_ridges()`).”\n",
            "Warning message:\n",
            "“\u001b[1m\u001b[22mRemoved 2 rows containing non-finite outside the scale range (`stat_signif()`).”\n",
            "Warning message:\n",
            "“\u001b[1m\u001b[22mRemoved 2 rows containing non-finite outside the scale range (`stat_signif()`).”\n",
            "Picking joint bandwidth of 4.24\n",
            "\n",
            "Warning message:\n",
            "“\u001b[1m\u001b[22mRemoved 2 rows containing non-finite outside the scale range\n",
            "(`stat_density_ridges()`).”\n",
            "Warning message:\n",
            "“\u001b[1m\u001b[22mRemoved 2 rows containing non-finite outside the scale range (`stat_signif()`).”\n",
            "Warning message:\n",
            "“\u001b[1m\u001b[22mRemoved 2 rows containing non-finite outside the scale range (`stat_signif()`).”\n"
          ]
        },
        {
          "output_type": "display_data",
          "data": {
            "text/plain": [
              "plot without title"
            ],
            "image/png": "[encoded data removed]"
          },
          "metadata": {
            "image/png": {
              "width": 420,
              "height": 420
            }
          }
        }
      ]
    },
    {
      "cell_type": "markdown",
      "source": [
        "要"
      ],
      "metadata": {
        "id": "yVe7IT8FSjw_"
      }
    },
    {
      "cell_type": "code",
      "source": [
        "# 安装并加载必要的包\n",
        "# install.packages(\"ggridges\")\n",
        "install.packages(\"gridExtra\")\n",
        "library(ggplot2)\n",
        "library(dplyr)\n",
        "library(ggridges)\n",
        "library(gridExtra)\n",
        "\n",
        "# 将数据组织为数据框\n",
        "data <- data.frame(\n",
        "  Value = c(\n",
        "    c(386, 482, 819, 631, 604, 490, 510, 484, 504, 440, 428, 559, 357, 465, 417, 382, 410, 501, 519, 373, 366, 385, 460, 400, 336, 346, 423, 396, 371, 381),\n",
        "    c(348, 424, 390, 454, 421, 417, 347, 436, 425, 385, 390, 443, 303, 389, 377, 359, 359, 372, 443, 330, 352, 362, 359, 345, 345, 296, 390, 326, 288, 347),\n",
        "    c(376, 435, 465, 495, 471, 402, 445, 461, 449, 420, 370, 494, 321, 405, 377, 368, 390, 416, 478, 305, 361, 373, 401, 371, 351, 312, 365, 371, 350, 361)\n",
        "  ),\n",
        "  Group = rep(c(\"Purported Human\", \"Purported Rule-based AI Agent\", \"LLM Agent\"), each = 30)\n",
        ")\n",
        "\n",
        "# 定义颜色\n",
        "colors <- c(\"Purported Human\" = \"#3D5C6F\", \"Purported Rule-based AI Agent\" = \"#E47159\", \"LLM Agent\" = \"#f9ae78\")\n",
        "\n",
        "# 创建山峦图\n",
        "p_ridges <- ggplot(data, aes(x = Value, y = Group, fill = Group)) +\n",
        "  geom_density_ridges(scale = 3, alpha = 0.9) +\n",
        "  labs(title = \"Completion Time by Purported Opponents' Nature\", x = \"Seconds\", y = \"Density\") +\n",
        "  theme_minimal() +\n",
        "  scale_fill_manual(values = colors) +\n",
        "  theme(\n",
        "    legend.position = \"none\",\n",
        "    axis.text.y = element_text(angle = 45, hjust = 1),\n",
        "    panel.grid.major = element_blank(),   # 去掉主网格线\n",
        "    panel.grid.minor = element_blank(),   # 去掉次网格线\n",
        "    axis.line = element_line(color = \"black\"),  # 保留轴线\n",
        "    axis.ticks = element_line(color = \"black\"), # 保留刻度线\n",
        "    axis.ticks.length = unit(0.3, \"cm\"),        # 调整刻度线长度\n",
        "    axis.ticks.x.top = element_line(color = \"black\")  # 保留和设置顶部x轴刻度线\n",
        "  )\n",
        "\n",
        "# 创建带状图\n",
        "p_histograms <- ggplot(data, aes(x = Value, fill = Group)) +\n",
        "  geom_histogram(binwidth = 20, alpha = 0.5, position = \"identity\") +\n",
        "  facet_wrap(~ Group, ncol = 1, scales = \"free_y\") +\n",
        "  labs(title = \"Histograms for Each Group\", x = \"Value\", y = \"Count\") +\n",
        "  theme_minimal() +\n",
        "  scale_fill_manual(values = colors) +\n",
        "  theme(\n",
        "    legend.position = \"none\",\n",
        "    panel.grid.major = element_blank(),   # 去掉主网格线\n",
        "    panel.grid.minor = element_blank(),   # 去掉次网格线\n",
        "    axis.line = element_line(color = \"black\"),  # 保留轴线\n",
        "    axis.ticks = element_line(color = \"black\"), # 保留刻度线\n",
        "    axis.ticks.length = unit(0.3, \"cm\"),        # 调整刻度线长度\n",
        "    axis.ticks.x.top = element_line(color = \"black\")  # 保留和设置顶部x轴刻度线\n",
        "  )\n",
        "\n",
        "# 将两个图拼接在一起\n",
        "combined_plot <- grid.arrange(p_ridges, p_histograms, ncol = 1)\n",
        "\n",
        "# 显示组合图\n",
        "print(combined_plot)\n"
      ],
      "metadata": {
        "id": "_8B3TZmrCw7x",
        "outputId": "57799bcb-634a-4ea5-dd14-41b70984ff67",
        "colab": {
          "base_uri": "https://localhost:8080/",
          "height": 590
        }
      },
      "execution_count": null,
      "outputs": [
        {
          "output_type": "stream",
          "name": "stderr",
          "text": [
            "Installing package into ‘/usr/local/lib/R/site-library’\n",
            "(as ‘lib’ is unspecified)\n",
            "\n",
            "Picking joint bandwidth of 27.9\n",
            "\n"
          ]
        },
        {
          "output_type": "stream",
          "name": "stdout",
          "text": [
            "TableGrob (2 x 1) \"arrange\": 2 grobs\n",
            "  z     cells    name           grob\n",
            "1 1 (1-1,1-1) arrange gtable[layout]\n",
            "2 2 (2-2,1-1) arrange gtable[layout]\n"
          ]
        },
        {
          "output_type": "display_data",
          "data": {
            "text/plain": [
              "plot without title"
            ],
            "image/png": "[encoded data removed]"
          },
          "metadata": {
            "image/png": {
              "width": 420,
              "height": 420
            }
          }
        }
      ]
    },
    {
      "cell_type": "markdown",
      "source": [
        "要"
      ],
      "metadata": {
        "id": "OylGHRtoXN_6"
      }
    },
    {
      "cell_type": "code",
      "source": [
        "install.packages(\"remotes\")\n"
      ],
      "metadata": {
        "colab": {
          "base_uri": "https://localhost:8080/"
        },
        "id": "ok4GFOKmTFl6",
        "outputId": "a91f9106-8e40-4b17-9791-4254f376ffa5"
      },
      "execution_count": null,
      "outputs": [
        {
          "output_type": "stream",
          "name": "stderr",
          "text": [
            "Installing package into ‘/usr/local/lib/R/site-library’\n",
            "(as ‘lib’ is unspecified)\n",
            "\n"
          ]
        }
      ]
    },
    {
      "cell_type": "code",
      "source": [
        "library(remotes)\n",
        "remotes::install_version(\"fastmap\", version = \"1.2.0\")\n"
      ],
      "metadata": {
        "colab": {
          "base_uri": "https://localhost:8080/"
        },
        "id": "xz_nB50NTIid",
        "outputId": "4e78088e-7672-42af-ab04-d8ddf07e45c9"
      },
      "execution_count": null,
      "outputs": [
        {
          "output_type": "stream",
          "name": "stderr",
          "text": [
            "Downloading package from url: https://cran.rstudio.com/src/contrib/fastmap_1.2.0.tar.gz\n",
            "\n",
            "Installing package into ‘/usr/local/lib/R/site-library’\n",
            "(as ‘lib’ is unspecified)\n",
            "\n"
          ]
        }
      ]
    },
    {
      "cell_type": "code",
      "source": [
        "remove.packages(\"fastmap\")\n",
        "\n",
        "# 使用 remotes 安装特定版本\n",
        "if (!requireNamespace(\"remotes\", quietly = TRUE)) {\n",
        "  install.packages(\"remotes\")\n",
        "}\n",
        "\n",
        "remotes::install_version(\"fastmap\", version = \"1.2.0\")\n"
      ],
      "metadata": {
        "colab": {
          "base_uri": "https://localhost:8080/"
        },
        "id": "MPYOyOkiTgeg",
        "outputId": "75b4c8ca-550b-4216-8189-e8179a2b8384"
      },
      "execution_count": null,
      "outputs": [
        {
          "output_type": "stream",
          "name": "stderr",
          "text": [
            "Removing package from ‘/usr/local/lib/R/site-library’\n",
            "(as ‘lib’ is unspecified)\n",
            "\n",
            "Downloading package from url: https://cran.rstudio.com/src/contrib/fastmap_1.2.0.tar.gz\n",
            "\n",
            "Installing package into ‘/usr/local/lib/R/site-library’\n",
            "(as ‘lib’ is unspecified)\n",
            "\n"
          ]
        }
      ]
    },
    {
      "cell_type": "code",
      "source": [
        "# 安装特定版本的 ggplot2\n",
        "devtools::install_version(\"ggplot2\", version = \"3.5.0\")\n",
        "\n",
        "# 加载 ggplot2 和 ggdist 包\n",
        "library(ggplot2)\n",
        "library(ggdist)\n"
      ],
      "metadata": {
        "colab": {
          "base_uri": "https://localhost:8080/"
        },
        "id": "vZSa36OISieB",
        "outputId": "f9553308-31f3-464e-a45d-a6ab106021eb"
      },
      "execution_count": null,
      "outputs": [
        {
          "output_type": "stream",
          "name": "stderr",
          "text": [
            "Downloading package from url: https://cran.rstudio.com/src/contrib/Archive/ggplot2/ggplot2_3.5.0.tar.gz\n",
            "\n"
          ]
        },
        {
          "output_type": "stream",
          "name": "stdout",
          "text": [
            "\n"
          ]
        },
        {
          "output_type": "stream",
          "name": "stderr",
          "text": [
            "Installing package into ‘/usr/local/lib/R/site-library’\n",
            "(as ‘lib’ is unspecified)\n",
            "\n"
          ]
        }
      ]
    },
    {
      "cell_type": "code",
      "source": [
        "install.packages(\"dplyr\")"
      ],
      "metadata": {
        "colab": {
          "base_uri": "https://localhost:8080/"
        },
        "id": "H71bwfZjWmiC",
        "outputId": "e91de980-2d96-46f7-fbb4-2eac75fb0fb0"
      },
      "execution_count": null,
      "outputs": [
        {
          "output_type": "stream",
          "name": "stderr",
          "text": [
            "Installing package into ‘/usr/local/lib/R/site-library’\n",
            "(as ‘lib’ is unspecified)\n",
            "\n"
          ]
        }
      ]
    },
    {
      "cell_type": "code",
      "source": [
        "# 加载必要的包\n",
        "if (!require(dplyr)) install.packages(\"dplyr\")\n",
        "if (!require(ggplot2)) install.packages(\"ggplot2\")\n",
        "if (!require(ggdist)) install.packages(\"ggdist\")\n",
        "\n",
        "library(dplyr)\n",
        "library(ggplot2)\n",
        "library(ggdist)\n",
        "\n",
        "# 假设数据已经读取到名为 df 的数据框中\n",
        "\n",
        "# 过滤掉 Model_type 为 \"Human\" 的数据\n",
        "df_filtered <- df %>%\n",
        "  filter(Model_type != \"Human\") %>%\n",
        "  mutate(Cooperate = (Cooperate / 50) * 100)  # 计算合作率\n",
        "\n",
        "# 定义颜色\n",
        "color1 <- rgb(203, 95, 95, maxColorValue = 255)  # 红色\n",
        "color2 <- rgb(107, 157, 198, maxColorValue = 255)  # 蓝色\n",
        "\n",
        "# 创建自定义 Model_type 标签\n",
        "model_labels <- c(\"Purported Human\" = \"Purported Human\", \"Purported Interpretable\" = \"Rule-based AI\\nAgent\", \"LLM\" = \"LLM\\nAgent\")\n",
        "\n",
        "# 确保 Model_type 是因子，并按照指定顺序排序\n",
        "df_filtered$Model_type <- factor(df_filtered$Model_type, levels = c(\"LLM\", \"Purported Interpretable\", \"Purported Human\"))\n",
        "\n",
        "# 创建 raincloud 图\n",
        "raincloud_plot <- ggplot(df_filtered, aes(x = Model_type, y = Cooperate, fill = Sex)) +\n",
        "  stat_halfeye(adjust = .5, width = .6, .width = 0, justification = -0.4, point_colour = NA, alpha = 0.6, position = position_nudge(x = 0.2)) +  # 将密度图稍微向左移动\n",
        "  geom_boxplot(width = 0.2, outlier.shape = NA, alpha = 0.5, position = position_nudge(x = 0.2)) +  # 将箱线图稍微向右移动\n",
        "  geom_jitter(aes(color = Sex), width = 0.15, height = 0, alpha = 0.6) +  # 添加抖动点\n",
        "  scale_fill_manual(values = c(\"M\" = color2, \"F\" = color1), labels = c(\"M\" = \"Male\", \"F\" = \"Female\")) +  # 使用指定的红色和蓝色，并修改图例标签\n",
        "  scale_color_manual(values = c(\"M\" = color2, \"F\" = color1), labels = c(\"M\" = \"Male\", \"F\" = \"Female\")) +  # 使用指定的红色和蓝色，并修改图例标签\n",
        "  theme_minimal() +\n",
        "  theme(\n",
        "    plot.title = element_text(hjust = 0.5, size = 18, face = \"bold\"),  # 标题居中，字体大小调整为16，加粗\n",
        "    axis.title.x = element_text(size = 16),  # x轴标题字体大小调整为14\n",
        "    axis.title.y = element_text(size = 16),  # y轴标题字体大小调整为14\n",
        "    axis.text.x = element_text(size = 14),  # x轴标签字体大小调整为12\n",
        "    axis.text.y = element_text(size = 14, angle = 45, hjust = 1),  # y轴标签字体大小调整为12，旋转45度\n",
        "    strip.text = element_blank(),  # 移除分面标签\n",
        "    plot.margin = margin(0.2, 0.2, 0.2, 0.2, \"cm\"),  # 调整图表周围的空白\n",
        "    panel.grid.major = element_blank(),  # 移除主要网格线\n",
        "    panel.grid.minor = element_blank(),  # 移除次要网格线\n",
        "    panel.border = element_blank(),  # 移除面板边框\n",
        "    axis.line = element_line(color = \"black\"),  # 添加 x 和 y 轴线\n",
        "    axis.ticks = element_line(color = \"black\"),  # 显示刻度线\n",
        "    axis.ticks.length = unit(0.2, \"cm\"),  # 设置刻度线长度\n",
        "    legend.position = \"top\",  # 将图例移到顶部\n",
        "    legend.justification = \"center\",  # 将图例居中对齐\n",
        "    legend.box.just = \"center\",\n",
        "    legend.title = element_text(size = 16),  # 图例标题字体大小调整为14\n",
        "    legend.text = element_text(size = 16),  # 图例文字字体大小调整为14\n",
        "    legend.spacing.x = unit(0.2, 'cm') # 增加图例项之间的间距\n",
        "  ) +\n",
        "  labs(\n",
        "    title = \"Cooperation by Gender and Opponents' Nature\",  # 标题\n",
        "    x = \"Purported Opponents' Nature\",  # 修改横坐标标签名\n",
        "    y = \"Cooperation Rate (%)\"  # 修改纵坐标标签名\n",
        "  ) +\n",
        "  scale_x_discrete(labels = model_labels, limits = c(\"LLM\", \"Purported Interpretable\", \"Purported Human\")) +  # 自定义 x 轴标签和顺序\n",
        "  facet_wrap(~ Sex, ncol = 1) +  # 按性别进行分面，使用一列\n",
        "  coord_flip() +  # 翻转坐标\n",
        "  theme(\n",
        "    panel.spacing = unit(0, \"lines\"),  # 减少面板之间的空白\n",
        "    plot.background = element_blank()  # 移除背景\n",
        "  ) +\n",
        "  guides(fill = guide_legend(title = NULL, override.aes = list(alpha = 1)))  # 修改图例填充的透明度\n",
        "\n",
        "# 打印 raincloud 图\n",
        "print(raincloud_plot)\n",
        "\n",
        "# 保存高清版的 raincloud 图\n",
        "ggsave(\n",
        "  filename = \"raincloud_plot_hd.pdf\",  # 保存文件名\n",
        "  plot = raincloud_plot,  # 指定要保存的图\n",
        "  width = 10, height = 8,  # 图的宽度和高度（英寸）\n",
        "  dpi = 300  # 高分辨率\n",
        ")\n"
      ],
      "metadata": {
        "colab": {
          "base_uri": "https://localhost:8080/",
          "height": 845
        },
        "id": "RrGYfVgN_5-L",
        "outputId": "b82b79f9-ebf1-4722-fc7c-ae729981aaa1"
      },
      "execution_count": null,
      "outputs": [
        {
          "output_type": "stream",
          "name": "stderr",
          "text": [
            "Warning message:\n",
            "“\u001b[1m\u001b[22mRemoved 1 row containing missing values or values outside the scale range\n",
            "(`stat_slabinterval()`).”\n",
            "Warning message:\n",
            "“\u001b[1m\u001b[22mRemoved 1 row containing missing values or values outside the scale range\n",
            "(`stat_slabinterval()`).”\n",
            "Warning message:\n",
            "“\u001b[1m\u001b[22mRemoved 60 rows containing missing values or values outside the scale range\n",
            "(`stat_boxplot()`).”\n",
            "Warning message:\n",
            "“\u001b[1m\u001b[22mRemoved 60 rows containing missing values or values outside the scale range\n",
            "(`geom_point()`).”\n",
            "Warning message:\n",
            "“\u001b[1m\u001b[22mRemoved 1 row containing missing values or values outside the scale range\n",
            "(`stat_slabinterval()`).”\n",
            "Warning message:\n",
            "“\u001b[1m\u001b[22mRemoved 1 row containing missing values or values outside the scale range\n",
            "(`stat_slabinterval()`).”\n",
            "Warning message:\n",
            "“\u001b[1m\u001b[22mRemoved 60 rows containing missing values or values outside the scale range\n",
            "(`stat_boxplot()`).”\n",
            "Warning message:\n",
            "“\u001b[1m\u001b[22mRemoved 60 rows containing missing values or values outside the scale range\n",
            "(`geom_point()`).”\n"
          ]
        },
        {
          "output_type": "display_data",
          "data": {
            "text/plain": [
              "plot without title"
            ],
            "image/png": "[encoded data removed]"
          },
          "metadata": {
            "image/png": {
              "width": 420,
              "height": 420
            }
          }
        }
      ]
    },
    {
      "cell_type": "code",
      "execution_count": null,
      "metadata": {
        "colab": {
          "base_uri": "https://localhost:8080/"
        },
        "id": "wgwb69hIQGkP",
        "outputId": "9077c9c5-7c75-4552-d149-9b37e1de0cbb",
        "collapsed": true
      },
      "outputs": [
        {
          "output_type": "stream",
          "name": "stdout",
          "text": [
            "\n",
            "\n",
            "### Analyzing Cooperate ###\n",
            "Analysis of Variance of Aligned Rank Transformed Data\n",
            "\n",
            "Table Type: Analysis of Deviance Table (Type III Wald F tests with Kenward-Roger df) \n",
            "Model: Mixed Effects (lmer)\n",
            "Response: art(Cooperate)\n",
            "\n",
            "                       F Df Df.res    Pr(>F)   \n",
            "1 Sex            0.17487  1     28 0.6790100   \n",
            "2 Model_type     4.40312  2     56 0.0167492  *\n",
            "3 Sex:Model_type 5.92235  2     56 0.0046432 **\n",
            "---\n",
            "Signif. codes:   0 ‘***’ 0.001 ‘**’ 0.01 ‘*’ 0.05 ‘.’ 0.1 ‘ ’ 1 \n",
            "\n",
            "\n",
            "### Analyzing Time ###\n",
            "Analysis of Variance of Aligned Rank Transformed Data\n",
            "\n",
            "Table Type: Analysis of Deviance Table (Type III Wald F tests with Kenward-Roger df) \n",
            "Model: Mixed Effects (lmer)\n",
            "Response: art(Time)\n",
            "\n",
            "                       F Df Df.res     Pr(>F)    \n",
            "1 Sex            13.2637  1     28  0.0010877  **\n",
            "2 Model_type     61.1464  2     56 8.2704e-15 ***\n",
            "3 Sex:Model_type  5.6236  2     56  0.0059483  **\n",
            "---\n",
            "Signif. codes:   0 ‘***’ 0.001 ‘**’ 0.01 ‘*’ 0.05 ‘.’ 0.1 ‘ ’ 1 \n",
            "\n",
            "\n",
            "### Analyzing Earns ###\n",
            "Analysis of Variance of Aligned Rank Transformed Data\n",
            "\n",
            "Table Type: Analysis of Deviance Table (Type III Wald F tests with Kenward-Roger df) \n",
            "Model: Mixed Effects (lmer)\n",
            "Response: art(Earns)\n",
            "\n",
            "                       F Df Df.res   Pr(>F)  \n",
            "1 Sex            0.31122  1     28 0.581363  \n",
            "2 Model_type     2.64585  2     56 0.079803 .\n",
            "3 Sex:Model_type 1.88132  2     56 0.161894  \n",
            "---\n",
            "Signif. codes:   0 ‘***’ 0.001 ‘**’ 0.01 ‘*’ 0.05 ‘.’ 0.1 ‘ ’ 1 \n",
            "\n",
            "\n",
            "### Analyzing Switchs ###\n",
            "Analysis of Variance of Aligned Rank Transformed Data\n",
            "\n",
            "Table Type: Analysis of Deviance Table (Type III Wald F tests with Kenward-Roger df) \n",
            "Model: Mixed Effects (lmer)\n",
            "Response: art(Switchs)\n",
            "\n",
            "                      F Df Df.res  Pr(>F)  \n",
            "1 Sex            1.1583  1     28 0.29101  \n",
            "2 Model_type     1.0599  2     56 0.35332  \n",
            "3 Sex:Model_type 1.3921  2     56 0.25703  \n",
            "---\n",
            "Signif. codes:   0 ‘***’ 0.001 ‘**’ 0.01 ‘*’ 0.05 ‘.’ 0.1 ‘ ’ 1 \n",
            "\n",
            "\n",
            "### Analyzing Be_Friendly ###\n",
            "Analysis of Variance of Aligned Rank Transformed Data\n",
            "\n",
            "Table Type: Analysis of Deviance Table (Type III Wald F tests with Kenward-Roger df) \n",
            "Model: Mixed Effects (lmer)\n",
            "Response: art(Be_Friendly)\n",
            "\n",
            "                         F Df Df.res    Pr(>F)   \n",
            "1 Sex            0.0093999  1     28 0.9234543   \n",
            "2 Model_type     1.8212748  2     56 0.1712739   \n",
            "3 Sex:Model_type 6.1872064  2     56 0.0037346 **\n",
            "---\n",
            "Signif. codes:   0 ‘***’ 0.001 ‘**’ 0.01 ‘*’ 0.05 ‘.’ 0.1 ‘ ’ 1 \n",
            "\n",
            "\n",
            "### Analyzing Repair_Effort ###\n",
            "Analysis of Variance of Aligned Rank Transformed Data\n",
            "\n",
            "Table Type: Analysis of Deviance Table (Type III Wald F tests with Kenward-Roger df) \n",
            "Model: Mixed Effects (lmer)\n",
            "Response: art(Repair_Effort)\n",
            "\n",
            "                       F Df Df.res   Pr(>F)  \n",
            "1 Sex            0.72810  1     28 0.400741  \n",
            "2 Model_type     3.80562  2     56 0.028204 *\n",
            "3 Sex:Model_type 0.88648  2     56 0.417808  \n",
            "---\n",
            "Signif. codes:   0 ‘***’ 0.001 ‘**’ 0.01 ‘*’ 0.05 ‘.’ 0.1 ‘ ’ 1 \n",
            "\n",
            "\n",
            "### Analyzing Be_Friendly_Weighted ###\n",
            "Analysis of Variance of Aligned Rank Transformed Data\n",
            "\n",
            "Table Type: Analysis of Deviance Table (Type III Wald F tests with Kenward-Roger df) \n",
            "Model: Mixed Effects (lmer)\n",
            "Response: art(Be_Friendly_Weighted)\n",
            "\n",
            "                       F Df Df.res    Pr(>F)   \n",
            "1 Sex            0.55888  1     28 0.4609430   \n",
            "2 Model_type     2.36254  2     56 0.1035043   \n",
            "3 Sex:Model_type 5.51019  2     56 0.0065384 **\n",
            "---\n",
            "Signif. codes:   0 ‘***’ 0.001 ‘**’ 0.01 ‘*’ 0.05 ‘.’ 0.1 ‘ ’ 1 \n",
            "\n",
            "\n",
            "### Analyzing Repair_Effort_Weighted ###\n",
            "Analysis of Variance of Aligned Rank Transformed Data\n",
            "\n",
            "Table Type: Analysis of Deviance Table (Type III Wald F tests with Kenward-Roger df) \n",
            "Model: Mixed Effects (lmer)\n",
            "Response: art(Repair_Effort_Weighted)\n",
            "\n",
            "                       F Df Df.res   Pr(>F)  \n",
            "1 Sex            0.98764  1     28 0.328831  \n",
            "2 Model_type     3.17027  2     56 0.049624 *\n",
            "3 Sex:Model_type 2.09835  2     56 0.132200  \n",
            "---\n",
            "Signif. codes:   0 ‘***’ 0.001 ‘**’ 0.01 ‘*’ 0.05 ‘.’ 0.1 ‘ ’ 1 \n"
          ]
        }
      ],
      "source": [
        "# 安装和加载必要的包\n",
        "if (!require(ARTool)) install.packages('ARTool', dependencies=TRUE)\n",
        "if (!require(dplyr)) install.packages('dplyr', dependencies=TRUE)\n",
        "if (!require(tidyr)) install.packages('tidyr', dependencies=TRUE)\n",
        "library(ARTool)\n",
        "library(dplyr)\n",
        "library(tidyr)\n",
        "\n",
        "# 筛选出Model_type不是Human的数据\n",
        "filtered_df <- df %>% filter(Model_type != \"Human\")\n",
        "\n",
        "# 安装和加载必要的包\n",
        "if (!require(ARTool)) install.packages('ARTool', dependencies=TRUE)\n",
        "if (!require(dplyr)) install.packages('dplyr', dependencies=TRUE)\n",
        "if (!require(tidyr)) install.packages('tidyr', dependencies=TRUE)\n",
        "library(ARTool)\n",
        "library(dplyr)\n",
        "library(tidyr)\n",
        "\n",
        "# 筛选出Model_type不是Human的数据\n",
        "filtered_df <- df %>% filter(Model_type != \"Human\")\n",
        "\n",
        "# 转换Sex和Model_type为因子\n",
        "filtered_df <- filtered_df %>%\n",
        "  mutate(\n",
        "    Sex = factor(Sex),\n",
        "    Model_type = factor(Model_type),\n",
        "    ID = factor(ID)\n",
        "  )\n",
        "\n",
        "# 检查和转换因变量为数值型\n",
        "dependent_vars <- c(\"Cooperate\", \"Time\", \"Earns\", \"Switchs\", \"Be_Friendly\", \"Repair_Effort\", \"Be_Friendly_Weighted\", \"Repair_Effort_Weighted\")\n",
        "\n",
        "filtered_df <- filtered_df %>%\n",
        "  mutate(across(all_of(dependent_vars), as.numeric))\n",
        "\n",
        "# 检查转换是否成功\n",
        "# str(filtered_df)\n",
        "\n",
        "# 进行ART ANOVA分析\n",
        "for (dep_var in dependent_vars) {\n",
        "  cat(\"\\n\\n### Analyzing\", dep_var, \"###\\n\")\n",
        "\n",
        "  formula <- as.formula(paste(dep_var, \"~ Sex * Model_type + (1|ID)\"))\n",
        "\n",
        "  # 进行ART ANOVA\n",
        "  art_model <- art(formula, data = filtered_df)\n",
        "  anova_results <- anova(art_model)\n",
        "\n",
        "  print(anova_results)\n",
        "}\n"
      ]
    },
    {
      "cell_type": "code",
      "execution_count": null,
      "metadata": {
        "colab": {
          "base_uri": "https://localhost:8080/"
        },
        "id": "BPHUJA3LlFxY",
        "outputId": "74912e4f-07a8-42eb-cca2-92994be780f2"
      },
      "outputs": [
        {
          "output_type": "stream",
          "name": "stdout",
          "text": [
            "\n",
            "\n",
            "### Analyzing Cooperate ###\n",
            "\n",
            "### Independent Samples Analysis ###\n",
            "Analysis of Variance of Aligned Rank Transformed Data\n",
            "\n",
            "Table Type: Anova Table (Type III tests) \n",
            "Model: No Repeated Measures (lm)\n",
            "Response: art(Cooperate)\n",
            "\n",
            "                 Df Df.res F value   Pr(>F)  \n",
            "1 Sex             1     84 0.30747 0.580708  \n",
            "2 Model_type      2     84 2.62431 0.078427 .\n",
            "3 Sex:Model_type  2     84 3.73605 0.027900 *\n",
            "---\n",
            "Signif. codes:   0 ‘***’ 0.001 ‘**’ 0.01 ‘*’ 0.05 ‘.’ 0.1 ‘ ’ 1 \n",
            "\n",
            "### Related Samples Analysis ###\n",
            "Analysis of Variance of Aligned Rank Transformed Data\n",
            "\n",
            "Table Type: Analysis of Deviance Table (Type III Wald F tests with Kenward-Roger df) \n",
            "Model: Mixed Effects (lmer)\n",
            "Response: art(Cooperate)\n",
            "\n",
            "                       F Df Df.res    Pr(>F)   \n",
            "1 Model_type     4.40312  2     56 0.0167492  *\n",
            "2 Sex            0.17487  1     28 0.6790100   \n",
            "3 Model_type:Sex 5.92235  2     56 0.0046432 **\n",
            "---\n",
            "Signif. codes:   0 ‘***’ 0.001 ‘**’ 0.01 ‘*’ 0.05 ‘.’ 0.1 ‘ ’ 1 \n",
            "\n",
            "\n",
            "### Analyzing Time ###\n",
            "\n",
            "### Independent Samples Analysis ###\n",
            "Analysis of Variance of Aligned Rank Transformed Data\n",
            "\n",
            "Table Type: Anova Table (Type III tests) \n",
            "Model: No Repeated Measures (lm)\n",
            "Response: art(Time)\n",
            "\n",
            "                 Df Df.res F value     Pr(>F)    \n",
            "1 Sex             1     84 33.8939 1.0341e-07 ***\n",
            "2 Model_type      2     84 15.2783 2.1921e-06 ***\n",
            "3 Sex:Model_type  2     84  1.4765    0.23431    \n",
            "---\n",
            "Signif. codes:   0 ‘***’ 0.001 ‘**’ 0.01 ‘*’ 0.05 ‘.’ 0.1 ‘ ’ 1 \n",
            "\n",
            "### Related Samples Analysis ###\n",
            "Analysis of Variance of Aligned Rank Transformed Data\n",
            "\n",
            "Table Type: Analysis of Deviance Table (Type III Wald F tests with Kenward-Roger df) \n",
            "Model: Mixed Effects (lmer)\n",
            "Response: art(Time)\n",
            "\n",
            "                       F Df Df.res     Pr(>F)    \n",
            "1 Model_type     61.1464  2     56 8.2704e-15 ***\n",
            "2 Sex            13.2637  1     28  0.0010877  **\n",
            "3 Model_type:Sex  5.6236  2     56  0.0059483  **\n",
            "---\n",
            "Signif. codes:   0 ‘***’ 0.001 ‘**’ 0.01 ‘*’ 0.05 ‘.’ 0.1 ‘ ’ 1 \n",
            "\n",
            "\n",
            "### Analyzing Be_Friendly ###\n",
            "\n",
            "### Independent Samples Analysis ###\n",
            "Analysis of Variance of Aligned Rank Transformed Data\n",
            "\n",
            "Table Type: Anova Table (Type III tests) \n",
            "Model: No Repeated Measures (lm)\n",
            "Response: art(Be_Friendly)\n",
            "\n",
            "                 Df Df.res  F value  Pr(>F)   \n",
            "1 Sex             1     84 0.012945 0.90969   \n",
            "2 Model_type      2     84 1.425026 0.24626   \n",
            "3 Sex:Model_type  2     84 4.872719 0.00995 **\n",
            "---\n",
            "Signif. codes:   0 ‘***’ 0.001 ‘**’ 0.01 ‘*’ 0.05 ‘.’ 0.1 ‘ ’ 1 \n",
            "\n",
            "### Related Samples Analysis ###\n",
            "Analysis of Variance of Aligned Rank Transformed Data\n",
            "\n",
            "Table Type: Analysis of Deviance Table (Type III Wald F tests with Kenward-Roger df) \n",
            "Model: Mixed Effects (lmer)\n",
            "Response: art(Be_Friendly)\n",
            "\n",
            "                         F Df Df.res    Pr(>F)   \n",
            "1 Model_type     1.8212748  2     56 0.1712739   \n",
            "2 Sex            0.0093999  1     28 0.9234543   \n",
            "3 Model_type:Sex 6.1872065  2     56 0.0037346 **\n",
            "---\n",
            "Signif. codes:   0 ‘***’ 0.001 ‘**’ 0.01 ‘*’ 0.05 ‘.’ 0.1 ‘ ’ 1 \n",
            "\n",
            "\n",
            "### Analyzing Repair_Effort ###\n",
            "\n",
            "### Independent Samples Analysis ###\n",
            "Analysis of Variance of Aligned Rank Transformed Data\n",
            "\n",
            "Table Type: Anova Table (Type III tests) \n",
            "Model: No Repeated Measures (lm)\n",
            "Response: art(Repair_Effort)\n",
            "\n",
            "                 Df Df.res F value   Pr(>F)  \n",
            "1 Sex             1     84 0.89057 0.348028  \n",
            "2 Model_type      2     84 3.35743 0.039558 *\n",
            "3 Sex:Model_type  2     84 0.79801 0.453608  \n",
            "---\n",
            "Signif. codes:   0 ‘***’ 0.001 ‘**’ 0.01 ‘*’ 0.05 ‘.’ 0.1 ‘ ’ 1 \n",
            "\n",
            "### Related Samples Analysis ###\n",
            "Analysis of Variance of Aligned Rank Transformed Data\n",
            "\n",
            "Table Type: Analysis of Deviance Table (Type III Wald F tests with Kenward-Roger df) \n",
            "Model: Mixed Effects (lmer)\n",
            "Response: art(Repair_Effort)\n",
            "\n",
            "                       F Df Df.res   Pr(>F)  \n",
            "1 Model_type     3.80562  2     56 0.028204 *\n",
            "2 Sex            0.72810  1     28 0.400741  \n",
            "3 Model_type:Sex 0.88648  2     56 0.417808  \n",
            "---\n",
            "Signif. codes:   0 ‘***’ 0.001 ‘**’ 0.01 ‘*’ 0.05 ‘.’ 0.1 ‘ ’ 1 \n"
          ]
        }
      ],
      "source": [
        "if (!require(ARTool)) install.packages('ARTool', dependencies=TRUE)\n",
        "if (!require(dplyr)) install.packages('dplyr', dependencies=TRUE)\n",
        "if (!require(tidyr)) install.packages('tidyr', dependencies=TRUE)\n",
        "library(ARTool)\n",
        "library(dplyr)\n",
        "library(tidyr)\n",
        "\n",
        "# 筛选出 Model_type 不是 Human 的数据\n",
        "filtered_df <- df %>% filter(Model_type != \"Human\")\n",
        "\n",
        "# 转换Sex和Model_type为因子\n",
        "filtered_df <- filtered_df %>%\n",
        "  mutate(\n",
        "    Sex = factor(Sex),\n",
        "    Model_type = factor(Model_type),\n",
        "    ID = factor(ID)\n",
        "  )\n",
        "\n",
        "# 检查和转换因变量为数值型\n",
        "dependent_vars <- c(\"Cooperate\", \"Time\", \"Be_Friendly\", \"Repair_Effort\")\n",
        "\n",
        "filtered_df <- filtered_df %>%\n",
        "  mutate(across(all_of(dependent_vars), as.numeric))\n",
        "\n",
        "# 进行 ART ANOVA 分析\n",
        "for (dep_var in dependent_vars) {\n",
        "  cat(\"\\n\\n### Analyzing\", dep_var, \"###\\n\")\n",
        "\n",
        "  # 分析独立样本\n",
        "  cat(\"\\n### Independent Samples Analysis ###\\n\")\n",
        "  formula_independent <- as.formula(paste(dep_var, \"~ Sex * Model_type\"))\n",
        "  art_model_independent <- art(formula_independent, data = filtered_df)\n",
        "  anova_results_independent <- anova(art_model_independent)\n",
        "  print(anova_results_independent)\n",
        "\n",
        "  # 分析关联样本\n",
        "  cat(\"\\n### Related Samples Analysis ###\\n\")\n",
        "  formula_related <- as.formula(paste(dep_var, \"~ Model_type * Sex + (1|ID)\"))\n",
        "  art_model_related <- art(formula_related, data = filtered_df)\n",
        "  anova_results_related <- anova(art_model_related)\n",
        "  print(anova_results_related)\n",
        "}\n",
        "\n"
      ]
    },
    {
      "cell_type": "code",
      "source": [
        "# 安装并加载所需包\n",
        "if (!require(ARTool)) install.packages('ARTool', dependencies=TRUE)\n",
        "if (!require(dplyr)) install.packages('dplyr', dependencies=TRUE)\n",
        "if (!require(tidyr)) install.packages('tidyr', dependencies=TRUE)\n",
        "library(ARTool)\n",
        "library(dplyr)\n",
        "library(tidyr)\n",
        "\n",
        "# 筛选出 Model_type 不是 Human 的数据\n",
        "filtered_df <- df %>% filter(Model_type != \"Human\")\n",
        "\n",
        "# 转换 Sex 和 Model_type 为因子\n",
        "filtered_df <- filtered_df %>%\n",
        "  mutate(\n",
        "    Sex = factor(Sex),\n",
        "    Model_type = factor(Model_type),\n",
        "    ID = factor(ID)\n",
        "  )\n",
        "\n",
        "# 检查和转换因变量为数值型\n",
        "dependent_vars <- c(\"Cooperate\", \"Time\", \"Be_Friendly\", \"Repair_Effort\")\n",
        "\n",
        "filtered_df <- filtered_df %>%\n",
        "  mutate(across(all_of(dependent_vars), as.numeric))\n",
        "\n",
        "# 初始化存储结果的列表\n",
        "results <- list()\n",
        "\n",
        "# 进行 ART ANOVA 分析\n",
        "for (dep_var in dependent_vars) {\n",
        "  cat(\"\\n\\n### Analyzing\", dep_var, \"###\\n\")\n",
        "  results[[dep_var]] <- list()\n",
        "\n",
        "  try({\n",
        "    # 分析独立样本\n",
        "    cat(\"\\n### Independent Samples Analysis ###\\n\")\n",
        "    formula_independent <- as.formula(paste(dep_var, \"~ Sex * Model_type\"))\n",
        "    art_model_independent <- art(formula_independent, data = filtered_df)\n",
        "    anova_results_independent <- anova(art_model_independent)\n",
        "    print(anova_results_independent)\n",
        "    results[[dep_var]]$independent <- anova_results_independent\n",
        "  }, silent = TRUE)\n",
        "\n",
        "  try({\n",
        "    # 分析关联样本\n",
        "    cat(\"\\n### Related Samples Analysis ###\\n\")\n",
        "    formula_related <- as.formula(paste(dep_var, \"~ Model_type * Sex + (1|ID)\"))\n",
        "    art_model_related <- art(formula_related, data = filtered_df)\n",
        "    anova_results_related <- anova(art_model_related)\n",
        "    print(anova_results_related)\n",
        "    results[[dep_var]]$related <- anova_results_related\n",
        "  }, silent = TRUE)\n",
        "}"
      ],
      "metadata": {
        "id": "eL4NMYsKptqc",
        "outputId": "5ffe41ca-e757-441c-bfc7-59aa35a796e9",
        "colab": {
          "base_uri": "https://localhost:8080/"
        }
      },
      "execution_count": null,
      "outputs": [
        {
          "output_type": "stream",
          "name": "stderr",
          "text": [
            "Loading required package: ARTool\n",
            "\n",
            "Warning message in library(package, lib.loc = lib.loc, character.only = TRUE, logical.return = TRUE, :\n",
            "“there is no package called ‘ARTool’”\n",
            "Installing package into ‘/usr/local/lib/R/site-library’\n",
            "(as ‘lib’ is unspecified)\n",
            "\n",
            "also installing the dependencies ‘cowplot’, ‘Deriv’, ‘microbenchmark’, ‘proxy’, ‘doBy’, ‘SparseM’, ‘MatrixModels’, ‘rootSolve’, ‘e1071’, ‘lmom’, ‘lazyeval’, ‘minqa’, ‘nloptr’, ‘Rcpp’, ‘RcppEigen’, ‘carData’, ‘abind’, ‘pbkrtest’, ‘quantreg’, ‘estimability’, ‘numDeriv’, ‘mvtnorm’, ‘mnormt’, ‘GPArotation’, ‘expm’, ‘Exact’, ‘gld’, ‘rex’, ‘lme4’, ‘car’, ‘plyr’, ‘emmeans’, ‘pander’, ‘lmerTest’, ‘phia’, ‘psych’, ‘DescTools’, ‘covr’\n",
            "\n",
            "\n"
          ]
        },
        {
          "output_type": "stream",
          "name": "stdout",
          "text": [
            "\n",
            "\n",
            "### Analyzing Cooperate ###\n",
            "\n",
            "### Independent Samples Analysis ###\n",
            "Analysis of Variance of Aligned Rank Transformed Data\n",
            "\n",
            "Table Type: Anova Table (Type III tests) \n",
            "Model: No Repeated Measures (lm)\n",
            "Response: art(Cooperate)\n",
            "\n",
            "                 Df Df.res F value   Pr(>F)  \n",
            "1 Sex             1     84 0.30747 0.580708  \n",
            "2 Model_type      2     84 2.62431 0.078427 .\n",
            "3 Sex:Model_type  2     84 3.73605 0.027900 *\n",
            "---\n",
            "Signif. codes:   0 ‘***’ 0.001 ‘**’ 0.01 ‘*’ 0.05 ‘.’ 0.1 ‘ ’ 1 \n",
            "\n",
            "### Related Samples Analysis ###\n",
            "Analysis of Variance of Aligned Rank Transformed Data\n",
            "\n",
            "Table Type: Analysis of Deviance Table (Type III Wald F tests with Kenward-Roger df) \n",
            "Model: Mixed Effects (lmer)\n",
            "Response: art(Cooperate)\n",
            "\n",
            "                       F Df Df.res    Pr(>F)   \n",
            "1 Model_type     4.40312  2     56 0.0167492  *\n",
            "2 Sex            0.17487  1     28 0.6790100   \n",
            "3 Model_type:Sex 5.92235  2     56 0.0046432 **\n",
            "---\n",
            "Signif. codes:   0 ‘***’ 0.001 ‘**’ 0.01 ‘*’ 0.05 ‘.’ 0.1 ‘ ’ 1 \n",
            "\n",
            "\n",
            "### Analyzing Time ###\n",
            "\n",
            "### Independent Samples Analysis ###\n",
            "Analysis of Variance of Aligned Rank Transformed Data\n",
            "\n",
            "Table Type: Anova Table (Type III tests) \n",
            "Model: No Repeated Measures (lm)\n",
            "Response: art(Time)\n",
            "\n",
            "                 Df Df.res F value     Pr(>F)    \n",
            "1 Sex             1     84 33.8939 1.0341e-07 ***\n",
            "2 Model_type      2     84 15.2783 2.1921e-06 ***\n",
            "3 Sex:Model_type  2     84  1.4765    0.23431    \n",
            "---\n",
            "Signif. codes:   0 ‘***’ 0.001 ‘**’ 0.01 ‘*’ 0.05 ‘.’ 0.1 ‘ ’ 1 \n",
            "\n",
            "### Related Samples Analysis ###\n",
            "Analysis of Variance of Aligned Rank Transformed Data\n",
            "\n",
            "Table Type: Analysis of Deviance Table (Type III Wald F tests with Kenward-Roger df) \n",
            "Model: Mixed Effects (lmer)\n",
            "Response: art(Time)\n",
            "\n",
            "                       F Df Df.res     Pr(>F)    \n",
            "1 Model_type     61.1464  2     56 8.2704e-15 ***\n",
            "2 Sex            13.2637  1     28  0.0010877  **\n",
            "3 Model_type:Sex  5.6236  2     56  0.0059483  **\n",
            "---\n",
            "Signif. codes:   0 ‘***’ 0.001 ‘**’ 0.01 ‘*’ 0.05 ‘.’ 0.1 ‘ ’ 1 \n",
            "\n",
            "\n",
            "### Analyzing Be_Friendly ###\n",
            "\n",
            "### Independent Samples Analysis ###\n",
            "Analysis of Variance of Aligned Rank Transformed Data\n",
            "\n",
            "Table Type: Anova Table (Type III tests) \n",
            "Model: No Repeated Measures (lm)\n",
            "Response: art(Be_Friendly)\n",
            "\n",
            "                 Df Df.res  F value  Pr(>F)   \n",
            "1 Sex             1     84 0.012945 0.90969   \n",
            "2 Model_type      2     84 1.425026 0.24626   \n",
            "3 Sex:Model_type  2     84 4.872719 0.00995 **\n",
            "---\n",
            "Signif. codes:   0 ‘***’ 0.001 ‘**’ 0.01 ‘*’ 0.05 ‘.’ 0.1 ‘ ’ 1 \n",
            "\n",
            "### Related Samples Analysis ###\n",
            "Analysis of Variance of Aligned Rank Transformed Data\n",
            "\n",
            "Table Type: Analysis of Deviance Table (Type III Wald F tests with Kenward-Roger df) \n",
            "Model: Mixed Effects (lmer)\n",
            "Response: art(Be_Friendly)\n",
            "\n",
            "                         F Df Df.res    Pr(>F)   \n",
            "1 Model_type     1.8212748  2     56 0.1712739   \n",
            "2 Sex            0.0093999  1     28 0.9234543   \n",
            "3 Model_type:Sex 6.1872065  2     56 0.0037346 **\n",
            "---\n",
            "Signif. codes:   0 ‘***’ 0.001 ‘**’ 0.01 ‘*’ 0.05 ‘.’ 0.1 ‘ ’ 1 \n",
            "\n",
            "\n",
            "### Analyzing Repair_Effort ###\n",
            "\n",
            "### Independent Samples Analysis ###\n",
            "Analysis of Variance of Aligned Rank Transformed Data\n",
            "\n",
            "Table Type: Anova Table (Type III tests) \n",
            "Model: No Repeated Measures (lm)\n",
            "Response: art(Repair_Effort)\n",
            "\n",
            "                 Df Df.res F value   Pr(>F)  \n",
            "1 Sex             1     84 0.89057 0.348028  \n",
            "2 Model_type      2     84 3.35743 0.039558 *\n",
            "3 Sex:Model_type  2     84 0.79801 0.453608  \n",
            "---\n",
            "Signif. codes:   0 ‘***’ 0.001 ‘**’ 0.01 ‘*’ 0.05 ‘.’ 0.1 ‘ ’ 1 \n",
            "\n",
            "### Related Samples Analysis ###\n",
            "Analysis of Variance of Aligned Rank Transformed Data\n",
            "\n",
            "Table Type: Analysis of Deviance Table (Type III Wald F tests with Kenward-Roger df) \n",
            "Model: Mixed Effects (lmer)\n",
            "Response: art(Repair_Effort)\n",
            "\n",
            "                       F Df Df.res   Pr(>F)  \n",
            "1 Model_type     3.80562  2     56 0.028204 *\n",
            "2 Sex            0.72810  1     28 0.400741  \n",
            "3 Model_type:Sex 0.88648  2     56 0.417808  \n",
            "---\n",
            "Signif. codes:   0 ‘***’ 0.001 ‘**’ 0.01 ‘*’ 0.05 ‘.’ 0.1 ‘ ’ 1 \n"
          ]
        }
      ]
    },
    {
      "cell_type": "code",
      "execution_count": null,
      "metadata": {
        "colab": {
          "base_uri": "https://localhost:8080/"
        },
        "id": "-QGDyh18Z0bI",
        "outputId": "c7832a5f-cf8b-45d1-8b0b-dcaf715a809f"
      },
      "outputs": [
        {
          "output_type": "stream",
          "name": "stdout",
          "text": [
            "[1] \"ART ANOVA result for Cooperate\"\n",
            "Analysis of Variance of Aligned Rank Transformed Data\n",
            "\n",
            "Table Type: Anova Table (Type III tests) \n",
            "Model: No Repeated Measures (lm)\n",
            "Response: art(non_human_data[[var]])\n",
            "\n",
            "                 Df Df.res F value   Pr(>F)  \n",
            "1 Sex             1     84 0.30747 0.580708  \n",
            "2 Model_type      2     84 2.62431 0.078427 .\n",
            "3 Sex:Model_type  2     84 3.73605 0.027900 *\n",
            "---\n",
            "Signif. codes:   0 ‘***’ 0.001 ‘**’ 0.01 ‘*’ 0.05 ‘.’ 0.1 ‘ ’ 1 \n",
            "[1] \"ART ANOVA result for Time\"\n",
            "Analysis of Variance of Aligned Rank Transformed Data\n",
            "\n",
            "Table Type: Anova Table (Type III tests) \n",
            "Model: No Repeated Measures (lm)\n",
            "Response: art(non_human_data[[var]])\n",
            "\n",
            "                 Df Df.res F value     Pr(>F)    \n",
            "1 Sex             1     84 33.8939 1.0341e-07 ***\n",
            "2 Model_type      2     84 15.2783 2.1921e-06 ***\n",
            "3 Sex:Model_type  2     84  1.4765    0.23431    \n",
            "---\n",
            "Signif. codes:   0 ‘***’ 0.001 ‘**’ 0.01 ‘*’ 0.05 ‘.’ 0.1 ‘ ’ 1 \n",
            "[1] \"ART ANOVA result for Be_Friendly\"\n",
            "Analysis of Variance of Aligned Rank Transformed Data\n",
            "\n",
            "Table Type: Anova Table (Type III tests) \n",
            "Model: No Repeated Measures (lm)\n",
            "Response: art(non_human_data[[var]])\n",
            "\n",
            "                 Df Df.res  F value  Pr(>F)   \n",
            "1 Sex             1     84 0.012945 0.90969   \n",
            "2 Model_type      2     84 1.425026 0.24626   \n",
            "3 Sex:Model_type  2     84 4.872719 0.00995 **\n",
            "---\n",
            "Signif. codes:   0 ‘***’ 0.001 ‘**’ 0.01 ‘*’ 0.05 ‘.’ 0.1 ‘ ’ 1 \n",
            "[1] \"ART ANOVA result for Repair_Effort\"\n",
            "Analysis of Variance of Aligned Rank Transformed Data\n",
            "\n",
            "Table Type: Anova Table (Type III tests) \n",
            "Model: No Repeated Measures (lm)\n",
            "Response: art(non_human_data[[var]])\n",
            "\n",
            "                 Df Df.res F value   Pr(>F)  \n",
            "1 Sex             1     84 0.89057 0.348028  \n",
            "2 Model_type      2     84 3.35743 0.039558 *\n",
            "3 Sex:Model_type  2     84 0.79801 0.453608  \n",
            "---\n",
            "Signif. codes:   0 ‘***’ 0.001 ‘**’ 0.01 ‘*’ 0.05 ‘.’ 0.1 ‘ ’ 1 \n"
          ]
        }
      ],
      "source": [
        "library(dplyr)\n",
        "library(ARTool)\n",
        "\n",
        "# 假设 df 是你的数据框，并且 \"Time\" 列是以秒为单位的字符串形式\n",
        "# 筛选出 Model_type 不为 Human 的数据\n",
        "non_human_data <- df %>%\n",
        "  filter(Model_type != \"Human\") %>%\n",
        "  mutate(across(c(Sex, Model_type), as.factor),  # 确保 Sex 和 Model_type 被转换为因子类型\n",
        "         Time = as.numeric(Time))  # 将 Time 列的字符串转换为数字\n",
        "\n",
        "# 因变量列表\n",
        "dependent_vars <- c(\"Cooperate\", \"Time\", \"Be_Friendly\", \"Repair_Effort\")\n",
        "\n",
        "# 对每个因变量进行 ART ANOVA\n",
        "for (var in dependent_vars) {\n",
        "  if (all(is.numeric(non_human_data[[var]]), na.rm = TRUE)) {\n",
        "    art_model <- art(non_human_data[[var]] ~ Sex * Model_type, data = non_human_data)\n",
        "    art_aov <- anova(art_model)\n",
        "    print(paste(\"ART ANOVA result for\", var))\n",
        "    print(art_aov)\n",
        "  } else {\n",
        "    print(paste(var, \"is not numeric or contains NA values, and will be skipped.\"))\n",
        "  }\n",
        "}\n"
      ]
    },
    {
      "cell_type": "markdown",
      "metadata": {
        "id": "IE4paMOUdzYu"
      },
      "source": [
        "    Purported Interpretable Cooperate"
      ]
    },
    {
      "cell_type": "code",
      "execution_count": null,
      "metadata": {
        "colab": {
          "base_uri": "https://localhost:8080/",
          "height": 425
        },
        "id": "XW0UQ084YlIg",
        "outputId": "447044da-b377-4681-d520-a6dc05baf12a"
      },
      "outputs": [
        {
          "output_type": "display_data",
          "data": {
            "text/plain": [
              "\n",
              "\tWilcoxon rank sum test with continuity correction\n",
              "\n",
              "data:  A and B\n",
              "W = 69.5, p-value = 0.0773\n",
              "alternative hypothesis: true location shift is not equal to 0\n",
              "95 percent confidence interval:\n",
              " -10.0000429   0.9999769\n",
              "sample estimates:\n",
              "difference in location \n",
              "             -5.000072 \n"
            ]
          },
          "metadata": {}
        },
        {
          "output_type": "stream",
          "name": "stdout",
          "text": [
            "U值 (W值): 69.5 \n",
            "期望值 E(U): 112.5 \n",
            "标准差σ(U): 24.10913 \n",
            "Z值: -1.783557 \n",
            "组A的统计信息:\n",
            "Mean: 21.2 \n",
            "Median: 22 \n",
            "SD: 6.97137 \n",
            "\n",
            "组B的统计信息:\n",
            "Mean: 26.33333 \n",
            "Median: 26 \n",
            "SD: 6.704654 \n"
          ]
        }
      ],
      "source": [
        "# 样本数据\n",
        "A <- c(25, 23, 9, 33, 15, 26, 25, 23, 31, 22, 17, 20, 22, 8, 19)\n",
        "B <- c(26, 14, 24, 35, 20, 31, 23, 24, 39, 28, 21, 31, 30, 31, 18)\n",
        "\n",
        "# Mann-Whitney U检验\n",
        "wilcox.test(A, B, exact=FALSE, conf.int=TRUE)\n",
        "\n",
        "# 计算样本大小\n",
        "n1 <- length(A)\n",
        "n2 <- length(B)\n",
        "\n",
        "# 合并数据并计算秩\n",
        "combined_data <- c(A, B)\n",
        "ranks <- rank(combined_data)\n",
        "\n",
        "# 计算第一组的秩和\n",
        "R1 <- sum(ranks[1:n1])\n",
        "\n",
        "# 计算U值\n",
        "U1 <- n1 * n2 + (n1 * (n1 + 1)) / 2 - R1\n",
        "U2 <- n1 * n2 - U1\n",
        "U <- min(U1, U2)\n",
        "\n",
        "# 计算期望值E(U)和标准差σ(U)\n",
        "E_U <- n1 * n2 / 2\n",
        "sigma_U <- sqrt(n1 * n2 * (n1 + n2 + 1) / 12)\n",
        "\n",
        "# 计算Z值\n",
        "Z <- (U - E_U) / sigma_U\n",
        "\n",
        "# 打印结果\n",
        "cat(\"U值 (W值):\", U, \"\\n\")\n",
        "cat(\"期望值 E(U):\", E_U, \"\\n\")\n",
        "cat(\"标准差σ(U):\", sigma_U, \"\\n\")\n",
        "cat(\"Z值:\", Z, \"\\n\")\n",
        "\n",
        "# 计算组A的描述性统计信息\n",
        "summary_A <- summary(A)\n",
        "mean_A <- mean(A)\n",
        "median_A <- median(A)\n",
        "variance_A <- var(A)\n",
        "sd_A <- sd(A)\n",
        "\n",
        "# 计算组B的描述性统计信息\n",
        "summary_B <- summary(B)\n",
        "mean_B <- mean(B)\n",
        "median_B <- median(B)\n",
        "variance_B <- var(B)\n",
        "sd_B <- sd(B)\n",
        "\n",
        "# 打印组A的统计信息\n",
        "cat(\"组A的统计信息:\\n\")\n",
        "cat(\"Mean:\", mean_A, \"\\n\")\n",
        "cat(\"Median:\", median_A, \"\\n\")\n",
        "cat(\"SD:\", sd_A, \"\\n\\n\")\n",
        "\n",
        "# 打印组B的统计信息\n",
        "cat(\"组B的统计信息:\\n\")\n",
        "cat(\"Mean:\", mean_B, \"\\n\")\n",
        "cat(\"Median:\", median_B, \"\\n\")\n",
        "cat(\"SD:\", sd_B, \"\\n\")\n"
      ]
    },
    {
      "cell_type": "markdown",
      "metadata": {
        "id": "9aiYzG0uwyO9"
      },
      "source": [
        "    Purported Human Cooperate"
      ]
    },
    {
      "cell_type": "code",
      "execution_count": null,
      "metadata": {
        "colab": {
          "base_uri": "https://localhost:8080/",
          "height": 425
        },
        "collapsed": true,
        "id": "ujO5LyK9bd7x",
        "outputId": "a06097b0-a9d7-4ff9-adb4-a536061a7a3a"
      },
      "outputs": [
        {
          "data": {
            "text/plain": [
              "\n",
              "\tWilcoxon rank sum test with continuity correction\n",
              "\n",
              "data:  A and B\n",
              "W = 154.5, p-value = 0.08394\n",
              "alternative hypothesis: true location shift is not equal to 0\n",
              "95 percent confidence interval:\n",
              " -0.9999649  8.9999199\n",
              "sample estimates:\n",
              "difference in location \n",
              "              2.999945 \n"
            ]
          },
          "metadata": {},
          "output_type": "display_data"
        },
        {
          "name": "stdout",
          "output_type": "stream",
          "text": [
            "U值 (W值): 70.5 \n",
            "期望值 E(U): 112.5 \n",
            "标准差σ(U): 24.10913 \n",
            "Z值: -1.742079 \n",
            "组A的统计信息:\n",
            "Mean: 29.2 \n",
            "Median: 31 \n",
            "SD: 3.764496 \n",
            "\n",
            "组B的统计信息:\n",
            "Mean: 24.8 \n",
            "Median: 26 \n",
            "SD: 8.239279 \n"
          ]
        }
      ],
      "source": [
        "# 样本数据\n",
        "A <- c(30, 34, 26, 32, 31, 32, 31, 23, 34, 26, 24, 26, 32, 25, 32)\n",
        "B <- c(30, 7, 37, 29, 12, 30, 16, 31, 34, 29, 21, 26, 24, 21, 25)\n",
        "\n",
        "# Mann-Whitney U检验\n",
        "wilcox.test(A, B, exact=FALSE, conf.int=TRUE)\n",
        "\n",
        "# 计算样本大小\n",
        "n1 <- length(A)\n",
        "n2 <- length(B)\n",
        "\n",
        "# 合并数据并计算秩\n",
        "combined_data <- c(A, B)\n",
        "ranks <- rank(combined_data)\n",
        "\n",
        "# 计算第一组的秩和\n",
        "R1 <- sum(ranks[1:n1])\n",
        "\n",
        "# 计算U值\n",
        "U1 <- n1 * n2 + (n1 * (n1 + 1)) / 2 - R1\n",
        "U2 <- n1 * n2 - U1\n",
        "U <- min(U1, U2)\n",
        "\n",
        "# 计算期望值E(U)和标准差σ(U)\n",
        "E_U <- n1 * n2 / 2\n",
        "sigma_U <- sqrt(n1 * n2 * (n1 + n2 + 1) / 12)\n",
        "\n",
        "# 计算Z值\n",
        "Z <- (U - E_U) / sigma_U\n",
        "\n",
        "# 打印结果\n",
        "cat(\"U值 (W值):\", U, \"\\n\")\n",
        "cat(\"期望值 E(U):\", E_U, \"\\n\")\n",
        "cat(\"标准差σ(U):\", sigma_U, \"\\n\")\n",
        "cat(\"Z值:\", Z, \"\\n\")\n",
        "\n",
        "# 计算组A的描述性统计信息\n",
        "summary_A <- summary(A)\n",
        "mean_A <- mean(A)\n",
        "median_A <- median(A)\n",
        "variance_A <- var(A)\n",
        "sd_A <- sd(A)\n",
        "\n",
        "# 计算组B的描述性统计信息\n",
        "summary_B <- summary(B)\n",
        "mean_B <- mean(B)\n",
        "median_B <- median(B)\n",
        "variance_B <- var(B)\n",
        "sd_B <- sd(B)\n",
        "\n",
        "# 打印组A的统计信息\n",
        "cat(\"组A的统计信息:\\n\")\n",
        "cat(\"Mean:\", mean_A, \"\\n\")\n",
        "cat(\"Median:\", median_A, \"\\n\")\n",
        "cat(\"SD:\", sd_A, \"\\n\\n\")\n",
        "\n",
        "# 打印组B的统计信息\n",
        "cat(\"组B的统计信息:\\n\")\n",
        "cat(\"Mean:\", mean_B, \"\\n\")\n",
        "cat(\"Median:\", median_B, \"\\n\")\n",
        "cat(\"SD:\", sd_B, \"\\n\")"
      ]
    },
    {
      "cell_type": "markdown",
      "metadata": {
        "id": "FVP6h-qfxjaJ"
      },
      "source": [
        "    LLM Cooperate"
      ]
    },
    {
      "cell_type": "code",
      "execution_count": null,
      "metadata": {
        "colab": {
          "base_uri": "https://localhost:8080/",
          "height": 425
        },
        "id": "uWRRHwMAcYjN",
        "outputId": "5538fade-ba36-4849-8f23-e5ff2cb94739"
      },
      "outputs": [
        {
          "output_type": "display_data",
          "data": {
            "text/plain": [
              "\n",
              "\tWilcoxon rank sum test with continuity correction\n",
              "\n",
              "data:  A and B\n",
              "W = 140, p-value = 0.2621\n",
              "alternative hypothesis: true location shift is not equal to 0\n",
              "95 percent confidence interval:\n",
              " -2.999964  8.999954\n",
              "sample estimates:\n",
              "difference in location \n",
              "              3.999939 \n"
            ]
          },
          "metadata": {}
        },
        {
          "output_type": "stream",
          "name": "stdout",
          "text": [
            "U值 (W值): 85 \n",
            "期望值 E(U): 112.5 \n",
            "标准差σ(U): 24.10913 \n",
            "Z值: -1.140647 \n",
            "组A的统计信息:\n",
            "Mean: 25.53333 \n",
            "Median: 27 \n",
            "SD: 6.22055 \n",
            "\n",
            "组B的统计信息:\n",
            "Mean: 22.13333 \n",
            "Median: 22 \n",
            "SD: 7.395623 \n"
          ]
        }
      ],
      "source": [
        "# 新的样本数据\n",
        "A <- c(34, 30, 21, 35, 25, 28, 18, 28, 15, 31, 27, 19, 29, 17, 26)\n",
        "B <- c(18, 5, 31, 34, 22, 21, 17, 28, 24, 14, 20, 21, 23, 32, 22)\n",
        "\n",
        "# Mann-Whitney U检验\n",
        "wilcox.test(A, B, exact=FALSE, conf.int=TRUE)\n",
        "\n",
        "# 计算样本大小\n",
        "n1 <- length(A)\n",
        "n2 <- length(B)\n",
        "\n",
        "# 合并数据并计算秩\n",
        "combined_data <- c(A, B)\n",
        "ranks <- rank(combined_data)\n",
        "\n",
        "# 计算第一组的秩和\n",
        "R1 <- sum(ranks[1:n1])\n",
        "\n",
        "# 计算U值\n",
        "U1 <- n1 * n2 + (n1 * (n1 + 1)) / 2 - R1\n",
        "U2 <- n1 * n2 - U1\n",
        "U <- min(U1, U2)\n",
        "\n",
        "# 计算期望值E(U)和标准差σ(U)\n",
        "E_U <- n1 * n2 / 2\n",
        "sigma_U <- sqrt(n1 * n2 * (n1 + n2 + 1) / 12)\n",
        "\n",
        "# 计算Z值\n",
        "Z <- (U - E_U) / sigma_U\n",
        "\n",
        "# 打印结果\n",
        "cat(\"U值 (W值):\", U, \"\\n\")\n",
        "cat(\"期望值 E(U):\", E_U, \"\\n\")\n",
        "cat(\"标准差σ(U):\", sigma_U, \"\\n\")\n",
        "cat(\"Z值:\", Z, \"\\n\")\n",
        "\n",
        "# 计算组A的描述性统计信息\n",
        "summary_A <- summary(A)\n",
        "mean_A <- mean(A)\n",
        "median_A <- median(A)\n",
        "variance_A <- var(A)\n",
        "sd_A <- sd(A)\n",
        "\n",
        "# 计算组B的描述性统计信息\n",
        "summary_B <- summary(B)\n",
        "mean_B <- mean(B)\n",
        "median_B <- median(B)\n",
        "variance_B <- var(B)\n",
        "sd_B <- sd(B)\n",
        "\n",
        "# 打印组A的统计信息\n",
        "cat(\"组A的统计信息:\\n\")\n",
        "cat(\"Mean:\", mean_A, \"\\n\")\n",
        "cat(\"Median:\", median_A, \"\\n\")\n",
        "cat(\"SD:\", sd_A, \"\\n\\n\")\n",
        "\n",
        "# 打印组B的统计信息\n",
        "cat(\"组B的统计信息:\\n\")\n",
        "cat(\"Mean:\", mean_B, \"\\n\")\n",
        "cat(\"Median:\", median_B, \"\\n\")\n",
        "cat(\"SD:\", sd_B, \"\\n\")\n"
      ]
    },
    {
      "cell_type": "markdown",
      "metadata": {
        "id": "vcFmJYNMx4XG"
      },
      "source": [
        "    Purported Human Befriendly"
      ]
    },
    {
      "cell_type": "code",
      "execution_count": null,
      "metadata": {
        "colab": {
          "base_uri": "https://localhost:8080/",
          "height": 425
        },
        "collapsed": true,
        "id": "N8Wp6-TDzBQR",
        "outputId": "3493b011-fc9d-41ff-82a9-d51b4705b6ee"
      },
      "outputs": [
        {
          "data": {
            "text/plain": [
              "\n",
              "\tWilcoxon rank sum test with continuity correction\n",
              "\n",
              "data:  A and B\n",
              "W = 150.5, p-value = 0.1198\n",
              "alternative hypothesis: true location shift is not equal to 0\n",
              "95 percent confidence interval:\n",
              " -0.03335484  0.14588834\n",
              "sample estimates:\n",
              "difference in location \n",
              "            0.06886667 \n"
            ]
          },
          "metadata": {},
          "output_type": "display_data"
        },
        {
          "name": "stdout",
          "output_type": "stream",
          "text": [
            "U值 (W值): 74.5 \n",
            "期望值 E(U): 112.5 \n",
            "标准差σ(U): 24.10913 \n",
            "Z值: -1.576167 \n",
            "组A的统计信息:\n",
            "Mean: 0.43186 \n",
            "Median: 0.4167 \n",
            "SD: 0.0830172 \n",
            "\n",
            "组B的统计信息:\n",
            "Mean: 0.3851533 \n",
            "Median: 0.3636 \n",
            "SD: 0.1657778 \n"
          ]
        }
      ],
      "source": [
        "# 新的样本数据（百分比转换为小数）\n",
        "A <- c(54.55, 41.67, 38.89, 27.27, 43.75, 40.91, 38.10, 42.31, 61.90, 39.29, 53.33, 40.00, 42.11, 37.04, 46.67) / 100\n",
        "B <- c(37.50, 10.00, 64.00, 50.00, 26.32, 29.41, 25.00, 52.00, 38.89, 32.00, 31.25, 75.00, 45.00, 36.36, 25.00) / 100\n",
        "\n",
        "# Mann-Whitney U检验\n",
        "wilcox.test(A, B, exact=FALSE, conf.int=TRUE)\n",
        "\n",
        "\n",
        "# 计算样本大小\n",
        "n1 <- length(A)\n",
        "n2 <- length(B)\n",
        "\n",
        "# 合并数据并计算秩\n",
        "combined_data <- c(A, B)\n",
        "ranks <- rank(combined_data)\n",
        "\n",
        "# 计算第一组的秩和\n",
        "R1 <- sum(ranks[1:n1])\n",
        "\n",
        "# 计算U值\n",
        "U1 <- n1 * n2 + (n1 * (n1 + 1)) / 2 - R1\n",
        "U2 <- n1 * n2 - U1\n",
        "U <- min(U1, U2)\n",
        "\n",
        "# 计算期望值E(U)和标准差σ(U)\n",
        "E_U <- n1 * n2 / 2\n",
        "sigma_U <- sqrt(n1 * n2 * (n1 + n2 + 1) / 12)\n",
        "\n",
        "# 计算Z值\n",
        "Z <- (U - E_U) / sigma_U\n",
        "\n",
        "# 打印结果\n",
        "cat(\"U值 (W值):\", U, \"\\n\")\n",
        "cat(\"期望值 E(U):\", E_U, \"\\n\")\n",
        "cat(\"标准差σ(U):\", sigma_U, \"\\n\")\n",
        "cat(\"Z值:\", Z, \"\\n\")\n",
        "\n",
        "# 计算组A的描述性统计信息\n",
        "summary_A <- summary(A)\n",
        "mean_A <- mean(A)\n",
        "median_A <- median(A)\n",
        "variance_A <- var(A)\n",
        "sd_A <- sd(A)\n",
        "\n",
        "# 计算组B的描述性统计信息\n",
        "summary_B <- summary(B)\n",
        "mean_B <- mean(B)\n",
        "median_B <- median(B)\n",
        "variance_B <- var(B)\n",
        "sd_B <- sd(B)\n",
        "\n",
        "# 打印组A的统计信息\n",
        "cat(\"组A的统计信息:\\n\")\n",
        "cat(\"Mean:\", mean_A, \"\\n\")\n",
        "cat(\"Median:\", median_A, \"\\n\")\n",
        "cat(\"SD:\", sd_A, \"\\n\\n\")\n",
        "\n",
        "# 打印组B的统计信息\n",
        "cat(\"组B的统计信息:\\n\")\n",
        "cat(\"Mean:\", mean_B, \"\\n\")\n",
        "cat(\"Median:\", median_B, \"\\n\")\n",
        "cat(\"SD:\", sd_B, \"\\n\")"
      ]
    },
    {
      "cell_type": "markdown",
      "metadata": {
        "id": "OFS6qcpzzF1g"
      },
      "source": [
        "    Purported Interpretable Befriendly\n"
      ]
    },
    {
      "cell_type": "code",
      "execution_count": null,
      "metadata": {
        "colab": {
          "base_uri": "https://localhost:8080/",
          "height": 425
        },
        "id": "9kOIjIY_dIox",
        "outputId": "0f8af7f8-677b-48f9-abf9-a2f0c168cc4b"
      },
      "outputs": [
        {
          "output_type": "display_data",
          "data": {
            "text/plain": [
              "\n",
              "\tWilcoxon rank sum test with continuity correction\n",
              "\n",
              "data:  A and B\n",
              "W = 51, p-value = 0.01134\n",
              "alternative hypothesis: true location shift is not equal to 0\n",
              "95 percent confidence interval:\n",
              " -0.22052900 -0.02120934\n",
              "sample estimates:\n",
              "difference in location \n",
              "            -0.1238572 \n"
            ]
          },
          "metadata": {}
        },
        {
          "output_type": "stream",
          "name": "stdout",
          "text": [
            "U值 (W值): 51 \n",
            "期望值 E(U): 112.5 \n",
            "标准差σ(U): 24.10913 \n",
            "Z值: -2.550901 \n",
            "组A的统计信息:\n",
            "Mean: 0.3247267 \n",
            "Median: 0.3333 \n",
            "SD: 0.1419162 \n",
            "\n",
            "组B的统计信息:\n",
            "Mean: 0.4725067 \n",
            "Median: 0.4286 \n",
            "SD: 0.1742625 \n"
          ]
        }
      ],
      "source": [
        "# 新的样本数据（百分比转换为小数）\n",
        "A <- c(39.13, 27.59, 0.00, 33.33, 25.00, 45.16, 42.11, 61.11, 40.91, 40.74, 30.43, 25.00, 21.43, 37.50, 17.65) / 100\n",
        "B <- c(25.00, 41.67, 42.86, 59.38, 40.91, 100.00, 45.45, 40.00, 60.00, 40.00, 31.58, 50.00, 51.52, 47.06, 33.33) / 100\n",
        "\n",
        "# Mann-Whitney U检验\n",
        "wilcox.test(A, B, exact=FALSE, conf.int=TRUE)\n",
        "\n",
        "\n",
        "# 计算样本大小\n",
        "n1 <- length(A)\n",
        "n2 <- length(B)\n",
        "\n",
        "# 合并数据并计算秩\n",
        "combined_data <- c(A, B)\n",
        "ranks <- rank(combined_data)\n",
        "\n",
        "# 计算第一组的秩和\n",
        "R1 <- sum(ranks[1:n1])\n",
        "\n",
        "# 计算U值\n",
        "U1 <- n1 * n2 + (n1 * (n1 + 1)) / 2 - R1\n",
        "U2 <- n1 * n2 - U1\n",
        "U <- min(U1, U2)\n",
        "\n",
        "# 计算期望值E(U)和标准差σ(U)\n",
        "E_U <- n1 * n2 / 2\n",
        "sigma_U <- sqrt(n1 * n2 * (n1 + n2 + 1) / 12)\n",
        "\n",
        "# 计算Z值\n",
        "Z <- (U - E_U) / sigma_U\n",
        "\n",
        "# 打印结果\n",
        "cat(\"U值 (W值):\", U, \"\\n\")\n",
        "cat(\"期望值 E(U):\", E_U, \"\\n\")\n",
        "cat(\"标准差σ(U):\", sigma_U, \"\\n\")\n",
        "cat(\"Z值:\", Z, \"\\n\")\n",
        "\n",
        "# 计算组A的描述性统计信息\n",
        "summary_A <- summary(A)\n",
        "mean_A <- mean(A)\n",
        "median_A <- median(A)\n",
        "variance_A <- var(A)\n",
        "sd_A <- sd(A)\n",
        "\n",
        "# 计算组B的描述性统计信息\n",
        "summary_B <- summary(B)\n",
        "mean_B <- mean(B)\n",
        "median_B <- median(B)\n",
        "variance_B <- var(B)\n",
        "sd_B <- sd(B)\n",
        "\n",
        "# 打印组A的统计信息\n",
        "cat(\"组A的统计信息:\\n\")\n",
        "cat(\"Mean:\", mean_A, \"\\n\")\n",
        "cat(\"Median:\", median_A, \"\\n\")\n",
        "cat(\"SD:\", sd_A, \"\\n\\n\")\n",
        "\n",
        "# 打印组B的统计信息\n",
        "cat(\"组B的统计信息:\\n\")\n",
        "cat(\"Mean:\", mean_B, \"\\n\")\n",
        "cat(\"Median:\", median_B, \"\\n\")\n",
        "cat(\"SD:\", sd_B, \"\\n\")"
      ]
    },
    {
      "cell_type": "markdown",
      "metadata": {
        "id": "Rr_XRpzxzYEq"
      },
      "source": [
        "    LLM Befriendly\n",
        "    非正态分布, Mann-Whitney Test, p-value = 0.4526 > 0.05"
      ]
    },
    {
      "cell_type": "code",
      "execution_count": null,
      "metadata": {
        "colab": {
          "base_uri": "https://localhost:8080/",
          "height": 425
        },
        "collapsed": true,
        "id": "i7ZLyy3UzXw4",
        "outputId": "dc855868-d350-4a07-d4cb-b30217f7591b"
      },
      "outputs": [
        {
          "data": {
            "text/plain": [
              "\n",
              "\tWilcoxon rank sum test with continuity correction\n",
              "\n",
              "data:  A and B\n",
              "W = 136, p-value = 0.3398\n",
              "alternative hypothesis: true location shift is not equal to 0\n",
              "95 percent confidence interval:\n",
              " -0.0537411  0.1352133\n",
              "sample estimates:\n",
              "difference in location \n",
              "            0.04124375 \n"
            ]
          },
          "metadata": {},
          "output_type": "display_data"
        },
        {
          "name": "stdout",
          "output_type": "stream",
          "text": [
            "U值 (W值): 89 \n",
            "期望值 E(U): 112.5 \n",
            "标准差σ(U): 24.10913 \n",
            "Z值: -0.9747346 \n",
            "组A的统计信息:\n",
            "Mean: 0.3736333 \n",
            "Median: 0.3871 \n",
            "SD: 0.1019928 \n",
            "\n",
            "组B的统计信息:\n",
            "Mean: 0.3358933 \n",
            "Median: 0.35 \n",
            "SD: 0.1619318 \n"
          ]
        }
      ],
      "source": [
        "# 新的样本数据（百分比转换为小数）\n",
        "A <- c(47.83, 31.25, 33.33, 38.89, 42.86, 23.81, 40.00, 46.43, 20.59, 56.52, 38.71, 29.63, 50.00, 27.27, 33.33) / 100\n",
        "B <- c(25.00, 0.00, 42.31, 56.52, 21.43, 21.05, 26.47, 42.86, 23.81, 35.00, 29.41, 35.00, 38.71, 69.23, 37.04) / 100\n",
        "\n",
        "# Mann-Whitney U检验\n",
        "wilcox.test(A, B, exact=FALSE, conf.int=TRUE)\n",
        "\n",
        "# 计算样本大小\n",
        "n1 <- length(A)\n",
        "n2 <- length(B)\n",
        "\n",
        "# 合并数据并计算秩\n",
        "combined_data <- c(A, B)\n",
        "ranks <- rank(combined_data)\n",
        "\n",
        "# 计算第一组的秩和\n",
        "R1 <- sum(ranks[1:n1])\n",
        "\n",
        "# 计算U值\n",
        "U1 <- n1 * n2 + (n1 * (n1 + 1)) / 2 - R1\n",
        "U2 <- n1 * n2 - U1\n",
        "U <- min(U1, U2)\n",
        "\n",
        "# 计算期望值E(U)和标准差σ(U)\n",
        "E_U <- n1 * n2 / 2\n",
        "sigma_U <- sqrt(n1 * n2 * (n1 + n2 + 1) / 12)\n",
        "\n",
        "# 计算Z值\n",
        "Z <- (U - E_U) / sigma_U\n",
        "\n",
        "# 打印结果\n",
        "cat(\"U值 (W值):\", U, \"\\n\")\n",
        "cat(\"期望值 E(U):\", E_U, \"\\n\")\n",
        "cat(\"标准差σ(U):\", sigma_U, \"\\n\")\n",
        "cat(\"Z值:\", Z, \"\\n\")\n",
        "\n",
        "# 计算组A的描述性统计信息\n",
        "summary_A <- summary(A)\n",
        "mean_A <- mean(A)\n",
        "median_A <- median(A)\n",
        "variance_A <- var(A)\n",
        "sd_A <- sd(A)\n",
        "\n",
        "# 计算组B的描述性统计信息\n",
        "summary_B <- summary(B)\n",
        "mean_B <- mean(B)\n",
        "median_B <- median(B)\n",
        "variance_B <- var(B)\n",
        "sd_B <- sd(B)\n",
        "\n",
        "# 打印组A的统计信息\n",
        "cat(\"组A的统计信息:\\n\")\n",
        "cat(\"Mean:\", mean_A, \"\\n\")\n",
        "cat(\"Median:\", median_A, \"\\n\")\n",
        "cat(\"SD:\", sd_A, \"\\n\\n\")\n",
        "\n",
        "# 打印组B的统计信息\n",
        "cat(\"组B的统计信息:\\n\")\n",
        "cat(\"Mean:\", mean_B, \"\\n\")\n",
        "cat(\"Median:\", median_B, \"\\n\")\n",
        "cat(\"SD:\", sd_B, \"\\n\")"
      ]
    },
    {
      "cell_type": "markdown",
      "metadata": {
        "id": "mieCUVlC11XA"
      },
      "source": [
        "    Purported Human Repair-Effort"
      ]
    },
    {
      "cell_type": "code",
      "execution_count": null,
      "metadata": {
        "colab": {
          "base_uri": "https://localhost:8080/",
          "height": 425
        },
        "collapsed": true,
        "id": "4diqGs1I10-k",
        "outputId": "c2c33d42-5176-4e0f-e5f0-09c9bca1686d"
      },
      "outputs": [
        {
          "data": {
            "text/plain": [
              "\n",
              "\tWilcoxon rank sum test with continuity correction\n",
              "\n",
              "data:  A and B\n",
              "W = 120, p-value = 0.7712\n",
              "alternative hypothesis: true location shift is not equal to 0\n",
              "95 percent confidence interval:\n",
              " -0.06677112  0.09092786\n",
              "sample estimates:\n",
              "difference in location \n",
              "            0.01680028 \n"
            ]
          },
          "metadata": {},
          "output_type": "display_data"
        },
        {
          "name": "stdout",
          "output_type": "stream",
          "text": [
            "U值 (W值): 105 \n",
            "期望值 E(U): 112.5 \n",
            "标准差σ(U): 24.10913 \n",
            "Z值: -0.3110855 \n",
            "组A的统计信息:\n",
            "Mean: 0.4383333 \n",
            "Median: 0.4444 \n",
            "SD: 0.08215632 \n",
            "\n",
            "组B的统计信息:\n",
            "Mean: 0.4330533 \n",
            "Median: 0.4118 \n",
            "SD: 0.1137989 \n"
          ]
        }
      ],
      "source": [
        "# 新的样本数据（百分比转换为小数）\n",
        "A <- c(54.55, 50.00, 50.00, 31.82, 50.00, 50.00, 52.38, 34.62, 33.33, 42.86, 40.00, 33.33, 36.84, 44.44, 53.33) / 100\n",
        "B <- c(56.25, 30.00, 36.00, 40.00, 31.58, 41.18, 35.71, 60.00, 66.67, 28.00, 43.75, 41.67, 55.00, 40.91, 42.86) / 100\n",
        "\n",
        "# Mann-Whitney U检验\n",
        "wilcox.test(A, B, exact=FALSE, conf.int=TRUE)\n",
        "\n",
        "# 计算样本大小\n",
        "n1 <- length(A)\n",
        "n2 <- length(B)\n",
        "\n",
        "# 合并数据并计算秩\n",
        "combined_data <- c(A, B)\n",
        "ranks <- rank(combined_data)\n",
        "\n",
        "# 计算第一组的秩和\n",
        "R1 <- sum(ranks[1:n1])\n",
        "\n",
        "# 计算U值\n",
        "U1 <- n1 * n2 + (n1 * (n1 + 1)) / 2 - R1\n",
        "U2 <- n1 * n2 - U1\n",
        "U <- min(U1, U2)\n",
        "\n",
        "# 计算期望值E(U)和标准差σ(U)\n",
        "E_U <- n1 * n2 / 2\n",
        "sigma_U <- sqrt(n1 * n2 * (n1 + n2 + 1) / 12)\n",
        "\n",
        "# 计算Z值\n",
        "Z <- (U - E_U) / sigma_U\n",
        "\n",
        "# 打印结果\n",
        "cat(\"U值 (W值):\", U, \"\\n\")\n",
        "cat(\"期望值 E(U):\", E_U, \"\\n\")\n",
        "cat(\"标准差σ(U):\", sigma_U, \"\\n\")\n",
        "cat(\"Z值:\", Z, \"\\n\")\n",
        "\n",
        "# 计算组A的描述性统计信息\n",
        "summary_A <- summary(A)\n",
        "mean_A <- mean(A)\n",
        "median_A <- median(A)\n",
        "variance_A <- var(A)\n",
        "sd_A <- sd(A)\n",
        "\n",
        "# 计算组B的描述性统计信息\n",
        "summary_B <- summary(B)\n",
        "mean_B <- mean(B)\n",
        "median_B <- median(B)\n",
        "variance_B <- var(B)\n",
        "sd_B <- sd(B)\n",
        "\n",
        "# 打印组A的统计信息\n",
        "cat(\"组A的统计信息:\\n\")\n",
        "cat(\"Mean:\", mean_A, \"\\n\")\n",
        "cat(\"Median:\", median_A, \"\\n\")\n",
        "cat(\"SD:\", sd_A, \"\\n\\n\")\n",
        "\n",
        "# 打印组B的统计信息\n",
        "cat(\"组B的统计信息:\\n\")\n",
        "cat(\"Mean:\", mean_B, \"\\n\")\n",
        "cat(\"Median:\", median_B, \"\\n\")\n",
        "cat(\"SD:\", sd_B, \"\\n\")"
      ]
    },
    {
      "cell_type": "markdown",
      "metadata": {
        "id": "xjCc2fuZ2oS_"
      },
      "source": [
        "    Purported Interpretable Repair-Effort"
      ]
    },
    {
      "cell_type": "code",
      "execution_count": null,
      "metadata": {
        "colab": {
          "base_uri": "https://localhost:8080/",
          "height": 425
        },
        "collapsed": true,
        "id": "9crL8wfB2oI5",
        "outputId": "34b8e7c9-e6b2-49f2-ebd9-98d1b728ca40"
      },
      "outputs": [
        {
          "output_type": "display_data",
          "data": {
            "text/plain": [
              "\n",
              "\tWilcoxon rank sum test with continuity correction\n",
              "\n",
              "data:  A and B\n",
              "W = 100.5, p-value = 0.6331\n",
              "alternative hypothesis: true location shift is not equal to 0\n",
              "95 percent confidence interval:\n",
              " -0.08617863  0.05698115\n",
              "sample estimates:\n",
              "difference in location \n",
              "           -0.01204134 \n"
            ]
          },
          "metadata": {}
        },
        {
          "output_type": "stream",
          "name": "stdout",
          "text": [
            "U值 (W值): 100.5 \n",
            "期望值 E(U): 112.5 \n",
            "标准差σ(U): 24.10913 \n",
            "Z值: -0.4977368 \n",
            "组A的统计信息:\n",
            "Mean: 0.36528 \n",
            "Median: 0.3704 \n",
            "SD: 0.150824 \n",
            "\n",
            "组B的统计信息:\n",
            "Mean: 0.3969 \n",
            "Median: 0.4 \n",
            "SD: 0.06655532 \n"
          ]
        }
      ],
      "source": [
        "# 新的样本数据（百分比转换为小数）\n",
        "A <- c(56.52, 41.38, 0.00, 58.33, 34.38, 45.16, 47.37, 44.44, 40.91, 37.04, 34.78, 31.25, 28.57, 12.50, 35.29) / 100\n",
        "B <- c(37.50, 50.00, 35.71, 37.50, 50.00, 33.33, 31.82, 28.00, 40.00, 40.00, 42.11, 50.00, 42.42, 35.29, 41.67) / 100\n",
        "\n",
        "# Mann-Whitney U检验\n",
        "wilcox.test(A, B, exact=FALSE, conf.int=TRUE)\n",
        "\n",
        "# 计算样本大小\n",
        "n1 <- length(A)\n",
        "n2 <- length(B)\n",
        "\n",
        "# 合并数据并计算秩\n",
        "combined_data <- c(A, B)\n",
        "ranks <- rank(combined_data)\n",
        "\n",
        "# 计算第一组的秩和\n",
        "R1 <- sum(ranks[1:n1])\n",
        "\n",
        "# 计算U值\n",
        "U1 <- n1 * n2 + (n1 * (n1 + 1)) / 2 - R1\n",
        "U2 <- n1 * n2 - U1\n",
        "U <- min(U1, U2)\n",
        "\n",
        "# 计算期望值E(U)和标准差σ(U)\n",
        "E_U <- n1 * n2 / 2\n",
        "sigma_U <- sqrt(n1 * n2 * (n1 + n2 + 1) / 12)\n",
        "\n",
        "# 计算Z值\n",
        "Z <- (U - E_U) / sigma_U\n",
        "\n",
        "# 打印结果\n",
        "cat(\"U值 (W值):\", U, \"\\n\")\n",
        "cat(\"期望值 E(U):\", E_U, \"\\n\")\n",
        "cat(\"标准差σ(U):\", sigma_U, \"\\n\")\n",
        "cat(\"Z值:\", Z, \"\\n\")\n",
        "\n",
        "# 计算组A的描述性统计信息\n",
        "summary_A <- summary(A)\n",
        "mean_A <- mean(A)\n",
        "median_A <- median(A)\n",
        "variance_A <- var(A)\n",
        "sd_A <- sd(A)\n",
        "\n",
        "# 计算组B的描述性统计信息\n",
        "summary_B <- summary(B)\n",
        "mean_B <- mean(B)\n",
        "median_B <- median(B)\n",
        "variance_B <- var(B)\n",
        "sd_B <- sd(B)\n",
        "\n",
        "# 打印组A的统计信息\n",
        "cat(\"组A的统计信息:\\n\")\n",
        "cat(\"Mean:\", mean_A, \"\\n\")\n",
        "cat(\"Median:\", median_A, \"\\n\")\n",
        "cat(\"SD:\", sd_A, \"\\n\\n\")\n",
        "\n",
        "# 打印组B的统计信息\n",
        "cat(\"组B的统计信息:\\n\")\n",
        "cat(\"Mean:\", mean_B, \"\\n\")\n",
        "cat(\"Median:\", median_B, \"\\n\")\n",
        "cat(\"SD:\", sd_B, \"\\n\")"
      ]
    },
    {
      "cell_type": "markdown",
      "metadata": {
        "id": "ZP4GmOrb3ZGs"
      },
      "source": [
        "    LLM Repair-Effort\n",
        "   "
      ]
    },
    {
      "cell_type": "code",
      "execution_count": null,
      "metadata": {
        "colab": {
          "base_uri": "https://localhost:8080/",
          "height": 425
        },
        "collapsed": true,
        "id": "m8RPMiWN3Y6S",
        "outputId": "7fd32202-8c72-4bb4-b7ab-5b113588a710"
      },
      "outputs": [
        {
          "data": {
            "text/plain": [
              "\n",
              "\tWilcoxon rank sum test with continuity correction\n",
              "\n",
              "data:  A and B\n",
              "W = 78, p-value = 0.1582\n",
              "alternative hypothesis: true location shift is not equal to 0\n",
              "95 percent confidence interval:\n",
              " -0.14276819  0.03566383\n",
              "sample estimates:\n",
              "difference in location \n",
              "           -0.06433659 \n"
            ]
          },
          "metadata": {},
          "output_type": "display_data"
        },
        {
          "name": "stdout",
          "output_type": "stream",
          "text": [
            "U值 (W值): 78 \n",
            "期望值 E(U): 112.5 \n",
            "标准差σ(U): 24.10913 \n",
            "Z值: -1.430993 \n",
            "组A的统计信息:\n",
            "Mean: 0.33552 \n",
            "Median: 0.3226 \n",
            "SD: 0.09210242 \n",
            "\n",
            "组B的统计信息:\n",
            "Mean: 0.3818933 \n",
            "Median: 0.3571 \n",
            "SD: 0.1527247 \n"
          ]
        }
      ],
      "source": [
        "# 新的样本数据（百分比转换为小数）\n",
        "A <- c(21.74, 25.00, 33.33, 44.44, 42.86, 42.86, 35.00, 46.43, 20.59, 47.83, 32.26, 25.93, 28.57, 27.27, 29.17) / 100\n",
        "B <- c(35.00, 0.00, 34.62, 47.83, 35.71, 21.05, 41.18, 35.71, 57.14, 25.00, 47.06, 55.00, 58.06, 46.15, 33.33) / 100\n",
        "\n",
        "# Mann-Whitney U检验\n",
        "wilcox.test(A, B, exact=FALSE, conf.int=TRUE)\n",
        "\n",
        "# 计算样本大小\n",
        "n1 <- length(A)\n",
        "n2 <- length(B)\n",
        "\n",
        "# 合并数据并计算秩\n",
        "combined_data <- c(A, B)\n",
        "ranks <- rank(combined_data)\n",
        "\n",
        "# 计算第一组的秩和\n",
        "R1 <- sum(ranks[1:n1])\n",
        "\n",
        "# 计算U值\n",
        "U1 <- n1 * n2 + (n1 * (n1 + 1)) / 2 - R1\n",
        "U2 <- n1 * n2 - U1\n",
        "U <- min(U1, U2)\n",
        "\n",
        "# 计算期望值E(U)和标准差σ(U)\n",
        "E_U <- n1 * n2 / 2\n",
        "sigma_U <- sqrt(n1 * n2 * (n1 + n2 + 1) / 12)\n",
        "\n",
        "# 计算Z值\n",
        "Z <- (U - E_U) / sigma_U\n",
        "\n",
        "# 打印结果\n",
        "cat(\"U值 (W值):\", U, \"\\n\")\n",
        "cat(\"期望值 E(U):\", E_U, \"\\n\")\n",
        "cat(\"标准差σ(U):\", sigma_U, \"\\n\")\n",
        "cat(\"Z值:\", Z, \"\\n\")\n",
        "\n",
        "# 计算组A的描述性统计信息\n",
        "summary_A <- summary(A)\n",
        "mean_A <- mean(A)\n",
        "median_A <- median(A)\n",
        "variance_A <- var(A)\n",
        "sd_A <- sd(A)\n",
        "\n",
        "# 计算组B的描述性统计信息\n",
        "summary_B <- summary(B)\n",
        "mean_B <- mean(B)\n",
        "median_B <- median(B)\n",
        "variance_B <- var(B)\n",
        "sd_B <- sd(B)\n",
        "\n",
        "# 打印组A的统计信息\n",
        "cat(\"组A的统计信息:\\n\")\n",
        "cat(\"Mean:\", mean_A, \"\\n\")\n",
        "cat(\"Median:\", median_A, \"\\n\")\n",
        "cat(\"SD:\", sd_A, \"\\n\\n\")\n",
        "\n",
        "# 打印组B的统计信息\n",
        "cat(\"组B的统计信息:\\n\")\n",
        "cat(\"Mean:\", mean_B, \"\\n\")\n",
        "cat(\"Median:\", median_B, \"\\n\")\n",
        "cat(\"SD:\", sd_B, \"\\n\")"
      ]
    },
    {
      "cell_type": "markdown",
      "metadata": {
        "id": "0kVDGtqolv26"
      },
      "source": [
        "    Purported Human Befirendly Weighted"
      ]
    },
    {
      "cell_type": "code",
      "execution_count": null,
      "metadata": {
        "colab": {
          "base_uri": "https://localhost:8080/",
          "height": 425
        },
        "collapsed": true,
        "id": "-U778mQ9lvfB",
        "outputId": "291d843c-23c4-4749-b7d2-b687385681db"
      },
      "outputs": [
        {
          "data": {
            "text/plain": [
              "\n",
              "\tWilcoxon rank sum test with continuity correction\n",
              "\n",
              "data:  A and B\n",
              "W = 161, p-value = 0.04649\n",
              "alternative hypothesis: true location shift is not equal to 0\n",
              "95 percent confidence interval:\n",
              " 0.001234551 0.218992542\n",
              "sample estimates:\n",
              "difference in location \n",
              "             0.1050111 \n"
            ]
          },
          "metadata": {},
          "output_type": "display_data"
        },
        {
          "name": "stdout",
          "output_type": "stream",
          "text": [
            "U值 (W值): 64 \n",
            "期望值 E(U): 112.5 \n",
            "标准差σ(U): 24.10913 \n",
            "Z值: -2.011686 \n",
            "组A的统计信息:\n",
            "Mean: 0.5213533 \n",
            "Median: 0.5015 \n",
            "SD: 0.1213537 \n",
            "\n",
            "组B的统计信息:\n",
            "Mean: 0.4214333 \n",
            "Median: 0.4028 \n",
            "SD: 0.1824743 \n"
          ]
        }
      ],
      "source": [
        "A <- c(51.90, 41.43, 51.79, 45.79, 41.11, 47.33, 70.24, 54.38, 76.79, 50.15, 73.08, 40.18, 45.00, 38.69, 54.17) / 100\n",
        "B <- c(37.78, 10.00, 66.43, 50.00, 30.00, 29.52, 26.90, 51.67, 40.28, 43.06, 37.50, 81.25, 61.67, 43.67, 22.42) / 100\n",
        "\n",
        "# Mann-Whitney U检验\n",
        "wilcox.test(A, B, exact=FALSE, conf.int=TRUE)\n",
        "\n",
        "# 计算样本大小\n",
        "n1 <- length(A)\n",
        "n2 <- length(B)\n",
        "\n",
        "# 合并数据并计算秩\n",
        "combined_data <- c(A, B)\n",
        "ranks <- rank(combined_data)\n",
        "\n",
        "# 计算第一组的秩和\n",
        "R1 <- sum(ranks[1:n1])\n",
        "\n",
        "# 计算U值\n",
        "U1 <- n1 * n2 + (n1 * (n1 + 1)) / 2 - R1\n",
        "U2 <- n1 * n2 - U1\n",
        "U <- min(U1, U2)\n",
        "\n",
        "# 计算期望值E(U)和标准差σ(U)\n",
        "E_U <- n1 * n2 / 2\n",
        "sigma_U <- sqrt(n1 * n2 * (n1 + n2 + 1) / 12)\n",
        "\n",
        "# 计算Z值\n",
        "Z <- (U - E_U) / sigma_U\n",
        "\n",
        "# 打印结果\n",
        "cat(\"U值 (W值):\", U, \"\\n\")\n",
        "cat(\"期望值 E(U):\", E_U, \"\\n\")\n",
        "cat(\"标准差σ(U):\", sigma_U, \"\\n\")\n",
        "cat(\"Z值:\", Z, \"\\n\")\n",
        "\n",
        "# 计算组A的描述性统计信息\n",
        "summary_A <- summary(A)\n",
        "mean_A <- mean(A)\n",
        "median_A <- median(A)\n",
        "variance_A <- var(A)\n",
        "sd_A <- sd(A)\n",
        "\n",
        "# 计算组B的描述性统计信息\n",
        "summary_B <- summary(B)\n",
        "mean_B <- mean(B)\n",
        "median_B <- median(B)\n",
        "variance_B <- var(B)\n",
        "sd_B <- sd(B)\n",
        "\n",
        "# 打印组A的统计信息\n",
        "cat(\"组A的统计信息:\\n\")\n",
        "cat(\"Mean:\", mean_A, \"\\n\")\n",
        "cat(\"Median:\", median_A, \"\\n\")\n",
        "cat(\"SD:\", sd_A, \"\\n\\n\")\n",
        "\n",
        "# 打印组B的统计信息\n",
        "cat(\"组B的统计信息:\\n\")\n",
        "cat(\"Mean:\", mean_B, \"\\n\")\n",
        "cat(\"Median:\", median_B, \"\\n\")\n",
        "cat(\"SD:\", sd_B, \"\\n\")"
      ]
    },
    {
      "cell_type": "markdown",
      "metadata": {
        "id": "gZ6NgQVBmkKC"
      },
      "source": [
        "    Purported Interpretable Befriendly Weighted"
      ]
    },
    {
      "cell_type": "code",
      "execution_count": null,
      "metadata": {
        "colab": {
          "base_uri": "https://localhost:8080/",
          "height": 425
        },
        "collapsed": true,
        "id": "1ea9kDxNmj7i",
        "outputId": "9d0bf792-e492-450b-df20-5945b5caf466"
      },
      "outputs": [
        {
          "data": {
            "text/plain": [
              "\n",
              "\tWilcoxon rank sum test with continuity correction\n",
              "\n",
              "data:  A and B\n",
              "W = 68.5, p-value = 0.07103\n",
              "alternative hypothesis: true location shift is not equal to 0\n",
              "95 percent confidence interval:\n",
              " -0.316685395  0.009958136\n",
              "sample estimates:\n",
              "difference in location \n",
              "            -0.1786494 \n"
            ]
          },
          "metadata": {},
          "output_type": "display_data"
        },
        {
          "name": "stdout",
          "output_type": "stream",
          "text": [
            "U值 (W值): 68.5 \n",
            "期望值 E(U): 112.5 \n",
            "标准差σ(U): 24.10913 \n",
            "Z值: -1.825035 \n",
            "组A的统计信息:\n",
            "Mean: 0.3976867 \n",
            "Median: 0.3333 \n",
            "SD: 0.2275587 \n",
            "\n",
            "组B的统计信息:\n",
            "Mean: 0.55772 \n",
            "Median: 0.5536 \n",
            "SD: 0.1910577 \n"
          ]
        }
      ],
      "source": [
        "A <- c(47.92, 27.42, 0.00, 33.33, 25.00, 70.39, 71.79, 62.50, 79.69, 44.40, 31.95, 25.00, 22.50, 37.50, 17.14) / 100\n",
        "B <- c(25.00, 43.75, 42.86, 60.93, 45.71, 100.00, 54.17, 43.42, 77.78, 62.50, 30.95, 55.36, 57.23, 76.92, 60.00) / 100\n",
        "\n",
        "# Mann-Whitney U检验\n",
        "wilcox.test(A, B, exact=FALSE, conf.int=TRUE)\n",
        "\n",
        "# 计算样本大小\n",
        "n1 <- length(A)\n",
        "n2 <- length(B)\n",
        "\n",
        "# 合并数据并计算秩\n",
        "combined_data <- c(A, B)\n",
        "ranks <- rank(combined_data)\n",
        "\n",
        "# 计算第一组的秩和\n",
        "R1 <- sum(ranks[1:n1])\n",
        "\n",
        "# 计算U值\n",
        "U1 <- n1 * n2 + (n1 * (n1 + 1)) / 2 - R1\n",
        "U2 <- n1 * n2 - U1\n",
        "U <- min(U1, U2)\n",
        "\n",
        "# 计算期望值E(U)和标准差σ(U)\n",
        "E_U <- n1 * n2 / 2\n",
        "sigma_U <- sqrt(n1 * n2 * (n1 + n2 + 1) / 12)\n",
        "\n",
        "# 计算Z值\n",
        "Z <- (U - E_U) / sigma_U\n",
        "\n",
        "# 打印结果\n",
        "cat(\"U值 (W值):\", U, \"\\n\")\n",
        "cat(\"期望值 E(U):\", E_U, \"\\n\")\n",
        "cat(\"标准差σ(U):\", sigma_U, \"\\n\")\n",
        "cat(\"Z值:\", Z, \"\\n\")\n",
        "\n",
        "# 计算组A的描述性统计信息\n",
        "summary_A <- summary(A)\n",
        "mean_A <- mean(A)\n",
        "median_A <- median(A)\n",
        "variance_A <- var(A)\n",
        "sd_A <- sd(A)\n",
        "\n",
        "# 计算组B的描述性统计信息\n",
        "summary_B <- summary(B)\n",
        "mean_B <- mean(B)\n",
        "median_B <- median(B)\n",
        "variance_B <- var(B)\n",
        "sd_B <- sd(B)\n",
        "\n",
        "# 打印组A的统计信息\n",
        "cat(\"组A的统计信息:\\n\")\n",
        "cat(\"Mean:\", mean_A, \"\\n\")\n",
        "cat(\"Median:\", median_A, \"\\n\")\n",
        "cat(\"SD:\", sd_A, \"\\n\\n\")\n",
        "\n",
        "# 打印组B的统计信息\n",
        "cat(\"组B的统计信息:\\n\")\n",
        "cat(\"Mean:\", mean_B, \"\\n\")\n",
        "cat(\"Median:\", median_B, \"\\n\")\n",
        "cat(\"SD:\", sd_B, \"\\n\")"
      ]
    },
    {
      "cell_type": "markdown",
      "metadata": {
        "id": "PE5Bca5wnATm"
      },
      "source": [
        "    Purported LLM Befriendly Weighted"
      ]
    },
    {
      "cell_type": "code",
      "execution_count": null,
      "metadata": {
        "colab": {
          "base_uri": "https://localhost:8080/",
          "height": 425
        },
        "collapsed": true,
        "id": "uoGMPklmnAJd",
        "outputId": "688e8708-e889-422b-befd-8ea393fb0aa8"
      },
      "outputs": [
        {
          "data": {
            "text/plain": [
              "\n",
              "\tWilcoxon rank sum test with continuity correction\n",
              "\n",
              "data:  A and B\n",
              "W = 108.5, p-value = 0.8846\n",
              "alternative hypothesis: true location shift is not equal to 0\n",
              "95 percent confidence interval:\n",
              " -0.1428846  0.1070398\n",
              "sample estimates:\n",
              "difference in location \n",
              "           -0.01047212 \n"
            ]
          },
          "metadata": {},
          "output_type": "display_data"
        },
        {
          "name": "stdout",
          "output_type": "stream",
          "text": [
            "U值 (W值): 108.5 \n",
            "期望值 E(U): 112.5 \n",
            "标准差σ(U): 24.10913 \n",
            "Z值: -0.1659123 \n",
            "组A的统计信息:\n",
            "Mean: 0.3799467 \n",
            "Median: 0.3606 \n",
            "SD: 0.1308791 \n",
            "\n",
            "组B的统计信息:\n",
            "Mean: 0.4014267 \n",
            "Median: 0.4133 \n",
            "SD: 0.2038216 \n"
          ]
        }
      ],
      "source": [
        "A <- c(58.33, 31.25, 36.06, 42.06, 47.06, 25.93, 20.00, 46.11, 18.77, 57.00, 37.20, 29.67, 57.50, 27.27, 35.71) / 100\n",
        "B <- c(25.00, 0.00, 43.81, 57.00, 26.64, 21.05, 28.04, 50.00, 34.03, 63.89, 29.29, 42.50, 41.33, 84.00, 55.56) / 100\n",
        "\n",
        "# Mann-Whitney U检验\n",
        "wilcox.test(A, B, exact=FALSE, conf.int=TRUE)\n",
        "\n",
        "# 计算样本大小\n",
        "n1 <- length(A)\n",
        "n2 <- length(B)\n",
        "\n",
        "# 合并数据并计算秩\n",
        "combined_data <- c(A, B)\n",
        "ranks <- rank(combined_data)\n",
        "\n",
        "# 计算第一组的秩和\n",
        "R1 <- sum(ranks[1:n1])\n",
        "\n",
        "# 计算U值\n",
        "U1 <- n1 * n2 + (n1 * (n1 + 1)) / 2 - R1\n",
        "U2 <- n1 * n2 - U1\n",
        "U <- min(U1, U2)\n",
        "\n",
        "# 计算期望值E(U)和标准差σ(U)\n",
        "E_U <- n1 * n2 / 2\n",
        "sigma_U <- sqrt(n1 * n2 * (n1 + n2 + 1) / 12)\n",
        "\n",
        "# 计算Z值\n",
        "Z <- (U - E_U) / sigma_U\n",
        "\n",
        "# 打印结果\n",
        "cat(\"U值 (W值):\", U, \"\\n\")\n",
        "cat(\"期望值 E(U):\", E_U, \"\\n\")\n",
        "cat(\"标准差σ(U):\", sigma_U, \"\\n\")\n",
        "cat(\"Z值:\", Z, \"\\n\")\n",
        "\n",
        "# 计算组A的描述性统计信息\n",
        "summary_A <- summary(A)\n",
        "mean_A <- mean(A)\n",
        "median_A <- median(A)\n",
        "variance_A <- var(A)\n",
        "sd_A <- sd(A)\n",
        "\n",
        "# 计算组B的描述性统计信息\n",
        "summary_B <- summary(B)\n",
        "mean_B <- mean(B)\n",
        "median_B <- median(B)\n",
        "variance_B <- var(B)\n",
        "sd_B <- sd(B)\n",
        "\n",
        "# 打印组A的统计信息\n",
        "cat(\"组A的统计信息:\\n\")\n",
        "cat(\"Mean:\", mean_A, \"\\n\")\n",
        "cat(\"Median:\", median_A, \"\\n\")\n",
        "cat(\"SD:\", sd_A, \"\\n\\n\")\n",
        "\n",
        "# 打印组B的统计信息\n",
        "cat(\"组B的统计信息:\\n\")\n",
        "cat(\"Mean:\", mean_B, \"\\n\")\n",
        "cat(\"Median:\", median_B, \"\\n\")\n",
        "cat(\"SD:\", sd_B, \"\\n\")"
      ]
    },
    {
      "cell_type": "markdown",
      "metadata": {
        "id": "JNMrYb9boOg4"
      },
      "source": [
        "    Purported Human Repair-Effort Weighted"
      ]
    },
    {
      "cell_type": "code",
      "execution_count": null,
      "metadata": {
        "colab": {
          "base_uri": "https://localhost:8080/",
          "height": 425
        },
        "collapsed": true,
        "id": "_L7gQwzIoOI7",
        "outputId": "40333a62-65ce-4e9e-80af-0686bd7e7da7"
      },
      "outputs": [
        {
          "data": {
            "text/plain": [
              "\n",
              "\tWilcoxon rank sum test with continuity correction\n",
              "\n",
              "data:  A and B\n",
              "W = 135.5, p-value = 0.3506\n",
              "alternative hypothesis: true location shift is not equal to 0\n",
              "95 percent confidence interval:\n",
              " -0.04948854  0.11497653\n",
              "sample estimates:\n",
              "difference in location \n",
              "            0.03048664 \n"
            ]
          },
          "metadata": {},
          "output_type": "display_data"
        },
        {
          "name": "stdout",
          "output_type": "stream",
          "text": [
            "U值 (W值): 89.5 \n",
            "期望值 E(U): 112.5 \n",
            "标准差σ(U): 24.10913 \n",
            "Z值: -0.9539956 \n",
            "组A的统计信息:\n",
            "Mean: 0.4810867 \n",
            "Median: 0.4749 \n",
            "SD: 0.09400854 \n",
            "\n",
            "组B的统计信息:\n",
            "Mean: 0.4511267 \n",
            "Median: 0.4326 \n",
            "SD: 0.117026 \n"
          ]
        }
      ],
      "source": [
        "A <- c(60.00, 51.43, 58.93, 38.64, 54.72, 63.11, 54.17, 35.63, 38.57, 47.49, 44.23, 33.04, 41.67, 45.83, 54.17) / 100\n",
        "B <- c(57.78, 30.00, 36.67, 51.25, 35.00, 42.86, 35.95, 62.78, 68.06, 27.50, 45.83, 43.75, 53.33, 42.67, 43.26) / 100\n",
        "\n",
        "# Mann-Whitney U检验\n",
        "wilcox.test(A, B, exact=FALSE, conf.int=TRUE)\n",
        "\n",
        "# 计算样本大小\n",
        "n1 <- length(A)\n",
        "n2 <- length(B)\n",
        "\n",
        "# 合并数据并计算秩\n",
        "combined_data <- c(A, B)\n",
        "ranks <- rank(combined_data)\n",
        "\n",
        "# 计算第一组的秩和\n",
        "R1 <- sum(ranks[1:n1])\n",
        "\n",
        "# 计算U值\n",
        "U1 <- n1 * n2 + (n1 * (n1 + 1)) / 2 - R1\n",
        "U2 <- n1 * n2 - U1\n",
        "U <- min(U1, U2)\n",
        "\n",
        "# 计算期望值E(U)和标准差σ(U)\n",
        "E_U <- n1 * n2 / 2\n",
        "sigma_U <- sqrt(n1 * n2 * (n1 + n2 + 1) / 12)\n",
        "\n",
        "# 计算Z值\n",
        "Z <- (U - E_U) / sigma_U\n",
        "\n",
        "# 打印结果\n",
        "cat(\"U值 (W值):\", U, \"\\n\")\n",
        "cat(\"期望值 E(U):\", E_U, \"\\n\")\n",
        "cat(\"标准差σ(U):\", sigma_U, \"\\n\")\n",
        "cat(\"Z值:\", Z, \"\\n\")\n",
        "\n",
        "# 计算组A的描述性统计信息\n",
        "summary_A <- summary(A)\n",
        "mean_A <- mean(A)\n",
        "median_A <- median(A)\n",
        "variance_A <- var(A)\n",
        "sd_A <- sd(A)\n",
        "\n",
        "# 计算组B的描述性统计信息\n",
        "summary_B <- summary(B)\n",
        "mean_B <- mean(B)\n",
        "median_B <- median(B)\n",
        "variance_B <- var(B)\n",
        "sd_B <- sd(B)\n",
        "\n",
        "# 打印组A的统计信息\n",
        "cat(\"组A的统计信息:\\n\")\n",
        "cat(\"Mean:\", mean_A, \"\\n\")\n",
        "cat(\"Median:\", median_A, \"\\n\")\n",
        "cat(\"SD:\", sd_A, \"\\n\\n\")\n",
        "\n",
        "# 打印组B的统计信息\n",
        "cat(\"组B的统计信息:\\n\")\n",
        "cat(\"Mean:\", mean_B, \"\\n\")\n",
        "cat(\"Median:\", median_B, \"\\n\")\n",
        "cat(\"SD:\", sd_B, \"\\n\")"
      ]
    },
    {
      "cell_type": "markdown",
      "metadata": {
        "id": "XdyUCDQFotxE"
      },
      "source": [
        "    Purported Interpretable Repair-Effort Weighted\n"
      ]
    },
    {
      "cell_type": "code",
      "execution_count": null,
      "metadata": {
        "colab": {
          "base_uri": "https://localhost:8080/",
          "height": 425
        },
        "collapsed": true,
        "id": "XSpPKYgAotcS",
        "outputId": "f6f74363-0b54-4187-92c1-74a22be17128"
      },
      "outputs": [
        {
          "data": {
            "text/plain": [
              "\n",
              "\tWilcoxon rank sum test with continuity correction\n",
              "\n",
              "data:  A and B\n",
              "W = 75, p-value = 0.1249\n",
              "alternative hypothesis: true location shift is not equal to 0\n",
              "95 percent confidence interval:\n",
              " -0.16424973  0.01639638\n",
              "sample estimates:\n",
              "difference in location \n",
              "           -0.05206478 \n"
            ]
          },
          "metadata": {},
          "output_type": "display_data"
        },
        {
          "name": "stdout",
          "output_type": "stream",
          "text": [
            "U值 (W值): 75 \n",
            "期望值 E(U): 112.5 \n",
            "标准差σ(U): 24.10913 \n",
            "Z值: -1.555428 \n",
            "组A的统计信息:\n",
            "Mean: 0.3700267 \n",
            "Median: 0.3861 \n",
            "SD: 0.1481396 \n",
            "\n",
            "组B的统计信息:\n",
            "Mean: 0.4629867 \n",
            "Median: 0.4375 \n",
            "SD: 0.1158752 \n"
          ]
        }
      ],
      "source": [
        "A <- c(54.17, 41.82, 0.00, 58.33, 34.38, 46.22, 40.17, 45.83, 46.88, 33.45, 38.61, 31.25, 35.00, 12.50, 36.43)/100\n",
        "B <- c(37.50, 56.25, 35.71, 40.37, 51.43, 36.11, 35.42, 35.53, 77.78, 43.75, 45.24, 52.38, 58.42, 43.59, 45.00)/100\n",
        "# Mann-Whitney U检验\n",
        "wilcox.test(A, B, exact=FALSE, conf.int=TRUE)\n",
        "\n",
        "# 计算样本大小\n",
        "n1 <- length(A)\n",
        "n2 <- length(B)\n",
        "\n",
        "# 合并数据并计算秩\n",
        "combined_data <- c(A, B)\n",
        "ranks <- rank(combined_data)\n",
        "\n",
        "# 计算第一组的秩和\n",
        "R1 <- sum(ranks[1:n1])\n",
        "\n",
        "# 计算U值\n",
        "U1 <- n1 * n2 + (n1 * (n1 + 1)) / 2 - R1\n",
        "U2 <- n1 * n2 - U1\n",
        "U <- min(U1, U2)\n",
        "\n",
        "# 计算期望值E(U)和标准差σ(U)\n",
        "E_U <- n1 * n2 / 2\n",
        "sigma_U <- sqrt(n1 * n2 * (n1 + n2 + 1) / 12)\n",
        "\n",
        "# 计算Z值\n",
        "Z <- (U - E_U) / sigma_U\n",
        "\n",
        "# 打印结果\n",
        "cat(\"U值 (W值):\", U, \"\\n\")\n",
        "cat(\"期望值 E(U):\", E_U, \"\\n\")\n",
        "cat(\"标准差σ(U):\", sigma_U, \"\\n\")\n",
        "cat(\"Z值:\", Z, \"\\n\")\n",
        "\n",
        "# 计算组A的描述性统计信息\n",
        "summary_A <- summary(A)\n",
        "mean_A <- mean(A)\n",
        "median_A <- median(A)\n",
        "variance_A <- var(A)\n",
        "sd_A <- sd(A)\n",
        "\n",
        "# 计算组B的描述性统计信息\n",
        "summary_B <- summary(B)\n",
        "mean_B <- mean(B)\n",
        "median_B <- median(B)\n",
        "variance_B <- var(B)\n",
        "sd_B <- sd(B)\n",
        "\n",
        "# 打印组A的统计信息\n",
        "cat(\"组A的统计信息:\\n\")\n",
        "cat(\"Mean:\", mean_A, \"\\n\")\n",
        "cat(\"Median:\", median_A, \"\\n\")\n",
        "cat(\"SD:\", sd_A, \"\\n\\n\")\n",
        "\n",
        "# 打印组B的统计信息\n",
        "cat(\"组B的统计信息:\\n\")\n",
        "cat(\"Mean:\", mean_B, \"\\n\")\n",
        "cat(\"Median:\", median_B, \"\\n\")\n",
        "cat(\"SD:\", sd_B, \"\\n\")"
      ]
    },
    {
      "cell_type": "markdown",
      "metadata": {
        "id": "D5P3ialrpwZm"
      },
      "source": [
        "    LLM Repair-Effort Weighted"
      ]
    },
    {
      "cell_type": "code",
      "execution_count": null,
      "metadata": {
        "colab": {
          "base_uri": "https://localhost:8080/",
          "height": 425
        },
        "collapsed": true,
        "id": "we5qZVY7pwP_",
        "outputId": "2db9f55a-ad56-4984-d58d-e91c9aa1c709"
      },
      "outputs": [
        {
          "data": {
            "text/plain": [
              "\n",
              "\tWilcoxon rank sum test with continuity correction\n",
              "\n",
              "data:  A and B\n",
              "W = 81, p-value = 0.1983\n",
              "alternative hypothesis: true location shift is not equal to 0\n",
              "95 percent confidence interval:\n",
              " -0.14873366  0.04857269\n",
              "sample estimates:\n",
              "difference in location \n",
              "           -0.07175088 \n"
            ]
          },
          "metadata": {},
          "output_type": "display_data"
        },
        {
          "name": "stdout",
          "output_type": "stream",
          "text": [
            "U值 (W值): 81 \n",
            "期望值 E(U): 112.5 \n",
            "标准差σ(U): 24.10913 \n",
            "Z值: -1.306559 \n",
            "组A的统计信息:\n",
            "Mean: 0.3837867 \n",
            "Median: 0.3348 \n",
            "SD: 0.1428368 \n",
            "\n",
            "组B的统计信息:\n",
            "Mean: 0.4176467 \n",
            "Median: 0.4167 \n",
            "SD: 0.170122 \n"
          ]
        }
      ],
      "source": [
        "A <- c(30.90, 25.00, 36.87, 58.73, 76.47, 44.44, 35.00, 45.56, 32.50, 48.00, 33.48, 26.10, 27.50, 27.27, 27.86)/100\n",
        "B <- c(33.33, 0.00, 41.43, 48.00, 35.04, 21.05, 44.97, 41.67, 73.61, 36.11, 46.43, 54.58, 62.67, 48.00, 39.58)/100\n",
        "\n",
        "# Mann-Whitney U检验\n",
        "wilcox.test(A, B, exact=FALSE, conf.int=TRUE)\n",
        "\n",
        "# 计算样本大小\n",
        "n1 <- length(A)\n",
        "n2 <- length(B)\n",
        "\n",
        "# 合并数据并计算秩\n",
        "combined_data <- c(A, B)\n",
        "ranks <- rank(combined_data)\n",
        "\n",
        "# 计算第一组的秩和\n",
        "R1 <- sum(ranks[1:n1])\n",
        "\n",
        "# 计算U值\n",
        "U1 <- n1 * n2 + (n1 * (n1 + 1)) / 2 - R1\n",
        "U2 <- n1 * n2 - U1\n",
        "U <- min(U1, U2)\n",
        "\n",
        "# 计算期望值E(U)和标准差σ(U)\n",
        "E_U <- n1 * n2 / 2\n",
        "sigma_U <- sqrt(n1 * n2 * (n1 + n2 + 1) / 12)\n",
        "\n",
        "# 计算Z值\n",
        "Z <- (U - E_U) / sigma_U\n",
        "\n",
        "# 打印结果\n",
        "cat(\"U值 (W值):\", U, \"\\n\")\n",
        "cat(\"期望值 E(U):\", E_U, \"\\n\")\n",
        "cat(\"标准差σ(U):\", sigma_U, \"\\n\")\n",
        "cat(\"Z值:\", Z, \"\\n\")\n",
        "\n",
        "# 计算组A的描述性统计信息\n",
        "summary_A <- summary(A)\n",
        "mean_A <- mean(A)\n",
        "median_A <- median(A)\n",
        "variance_A <- var(A)\n",
        "sd_A <- sd(A)\n",
        "\n",
        "# 计算组B的描述性统计信息\n",
        "summary_B <- summary(B)\n",
        "mean_B <- mean(B)\n",
        "median_B <- median(B)\n",
        "variance_B <- var(B)\n",
        "sd_B <- sd(B)\n",
        "\n",
        "# 打印组A的统计信息\n",
        "cat(\"组A的统计信息:\\n\")\n",
        "cat(\"Mean:\", mean_A, \"\\n\")\n",
        "cat(\"Median:\", median_A, \"\\n\")\n",
        "cat(\"SD:\", sd_A, \"\\n\\n\")\n",
        "\n",
        "# 打印组B的统计信息\n",
        "cat(\"组B的统计信息:\\n\")\n",
        "cat(\"Mean:\", mean_B, \"\\n\")\n",
        "cat(\"Median:\", median_B, \"\\n\")\n",
        "cat(\"SD:\", sd_B, \"\\n\")\n"
      ]
    },
    {
      "cell_type": "markdown",
      "source": [
        "不分性别的cooperate PH VS PI"
      ],
      "metadata": {
        "id": "67JIOZ6SiHoe"
      }
    },
    {
      "cell_type": "code",
      "source": [
        "# 加载dplyr包\n",
        "library(dplyr)\n",
        "\n",
        "# 筛选出Model_type为Purported Human的Cooperate值\n",
        "cooperate_ph <- df %>% filter(Model_type == \"Purported Human\") %>% pull(Cooperate)\n",
        "\n",
        "# 筛选出Model_type为Purported Interpretable的Cooperate值\n",
        "cooperate_pi <- df %>% filter(Model_type == \"Purported Interpretable\") %>% pull(Cooperate)\n",
        "\n",
        "# 进行Wilcoxon符号秩检验\n",
        "wilcox_test_result <- wilcox.test(cooperate_ph, cooperate_pi, paired = TRUE)\n",
        "\n",
        "# 打印Wilcoxon符号秩检验结果\n",
        "print(wilcox_test_result)\n",
        "\n",
        "# 计算样本大小\n",
        "n <- length(cooperate_ph)  # 假设cooperate_ph和cooperate_pi的长度相同，如果不同，则需额外处理\n",
        "\n",
        "# 计算期望和标准差\n",
        "expected_T <- n * (n + 1) / 4\n",
        "sd_T <- sqrt(n * (n + 1) * (2 * n + 1) / 24)\n",
        "\n",
        "# 从wilcox.test结果中提取统计量T\n",
        "T_value <- wilcox_test_result$statistic\n",
        "\n",
        "# 计算Z值\n",
        "Z_value <- (T_value - expected_T) / sd_T\n",
        "\n",
        "# 打印Z值\n",
        "print(paste(\"Z value:\", Z_value))\n",
        "\n",
        "# 汇总统计信息\n",
        "summary_stats_ph <- summary(cooperate_ph)\n",
        "summary_stats_pi <- summary(cooperate_pi)\n",
        "\n",
        "# 计算并打印中位数、平均值和标准差\n",
        "median_ph <- median(cooperate_ph)\n",
        "mean_ph <- mean(cooperate_ph)\n",
        "sd_ph <- sd(cooperate_ph)\n",
        "\n",
        "median_pi <- median(cooperate_pi)\n",
        "mean_pi <- mean(cooperate_pi)\n",
        "sd_pi <- sd(cooperate_pi)\n",
        "\n",
        "# 打印组Purported Human的统计信息\n",
        "cat(\"Purported Human 的统计信息:\\n\")\n",
        "cat(\"Mean:\", mean_ph, \"\\n\")\n",
        "cat(\"Median:\", median_ph, \"\\n\")\n",
        "cat(\"SD:\", sd_ph, \"\\n\\n\")\n",
        "\n",
        "# 打印组Purported Interpretable的统计信息\n",
        "cat(\"Purported Interpretable 的统计信息:\\n\")\n",
        "cat(\"Mean:\", mean_pi, \"\\n\")\n",
        "cat(\"Median:\", median_pi, \"\\n\")\n",
        "cat(\"SD:\", sd_pi, \"\\n\")\n"
      ],
      "metadata": {
        "colab": {
          "base_uri": "https://localhost:8080/"
        },
        "id": "eRppv52EiG-V",
        "outputId": "a944a795-6688-4117-f394-e901d3ef618f"
      },
      "execution_count": null,
      "outputs": [
        {
          "output_type": "stream",
          "name": "stderr",
          "text": [
            "Warning message in wilcox.test.default(cooperate_ph, cooperate_pi, paired = TRUE):\n",
            "“cannot compute exact p-value with ties”\n",
            "Warning message in wilcox.test.default(cooperate_ph, cooperate_pi, paired = TRUE):\n",
            "“cannot compute exact p-value with zeroes”\n"
          ]
        },
        {
          "output_type": "stream",
          "name": "stdout",
          "text": [
            "\n",
            "\tWilcoxon signed rank test with continuity correction\n",
            "\n",
            "data:  cooperate_ph and cooperate_pi\n",
            "V = 284.5, p-value = 0.06479\n",
            "alternative hypothesis: true location shift is not equal to 0\n",
            "\n",
            "[1] \"Z value: 1.06955364645449\"\n",
            "Purported Human 的统计信息:\n",
            "Mean: 0.54 \n",
            "Median: 0.58 \n",
            "SD: 0.1335974 \n",
            "\n",
            "Purported Interpretable 的统计信息:\n",
            "Mean: 0.4753333 \n",
            "Median: 0.47 \n",
            "SD: 0.1441918 \n"
          ]
        }
      ]
    },
    {
      "cell_type": "code",
      "source": [
        "不分性别 PH VS LLM"
      ],
      "metadata": {
        "id": "OjsiR1z_i-ze"
      },
      "execution_count": null,
      "outputs": []
    },
    {
      "cell_type": "code",
      "source": [
        "# 加载dplyr包\n",
        "library(dplyr)\n",
        "\n",
        "# 筛选出Model_type为Purported Human的Cooperate值\n",
        "cooperate_ph <- df %>% filter(Model_type == \"Purported Human\") %>% pull(Cooperate)\n",
        "# print(cooperate_ph)\n",
        "# 筛选出Model_type为LLM的Cooperate值\n",
        "cooperate_llm <- df %>% filter(Model_type == \"LLM\") %>% pull(Cooperate)\n",
        "\n",
        "# 进行Wilcoxon符号秩检验\n",
        "wilcox_test_result <- wilcox.test(cooperate_ph, cooperate_llm, paired = TRUE)\n",
        "\n",
        "# 显示结果\n",
        "wilcox_test_result\n",
        "\n",
        "# 计算样本大小\n",
        "n <- length(cooperate_ph)\n",
        "\n",
        "# 计算期望和标准差\n",
        "expected_T <- n * (n + 1) / 4\n",
        "sd_T <- sqrt(n * (n + 1) * (2 * n + 1) / 24)\n",
        "\n",
        "# 从wilcox.test结果中提取统计量T\n",
        "T_value <- wilcox_test_result$statistic\n",
        "\n",
        "# 计算Z值\n",
        "Z_value <- (T_value - expected_T) / sd_T\n",
        "\n",
        "# 打印Z值\n",
        "print(paste(\"Z value:\", Z_value))\n",
        "\n",
        "# 汇总统计信息\n",
        "summary_stats_ph <- summary(cooperate_ph)\n",
        "summary_stats_llm <- summary(cooperate_llm)\n",
        "\n",
        "# 计算并打印中位数、平均值和标准差\n",
        "median_ph <- median(cooperate_ph)\n",
        "mean_ph <- mean(cooperate_ph)\n",
        "sd_ph <- sd(cooperate_ph)\n",
        "\n",
        "median_llm <- median(cooperate_llm)\n",
        "mean_llm <- mean(cooperate_llm)\n",
        "sd_llm <- sd(cooperate_llm)\n",
        "\n",
        "\n",
        "cat(\"Purported Human 的统计信息:\\n\")\n",
        "cat(\"Mean:\", mean_ph, \"\\n\")\n",
        "cat(\"Median:\", median_ph, \"\\n\")\n",
        "cat(\"SD:\", sd_ph, \"\\n\")\n",
        "\n",
        "\n",
        "cat(\"LLM 的统计信息:\\n\")\n",
        "cat(\"Mean:\", mean_llm,\"\\n\")\n",
        "cat(\"Median:\", median_llm, \"\\n\")\n",
        "cat(\"SD:\", sd_llm, \"\\n\\n\")\n"
      ],
      "metadata": {
        "colab": {
          "base_uri": "https://localhost:8080/",
          "height": 323
        },
        "id": "O-5Ucd7MjECH",
        "outputId": "9f2e7e1b-7ca2-467f-e089-cf62ce316cfb"
      },
      "execution_count": null,
      "outputs": [
        {
          "output_type": "stream",
          "name": "stderr",
          "text": [
            "Warning message in wilcox.test.default(cooperate_ph, cooperate_llm, paired = TRUE):\n",
            "“cannot compute exact p-value with ties”\n"
          ]
        },
        {
          "output_type": "display_data",
          "data": {
            "text/plain": [
              "\n",
              "\tWilcoxon signed rank test with continuity correction\n",
              "\n",
              "data:  cooperate_ph and cooperate_llm\n",
              "V = 341.5, p-value = 0.02559\n",
              "alternative hypothesis: true location shift is not equal to 0\n"
            ]
          },
          "metadata": {}
        },
        {
          "output_type": "stream",
          "name": "stdout",
          "text": [
            "[1] \"Z value: 2.24194898968346\"\n",
            "Purported Human 的统计信息:\n",
            "Mean: 0.54 \n",
            "Median: 0.58 \n",
            "SD: 0.1335974 \n",
            "LLM 的统计信息:\n",
            "Mean: 0.4766667 \n",
            "Median: 0.47 \n",
            "SD: 0.1386719 \n",
            "\n"
          ]
        }
      ]
    },
    {
      "cell_type": "markdown",
      "source": [
        "不分性别 PI VS LLM"
      ],
      "metadata": {
        "id": "RpjpG0HBj60F"
      }
    },
    {
      "cell_type": "code",
      "source": [
        "# 加载dplyr包\n",
        "library(dplyr)\n",
        "\n",
        "# 筛选出Model_type为Purported Interpretable的Cooperate值\n",
        "cooperate_pi <- df %>% filter(Model_type == \"Purported Interpretable\") %>% pull(Cooperate)\n",
        "\n",
        "# 筛选出Model_type为LLM的Cooperate值\n",
        "cooperate_llm <- df %>% filter(Model_type == \"LLM\") %>% pull(Cooperate)\n",
        "\n",
        "# 进行Wilcoxon符号秩检验\n",
        "wilcox_test_result <- wilcox.test(cooperate_pi, cooperate_llm, paired = TRUE)\n",
        "\n",
        "# 显示结果\n",
        "wilcox_test_result\n",
        "\n",
        "# 计算样本大小\n",
        "n <- length(cooperate_pi)\n",
        "\n",
        "# 计算期望和标准差\n",
        "expected_T <- n * (n + 1) / 4\n",
        "sd_T <- sqrt(n * (n + 1) * (2 * n + 1) / 24)\n",
        "\n",
        "# 从wilcox.test结果中提取统计量T\n",
        "T_value <- wilcox_test_result$statistic\n",
        "\n",
        "# 计算Z值\n",
        "Z_value <- (T_value - expected_T) / sd_T\n",
        "\n",
        "# 打印Z值\n",
        "print(paste(\"Z value:\", Z_value))\n",
        "\n",
        "# 汇总统计信息\n",
        "summary_stats_pi <- summary(cooperate_pi)\n",
        "summary_stats_llm <- summary(cooperate_llm)\n",
        "\n",
        "# 计算并打印中位数、平均值和标准差\n",
        "median_pi <- median(cooperate_pi)\n",
        "mean_pi <- mean(cooperate_pi)\n",
        "sd_pi <- sd(cooperate_pi)\n",
        "\n",
        "median_llm <- median(cooperate_llm)\n",
        "mean_llm <- mean(cooperate_llm)\n",
        "sd_llm <- sd(cooperate_llm)\n",
        "\n",
        "# 打印组Purported Interpretable的统计信息\n",
        "cat(\"Purported Interpretable 的统计信息:\\n\")\n",
        "cat(\"Mean:\", mean_pi, \"\\n\")\n",
        "cat(\"Median:\", median_pi, \"\\n\")\n",
        "cat(\"SD:\", sd_pi, \"\\n\\n\")\n",
        "\n",
        "# 打印组LLM的统计信息\n",
        "cat(\"llm 的统计信息:\\n\")\n",
        "cat(\"Mean:\", mean_llm, \"\\n\")\n",
        "cat(\"Median:\", median_llm, \"\\n\")\n",
        "cat(\"SD:\", sd_llm, \"\\n\")"
      ],
      "metadata": {
        "colab": {
          "base_uri": "https://localhost:8080/",
          "height": 323
        },
        "id": "9zmehYg0j6Yy",
        "outputId": "e0026ef6-df20-4a86-a54c-6e635b0d05b3"
      },
      "execution_count": null,
      "outputs": [
        {
          "output_type": "stream",
          "name": "stderr",
          "text": [
            "Warning message in wilcox.test.default(cooperate_pi, cooperate_llm, paired = TRUE):\n",
            "“cannot compute exact p-value with ties”\n"
          ]
        },
        {
          "output_type": "display_data",
          "data": {
            "text/plain": [
              "\n",
              "\tWilcoxon signed rank test with continuity correction\n",
              "\n",
              "data:  cooperate_pi and cooperate_llm\n",
              "V = 221, p-value = 0.8209\n",
              "alternative hypothesis: true location shift is not equal to 0\n"
            ]
          },
          "metadata": {}
        },
        {
          "output_type": "stream",
          "name": "stdout",
          "text": [
            "[1] \"Z value: -0.236535902581282\"\n",
            "Purported Interpretable 的统计信息:\n",
            "Mean: 0.4753333 \n",
            "Median: 0.47 \n",
            "SD: 0.1441918 \n",
            "\n",
            "llm 的统计信息:\n",
            "Mean: 0.4766667 \n",
            "Median: 0.47 \n",
            "SD: 0.1386719 \n"
          ]
        }
      ]
    },
    {
      "cell_type": "markdown",
      "metadata": {
        "id": "5E6zH3RRqltp"
      },
      "source": [
        "    Male:\n",
        "    Purported Human vs Purported Interpretable Cooperate"
      ]
    },
    {
      "cell_type": "code",
      "execution_count": null,
      "metadata": {
        "collapsed": true,
        "id": "PeDzJQLsql4m",
        "colab": {
          "base_uri": "https://localhost:8080/"
        },
        "outputId": "6b01f28d-8ba6-4ccf-b486-d3aa10b24722"
      },
      "outputs": [
        {
          "output_type": "stream",
          "name": "stderr",
          "text": [
            "Warning message in wilcox.test.default(cooperate_ph, cooperate_pi, paired = TRUE):\n",
            "“cannot compute exact p-value with ties”\n",
            "Warning message in wilcox.test.default(cooperate_ph, cooperate_pi, paired = TRUE):\n",
            "“cannot compute exact p-value with zeroes”\n"
          ]
        },
        {
          "output_type": "stream",
          "name": "stdout",
          "text": [
            "\n",
            "\tWilcoxon signed rank test with continuity correction\n",
            "\n",
            "data:  cooperate_ph and cooperate_pi\n",
            "V = 37, p-value = 0.3449\n",
            "alternative hypothesis: true location shift is not equal to 0\n",
            "\n",
            "[1] \"Z value: -1.30631221876825\"\n",
            "Purported Human 的统计信息:\n",
            "Mean: 0.496 \n",
            "Median: 0.52 \n",
            "SD: 0.1647856 \n",
            "\n",
            "Purported Interpretable 的统计信息:\n",
            "Mean: 0.5266667 \n",
            "Median: 0.52 \n",
            "SD: 0.1340931 \n"
          ]
        }
      ],
      "source": [
        "# 加载dplyr包\n",
        "library(dplyr)\n",
        "\n",
        "# 筛选出Sex为M的行\n",
        "df_m <- df %>% filter(Sex == \"F\")\n",
        "\n",
        "# 筛选出Model_type为Purported Human的Cooperate值\n",
        "cooperate_ph <- df_m %>% filter(Model_type == \"Purported Human\") %>% pull(Cooperate)\n",
        "\n",
        "# 筛选出Model_type为Purported Interpretable的Cooperate值\n",
        "cooperate_pi <- df_m %>% filter(Model_type == \"Purported Interpretable\") %>% pull(Cooperate)\n",
        "\n",
        "# 进行Wilcoxon符号秩检验\n",
        "wilcox_test_result <- wilcox.test(cooperate_ph, cooperate_pi, paired = TRUE)\n",
        "\n",
        "# 打印Wilcoxon符号秩检验结果\n",
        "print(wilcox_test_result)\n",
        "\n",
        "# 计算样本大小\n",
        "n <- length(cooperate_ph)  # 假设cooperate_ph和cooperate_pi的长度相同，如果不同，则需额外处理\n",
        "\n",
        "# 计算期望和标准差\n",
        "expected_T <- n * (n + 1) / 4\n",
        "sd_T <- sqrt(n * (n + 1) * (2 * n + 1) / 24)\n",
        "\n",
        "# 从wilcox.test结果中提取统计量T\n",
        "T_value <- wilcox_test_result$statistic\n",
        "\n",
        "# 计算Z值\n",
        "Z_value <- (T_value - expected_T) / sd_T\n",
        "\n",
        "# 打印Z值\n",
        "print(paste(\"Z value:\", Z_value))\n",
        "\n",
        "# 汇总统计信息\n",
        "summary_stats_ph <- summary(cooperate_ph)\n",
        "summary_stats_pi <- summary(cooperate_pi)\n",
        "\n",
        "# 计算并打印中位数、平均值和标准差\n",
        "median_ph <- median(cooperate_ph)\n",
        "mean_ph <- mean(cooperate_ph)\n",
        "sd_ph <- sd(cooperate_ph)\n",
        "\n",
        "median_pi <- median(cooperate_pi)\n",
        "mean_pi <- mean(cooperate_pi)\n",
        "sd_pi <- sd(cooperate_pi)\n",
        "\n",
        "# 打印组Purported Human的统计信息\n",
        "cat(\"Purported Human 的统计信息:\\n\")\n",
        "cat(\"Mean:\", mean_ph, \"\\n\")\n",
        "cat(\"Median:\", median_ph, \"\\n\")\n",
        "cat(\"SD:\", sd_ph, \"\\n\\n\")\n",
        "\n",
        "# 打印组Purported Interpretable的统计信息\n",
        "cat(\"Purported Interpretable 的统计信息:\\n\")\n",
        "cat(\"Mean:\", mean_pi, \"\\n\")\n",
        "cat(\"Median:\", median_pi, \"\\n\")\n",
        "cat(\"SD:\", sd_pi, \"\\n\")"
      ]
    },
    {
      "cell_type": "markdown",
      "metadata": {
        "id": "Z4UVLIgTvc4M"
      },
      "source": [
        "    Male:\n",
        "    Purported Human vs LLM Cooperate"
      ]
    },
    {
      "cell_type": "code",
      "execution_count": null,
      "metadata": {
        "colab": {
          "base_uri": "https://localhost:8080/",
          "height": 323
        },
        "id": "GWygW-CrvdD2",
        "outputId": "042de301-8252-483d-8c06-f59531c2a284"
      },
      "outputs": [
        {
          "output_type": "stream",
          "name": "stderr",
          "text": [
            "Warning message in wilcox.test.default(cooperate_ph, cooperate_llm, paired = TRUE):\n",
            "“cannot compute exact p-value with ties”\n"
          ]
        },
        {
          "output_type": "display_data",
          "data": {
            "text/plain": [
              "\n",
              "\tWilcoxon signed rank test with continuity correction\n",
              "\n",
              "data:  cooperate_ph and cooperate_llm\n",
              "V = 85, p-value = 0.164\n",
              "alternative hypothesis: true location shift is not equal to 0\n"
            ]
          },
          "metadata": {}
        },
        {
          "output_type": "stream",
          "name": "stdout",
          "text": [
            "[1] \"Z value: 1.41990458561766\"\n",
            "Purported Human 的统计信息:\n",
            "Mean: 0.496 \n",
            "Median: 0.52 \n",
            "SD: 0.1647856 \n",
            "LLM 的统计信息:\n",
            "Mean: 0.4426667 \n",
            "Median: 0.44 \n",
            "SD: 0.1479125 \n",
            "\n"
          ]
        }
      ],
      "source": [
        "# 加载dplyr包\n",
        "library(dplyr)\n",
        "\n",
        "# 筛选出Sex为M的行\n",
        "df_m <- df %>% filter(Sex == \"F\")\n",
        "\n",
        "# 筛选出Model_type为Purported Human的Cooperate值\n",
        "cooperate_ph <- df_m %>% filter(Model_type == \"Purported Human\") %>% pull(Cooperate)\n",
        "# print(cooperate_ph)\n",
        "# 筛选出Model_type为LLM的Cooperate值\n",
        "cooperate_llm <- df_m %>% filter(Model_type == \"LLM\") %>% pull(Cooperate)\n",
        "\n",
        "# 进行Wilcoxon符号秩检验\n",
        "wilcox_test_result <- wilcox.test(cooperate_ph, cooperate_llm, paired = TRUE)\n",
        "\n",
        "# 显示结果\n",
        "wilcox_test_result\n",
        "\n",
        "# 计算样本大小\n",
        "n <- length(cooperate_ph)\n",
        "\n",
        "# 计算期望和标准差\n",
        "expected_T <- n * (n + 1) / 4\n",
        "sd_T <- sqrt(n * (n + 1) * (2 * n + 1) / 24)\n",
        "\n",
        "# 从wilcox.test结果中提取统计量T\n",
        "T_value <- wilcox_test_result$statistic\n",
        "\n",
        "# 计算Z值\n",
        "Z_value <- (T_value - expected_T) / sd_T\n",
        "\n",
        "# 打印Z值\n",
        "print(paste(\"Z value:\", Z_value))\n",
        "\n",
        "# 汇总统计信息\n",
        "summary_stats_ph <- summary(cooperate_ph)\n",
        "summary_stats_llm <- summary(cooperate_llm)\n",
        "\n",
        "# 计算并打印中位数、平均值和标准差\n",
        "median_ph <- median(cooperate_ph)\n",
        "mean_ph <- mean(cooperate_ph)\n",
        "sd_ph <- sd(cooperate_ph)\n",
        "\n",
        "median_llm <- median(cooperate_llm)\n",
        "mean_llm <- mean(cooperate_llm)\n",
        "sd_llm <- sd(cooperate_llm)\n",
        "\n",
        "\n",
        "cat(\"Purported Human 的统计信息:\\n\")\n",
        "cat(\"Mean:\", mean_ph, \"\\n\")\n",
        "cat(\"Median:\", median_ph, \"\\n\")\n",
        "cat(\"SD:\", sd_ph, \"\\n\")\n",
        "\n",
        "\n",
        "cat(\"LLM 的统计信息:\\n\")\n",
        "cat(\"Mean:\", mean_llm,\"\\n\")\n",
        "cat(\"Median:\", median_llm, \"\\n\")\n",
        "cat(\"SD:\", sd_llm, \"\\n\\n\")\n"
      ]
    },
    {
      "cell_type": "markdown",
      "metadata": {
        "id": "Lhl4sSV8uTOl"
      },
      "source": [
        "    Male:\n",
        "    Purported Interpretable vs LLM Cooperate"
      ]
    },
    {
      "cell_type": "code",
      "execution_count": null,
      "metadata": {
        "colab": {
          "base_uri": "https://localhost:8080/",
          "height": 323
        },
        "id": "tAchlMdcuTDb",
        "outputId": "e76e5133-9c67-41a4-9593-e0753aeec203"
      },
      "outputs": [
        {
          "output_type": "stream",
          "name": "stderr",
          "text": [
            "Warning message in wilcox.test.default(cooperate_pi, cooperate_llm, paired = TRUE):\n",
            "“cannot compute exact p-value with ties”\n"
          ]
        },
        {
          "output_type": "display_data",
          "data": {
            "text/plain": [
              "\n",
              "\tWilcoxon signed rank test with continuity correction\n",
              "\n",
              "data:  cooperate_pi and cooperate_llm\n",
              "V = 93, p-value = 0.06486\n",
              "alternative hypothesis: true location shift is not equal to 0\n"
            ]
          },
          "metadata": {}
        },
        {
          "output_type": "stream",
          "name": "stdout",
          "text": [
            "[1] \"Z value: 1.87427405301531\"\n",
            "Purported Interpretable 的统计信息:\n",
            "Mean: 0.5266667 \n",
            "Median: 0.52 \n",
            "SD: 0.1340931 \n",
            "\n",
            "llm 的统计信息:\n",
            "Mean: 0.4426667 \n",
            "Median: 0.44 \n",
            "SD: 0.1479125 \n"
          ]
        }
      ],
      "source": [
        "# 加载dplyr包\n",
        "library(dplyr)\n",
        "\n",
        "# 筛选出Sex为M的行\n",
        "df_m <- df %>% filter(Sex == \"F\")\n",
        "\n",
        "# 筛选出Model_type为Purported Interpretable的Cooperate值\n",
        "cooperate_pi <- df_m %>% filter(Model_type == \"Purported Interpretable\") %>% pull(Cooperate)\n",
        "\n",
        "# 筛选出Model_type为LLM的Cooperate值\n",
        "cooperate_llm <- df_m %>% filter(Model_type == \"LLM\") %>% pull(Cooperate)\n",
        "\n",
        "# 进行Wilcoxon符号秩检验\n",
        "wilcox_test_result <- wilcox.test(cooperate_pi, cooperate_llm, paired = TRUE)\n",
        "\n",
        "# 显示结果\n",
        "wilcox_test_result\n",
        "\n",
        "# 计算样本大小\n",
        "n <- length(cooperate_pi)\n",
        "\n",
        "# 计算期望和标准差\n",
        "expected_T <- n * (n + 1) / 4\n",
        "sd_T <- sqrt(n * (n + 1) * (2 * n + 1) / 24)\n",
        "\n",
        "# 从wilcox.test结果中提取统计量T\n",
        "T_value <- wilcox_test_result$statistic\n",
        "\n",
        "# 计算Z值\n",
        "Z_value <- (T_value - expected_T) / sd_T\n",
        "\n",
        "# 打印Z值\n",
        "print(paste(\"Z value:\", Z_value))\n",
        "\n",
        "# 汇总统计信息\n",
        "summary_stats_pi <- summary(cooperate_pi)\n",
        "summary_stats_llm <- summary(cooperate_llm)\n",
        "\n",
        "# 计算并打印中位数、平均值和标准差\n",
        "median_pi <- median(cooperate_pi)\n",
        "mean_pi <- mean(cooperate_pi)\n",
        "sd_pi <- sd(cooperate_pi)\n",
        "\n",
        "median_llm <- median(cooperate_llm)\n",
        "mean_llm <- mean(cooperate_llm)\n",
        "sd_llm <- sd(cooperate_llm)\n",
        "\n",
        "# 打印组Purported Interpretable的统计信息\n",
        "cat(\"Purported Interpretable 的统计信息:\\n\")\n",
        "cat(\"Mean:\", mean_pi, \"\\n\")\n",
        "cat(\"Median:\", median_pi, \"\\n\")\n",
        "cat(\"SD:\", sd_pi, \"\\n\\n\")\n",
        "\n",
        "# 打印组LLM的统计信息\n",
        "cat(\"llm 的统计信息:\\n\")\n",
        "cat(\"Mean:\", mean_llm, \"\\n\")\n",
        "cat(\"Median:\", median_llm, \"\\n\")\n",
        "cat(\"SD:\", sd_llm, \"\\n\")"
      ]
    },
    {
      "cell_type": "markdown",
      "metadata": {
        "id": "m_5PQS6bw7jy"
      },
      "source": [
        "    Male:\n",
        "    Purported Human vs Purported Interpretable Befriendly\n",
        "    Purported Human vs LLM Befriendly\n",
        "    Purported Interpretable vs LLM Befriendly"
      ]
    },
    {
      "cell_type": "code",
      "execution_count": null,
      "metadata": {
        "colab": {
          "base_uri": "https://localhost:8080/",
          "height": 629
        },
        "id": "5QHVqI2vwqiP",
        "outputId": "a0ab0db9-cf2f-4dc4-9d04-fddd9d8c7a8a"
      },
      "outputs": [
        {
          "output_type": "stream",
          "name": "stderr",
          "text": [
            "Warning message in wilcox.test.default(be_friendly_pi, be_friendly_llm, paired = TRUE):\n",
            "“cannot compute exact p-value with zeroes”\n"
          ]
        },
        {
          "output_type": "display_data",
          "data": {
            "text/plain": [
              "\n",
              "\tWilcoxon signed rank exact test\n",
              "\n",
              "data:  be_friendly_ph and be_friendly_pi\n",
              "V = 40, p-value = 0.2769\n",
              "alternative hypothesis: true location shift is not equal to 0\n"
            ]
          },
          "metadata": {}
        },
        {
          "output_type": "display_data",
          "data": {
            "text/plain": [
              "\n",
              "\tWilcoxon signed rank exact test\n",
              "\n",
              "data:  be_friendly_ph and be_friendly_llm\n",
              "V = 86, p-value = 0.1514\n",
              "alternative hypothesis: true location shift is not equal to 0\n"
            ]
          },
          "metadata": {}
        },
        {
          "output_type": "display_data",
          "data": {
            "text/plain": [
              "\n",
              "\tWilcoxon signed rank test with continuity correction\n",
              "\n",
              "data:  be_friendly_pi and be_friendly_llm\n",
              "V = 85, p-value = 0.04455\n",
              "alternative hypothesis: true location shift is not equal to 0\n"
            ]
          },
          "metadata": {}
        },
        {
          "output_type": "stream",
          "name": "stdout",
          "text": [
            "[1] \"Z value between PH and PI: -1.13592366849413\"\n",
            "[1] \"Z value between PH and LLM: 1.47670076904237\"\n",
            "[1] \"Z value between PI and LLM: 2.04023566686662\"\n",
            "Purported Human 的统计信息:\n",
            "Mean: 0.3851534 \n",
            "Median: 0.3636364 \n",
            "SD: 0.165779 \n",
            "Purported Interpretable 的统计信息:\n",
            "Mean: 0.4725033 \n",
            "Median: 0.4286 \n",
            "SD: 0.1742579 \n",
            "LLM 的统计信息:\n",
            "Mean: 0.335893 \n",
            "Median: 0.35 \n",
            "SD: 0.1619321 \n",
            "\n"
          ]
        }
      ],
      "source": [
        "# 加载dplyr包\n",
        "library(dplyr)\n",
        "\n",
        "# 筛选出Sex为M的行\n",
        "df_m <- df %>% filter(Sex == \"F\")\n",
        "\n",
        "# 筛选出Model_type为Purported Human的Befriendly值\n",
        "be_friendly_ph <- df_m %>% filter(Model_type == \"Purported Human\") %>% pull(Be_Friendly)\n",
        "\n",
        "# 筛选出Model_type为Purported Interpretable的Befriendly值\n",
        "be_friendly_pi <- df_m %>% filter(Model_type == \"Purported Interpretable\") %>% pull(Be_Friendly)\n",
        "\n",
        "# 筛选出Model_type为LLM的Befriendly值\n",
        "be_friendly_llm <- df_m %>% filter(Model_type == \"LLM\") %>% pull(Be_Friendly)\n",
        "\n",
        "# print(be_friendly_llm)\n",
        "\n",
        "# 进行Wilcoxon符号秩检验 PH 和 PI\n",
        "wilcox_test_result_ph_pi <- wilcox.test(be_friendly_ph, be_friendly_pi, paired = TRUE)\n",
        "\n",
        "# 进行Wilcoxon符号秩检验 PH 和 LLM\n",
        "wilcox_test_result_ph_llm <- wilcox.test(be_friendly_ph, be_friendly_llm, paired = TRUE)\n",
        "\n",
        "# 进行Wilcoxon符号秩检验 PH 和 LLM\n",
        "wilcox_test_result_pi_llm <- wilcox.test(be_friendly_pi, be_friendly_llm, paired = TRUE)\n",
        "\n",
        "# 显示结果\n",
        "wilcox_test_result_ph_pi\n",
        "wilcox_test_result_ph_llm\n",
        "wilcox_test_result_pi_llm\n",
        "\n",
        "# 计算样本大小，样本大小应为差异非零的样本数\n",
        "n_ph_pi <- sum(be_friendly_ph != be_friendly_pi)\n",
        "n_ph_llm <- sum(be_friendly_ph != be_friendly_llm)\n",
        "n_pi_llm <- sum(be_friendly_pi != be_friendly_llm)\n",
        "\n",
        "# 计算期望和标准差\n",
        "expected_T_ph_pi <- n_ph_pi * (n_ph_pi + 1) / 4\n",
        "sd_T_ph_pi <- sqrt(n_ph_pi * (n_ph_pi + 1) * (2 * n_ph_pi + 1) / 24)\n",
        "\n",
        "expected_T_ph_llm <- n_ph_llm * (n_ph_llm + 1) / 4\n",
        "sd_T_ph_llm <- sqrt(n_ph_llm * (n_ph_llm + 1) * (2 * n_ph_llm + 1) / 24)\n",
        "\n",
        "expected_T_pi_llm <- n_pi_llm * (n_pi_llm + 1) / 4\n",
        "sd_T_pi_llm <- sqrt(n_pi_llm * (n_pi_llm + 1) * (2 * n_pi_llm + 1) / 24)\n",
        "\n",
        "# 从wilcox.test结果中提取统计量T\n",
        "T_value_ph_pi <- wilcox_test_result_ph_pi$statistic\n",
        "T_value_ph_llm <- wilcox_test_result_ph_llm$statistic\n",
        "T_value_pi_llm <- wilcox_test_result_pi_llm$statistic\n",
        "\n",
        "# 计算Z值\n",
        "Z_value_ph_pi <- (T_value_ph_pi - expected_T_ph_pi) / sd_T_ph_pi\n",
        "Z_value_ph_llm <- (T_value_ph_llm - expected_T_ph_llm) / sd_T_ph_llm\n",
        "Z_value_pi_llm <- (T_value_pi_llm - expected_T_pi_llm) / sd_T_pi_llm\n",
        "\n",
        "# 打印Z值\n",
        "print(paste(\"Z value between PH and PI:\", Z_value_ph_pi))\n",
        "print(paste(\"Z value between PH and LLM:\", Z_value_ph_llm))\n",
        "print(paste(\"Z value between PI and LLM:\", Z_value_pi_llm))\n",
        "\n",
        "\n",
        "# 汇总统计信息\n",
        "summary_stats_ph <- summary(be_friendly_ph)\n",
        "summary_stats_pi <- summary(be_friendly_pi)\n",
        "summary_stats_llm <- summary(be_friendly_llm)\n",
        "\n",
        "# 计算并打印中位数、平均值和标准差\n",
        "median_ph <- median(be_friendly_ph)\n",
        "mean_ph <- mean(be_friendly_ph)\n",
        "sd_ph <- sd(be_friendly_ph)\n",
        "\n",
        "median_pi <- median(be_friendly_pi)\n",
        "mean_pi <- mean(be_friendly_pi)\n",
        "sd_pi <- sd(be_friendly_pi)\n",
        "\n",
        "median_llm <- median(be_friendly_llm)\n",
        "mean_llm <- mean(be_friendly_llm)\n",
        "sd_llm <- sd(be_friendly_llm)\n",
        "\n",
        "\n",
        "cat(\"Purported Human 的统计信息:\\n\")\n",
        "cat(\"Mean:\", mean_ph, \"\\n\")\n",
        "cat(\"Median:\", median_ph, \"\\n\")\n",
        "cat(\"SD:\", sd_ph, \"\\n\")\n",
        "\n",
        "cat(\"Purported Interpretable 的统计信息:\\n\")\n",
        "cat(\"Mean:\", mean_pi, \"\\n\")\n",
        "cat(\"Median:\", median_pi, \"\\n\")\n",
        "cat(\"SD:\", sd_pi, \"\\n\")\n",
        "\n",
        "cat(\"LLM 的统计信息:\\n\")\n",
        "cat(\"Mean:\", mean_llm,\"\\n\")\n",
        "cat(\"Median:\", median_llm, \"\\n\")\n",
        "cat(\"SD:\", sd_llm, \"\\n\\n\")"
      ]
    },
    {
      "cell_type": "markdown",
      "metadata": {
        "id": "6quQmOGf_iKQ"
      },
      "source": [
        "    Male:\n",
        "    Purported Human vs Purported Interpretable Repair-Effort\n",
        "    Purported Human vs LLM Repair-Effort\n",
        "    Purported Interpretable vs LLM Repair-Effort"
      ]
    },
    {
      "cell_type": "code",
      "execution_count": null,
      "metadata": {
        "colab": {
          "base_uri": "https://localhost:8080/",
          "height": 595
        },
        "collapsed": true,
        "id": "K4PEhJQ0_iED",
        "outputId": "34ba6a86-3b4a-4249-b8ef-ea7cb3918901"
      },
      "outputs": [
        {
          "data": {
            "text/plain": [
              "\n",
              "\tWilcoxon signed rank exact test\n",
              "\n",
              "data:  repair_effort_ph and repair_effort_pi\n",
              "V = 79, p-value = 0.3028\n",
              "alternative hypothesis: true location shift is not equal to 0\n"
            ]
          },
          "metadata": {},
          "output_type": "display_data"
        },
        {
          "data": {
            "text/plain": [
              "\n",
              "\tWilcoxon signed rank exact test\n",
              "\n",
              "data:  repair_effort_ph and be_friendly_llm\n",
              "V = 93, p-value = 0.06372\n",
              "alternative hypothesis: true location shift is not equal to 0\n"
            ]
          },
          "metadata": {},
          "output_type": "display_data"
        },
        {
          "data": {
            "text/plain": [
              "\n",
              "\tWilcoxon signed rank exact test\n",
              "\n",
              "data:  repair_effort_pi and repair_effort_llm\n",
              "V = 57, p-value = 0.8904\n",
              "alternative hypothesis: true location shift is not equal to 0\n"
            ]
          },
          "metadata": {},
          "output_type": "display_data"
        },
        {
          "name": "stdout",
          "output_type": "stream",
          "text": [
            "[1] \"Z value between PH and PI: 1.07912748506942\"\n",
            "[1] \"Z value between PH and LLM: 1.87427405301531\"\n",
            "[1] \"Z value between PI and LLM: -0.170388550274119\"\n",
            "Purported Human 的统计信息:\n",
            "Mean: 0.4330462 \n",
            "Median: 0.4117647 \n",
            "SD: 0.1137937 \n",
            "Purported Interpretable 的统计信息:\n",
            "Mean: 0.3969012 \n",
            "Median: 0.4 \n",
            "SD: 0.06655194 \n",
            "LLM 的统计信息:\n",
            "Mean: 0.3819048 \n",
            "Median: 0.3571429 \n",
            "SD: 0.1527263 \n",
            "\n"
          ]
        }
      ],
      "source": [
        "# 加载dplyr包\n",
        "library(dplyr)\n",
        "\n",
        "# 筛选出Sex为M的行\n",
        "df_m <- df %>% filter(Sex == \"F\")\n",
        "\n",
        "# 筛选出Model_type为Purported Human的Repair_Effort值\n",
        "repair_effort_ph <- df_m %>% filter(Model_type == \"Purported Human\") %>% pull(Repair_Effort)\n",
        "\n",
        "# 筛选出Model_type为Purported Interpretable的Repair_Effort值\n",
        "repair_effort_pi <- df_m %>% filter(Model_type == \"Purported Interpretable\") %>% pull(Repair_Effort)\n",
        "\n",
        "# 筛选出Model_type为LLM的Repair_Effort值\n",
        "repair_effort_llm <- df_m %>% filter(Model_type == \"LLM\") %>% pull(Repair_Effort)\n",
        "\n",
        "\n",
        "# 进行Wilcoxon符号秩检验 PH 和 PI\n",
        "wilcox_test_result_ph_pi <- wilcox.test(repair_effort_ph, repair_effort_pi, paired = TRUE)\n",
        "\n",
        "# 进行Wilcoxon符号秩检验 PH 和 LLM\n",
        "wilcox_test_result_ph_llm <- wilcox.test(repair_effort_ph, be_friendly_llm, paired = TRUE)\n",
        "\n",
        "# 进行Wilcoxon符号秩检验 PI 和 LLM\n",
        "wilcox_test_result_pi_llm <- wilcox.test(repair_effort_pi, repair_effort_llm, paired = TRUE)\n",
        "\n",
        "# 显示结果\n",
        "wilcox_test_result_ph_pi\n",
        "wilcox_test_result_ph_llm\n",
        "wilcox_test_result_pi_llm\n",
        "\n",
        "# 计算样本大小，样本大小应为差异非零的样本数\n",
        "n_ph_pi <- sum(repair_effort_ph != be_friendly_pi)\n",
        "n_ph_llm <- sum(repair_effort_ph != repair_effort_llm)\n",
        "n_pi_llm <- sum(repair_effort_pi != repair_effort_llm)\n",
        "\n",
        "# 计算期望和标准差\n",
        "expected_T_ph_pi <- n_ph_pi * (n_ph_pi + 1) / 4\n",
        "sd_T_ph_pi <- sqrt(n_ph_pi * (n_ph_pi + 1) * (2 * n_ph_pi + 1) / 24)\n",
        "\n",
        "expected_T_ph_llm <- n_ph_llm * (n_ph_llm + 1) / 4\n",
        "sd_T_ph_llm <- sqrt(n_ph_llm * (n_ph_llm + 1) * (2 * n_ph_llm + 1) / 24)\n",
        "\n",
        "expected_T_pi_llm <- n_pi_llm * (n_pi_llm + 1) / 4\n",
        "sd_T_pi_llm <- sqrt(n_pi_llm * (n_pi_llm + 1) * (2 * n_pi_llm + 1) / 24)\n",
        "\n",
        "# 从wilcox.test结果中提取统计量T\n",
        "T_value_ph_pi <- wilcox_test_result_ph_pi$statistic\n",
        "T_value_ph_llm <- wilcox_test_result_ph_llm$statistic\n",
        "T_value_pi_llm <- wilcox_test_result_pi_llm$statistic\n",
        "\n",
        "# 计算Z值\n",
        "Z_value_ph_pi <- (T_value_ph_pi - expected_T_ph_pi) / sd_T_ph_pi\n",
        "Z_value_ph_llm <- (T_value_ph_llm - expected_T_ph_llm) / sd_T_ph_llm\n",
        "Z_value_pi_llm <- (T_value_pi_llm - expected_T_pi_llm) / sd_T_pi_llm\n",
        "\n",
        "# 打印Z值\n",
        "print(paste(\"Z value between PH and PI:\", Z_value_ph_pi))\n",
        "print(paste(\"Z value between PH and LLM:\", Z_value_ph_llm))\n",
        "print(paste(\"Z value between PI and LLM:\", Z_value_pi_llm))\n",
        "\n",
        "\n",
        "# 汇总统计信息\n",
        "summary_stats_ph <- summary(repair_effort_ph)\n",
        "summary_stats_pi <- summary(repair_effort_pi)\n",
        "summary_stats_llm <- summary(repair_effort_llm)\n",
        "\n",
        "# 计算并打印中位数、平均值和标准差\n",
        "median_ph <- median(repair_effort_ph)\n",
        "mean_ph <- mean(repair_effort_ph)\n",
        "sd_ph <- sd(repair_effort_ph)\n",
        "\n",
        "median_pi <- median(repair_effort_pi)\n",
        "mean_pi <- mean(repair_effort_pi)\n",
        "sd_pi <- sd(repair_effort_pi)\n",
        "\n",
        "median_llm <- median(repair_effort_llm)\n",
        "mean_llm <- mean(repair_effort_llm)\n",
        "sd_llm <- sd(repair_effort_llm)\n",
        "\n",
        "\n",
        "cat(\"Purported Human 的统计信息:\\n\")\n",
        "cat(\"Mean:\", mean_ph, \"\\n\")\n",
        "cat(\"Median:\", median_ph, \"\\n\")\n",
        "cat(\"SD:\", sd_ph, \"\\n\")\n",
        "\n",
        "cat(\"Purported Interpretable 的统计信息:\\n\")\n",
        "cat(\"Mean:\", mean_pi, \"\\n\")\n",
        "cat(\"Median:\", median_pi, \"\\n\")\n",
        "cat(\"SD:\", sd_pi, \"\\n\")\n",
        "\n",
        "cat(\"LLM 的统计信息:\\n\")\n",
        "cat(\"Mean:\", mean_llm,\"\\n\")\n",
        "cat(\"Median:\", median_llm, \"\\n\")\n",
        "cat(\"SD:\", sd_llm, \"\\n\\n\")\n"
      ]
    },
    {
      "cell_type": "markdown",
      "source": [
        "不分性别"
      ],
      "metadata": {
        "id": "Efde9EbLeESq"
      }
    },
    {
      "cell_type": "code",
      "source": [
        "# 加载dplyr包\n",
        "library(dplyr)\n",
        "\n",
        "# 筛选出Sex为M的行\n",
        "df_m <- df %>% filter(Sex == \"M\")\n",
        "\n",
        "# 筛选出Model_type为Purported Human的Repair_Effort值\n",
        "repair_effort_ph <- df %>% filter(Model_type == \"Purported Human\") %>% pull(Repair_Effort)\n",
        "\n",
        "# 筛选出Model_type为Purported Interpretable的Repair_Effort值\n",
        "repair_effort_pi <- df%>% filter(Model_type == \"Purported Interpretable\") %>% pull(Repair_Effort)\n",
        "\n",
        "# 筛选出Model_type为LLM的Repair_Effort值\n",
        "repair_effort_llm <- df%>% filter(Model_type == \"LLM\") %>% pull(Repair_Effort)\n",
        "\n",
        "\n",
        "# 进行Wilcoxon符号秩检验 PH 和 PI\n",
        "wilcox_test_result_ph_pi <- wilcox.test(repair_effort_ph, repair_effort_pi, paired = TRUE)\n",
        "\n",
        "# 进行Wilcoxon符号秩检验 PH 和 LLM\n",
        "wilcox_test_result_ph_llm <- wilcox.test(repair_effort_ph, repair_effort_llm, paired = TRUE)\n",
        "\n",
        "# 进行Wilcoxon符号秩检验 PI 和 LLM\n",
        "wilcox_test_result_pi_llm <- wilcox.test(repair_effort_pi, repair_effort_llm, paired = TRUE)\n",
        "\n",
        "# 显示结果\n",
        "wilcox_test_result_ph_pi\n",
        "wilcox_test_result_ph_llm\n",
        "wilcox_test_result_pi_llm\n",
        "\n",
        "# 计算样本大小，样本大小应为差异非零的样本数\n",
        "n_ph_pi <- sum(repair_effort_ph != repair_effort_pi)\n",
        "n_ph_llm <- sum(repair_effort_ph != repair_effort_llm)\n",
        "n_pi_llm <- sum(repair_effort_pi != repair_effort_llm)\n",
        "\n",
        "# 计算期望和标准差\n",
        "expected_T_ph_pi <- n_ph_pi * (n_ph_pi + 1) / 4\n",
        "sd_T_ph_pi <- sqrt(n_ph_pi * (n_ph_pi + 1) * (2 * n_ph_pi + 1) / 24)\n",
        "\n",
        "expected_T_ph_llm <- n_ph_llm * (n_ph_llm + 1) / 4\n",
        "sd_T_ph_llm <- sqrt(n_ph_llm * (n_ph_llm + 1) * (2 * n_ph_llm + 1) / 24)\n",
        "\n",
        "expected_T_pi_llm <- n_pi_llm * (n_pi_llm + 1) / 4\n",
        "sd_T_pi_llm <- sqrt(n_pi_llm * (n_pi_llm + 1) * (2 * n_pi_llm + 1) / 24)\n",
        "\n",
        "# 从wilcox.test结果中提取统计量T\n",
        "T_value_ph_pi <- wilcox_test_result_ph_pi$statistic\n",
        "T_value_ph_llm <- wilcox_test_result_ph_llm$statistic\n",
        "T_value_pi_llm <- wilcox_test_result_pi_llm$statistic\n",
        "\n",
        "# 计算Z值\n",
        "Z_value_ph_pi <- (T_value_ph_pi - expected_T_ph_pi) / sd_T_ph_pi\n",
        "Z_value_ph_llm <- (T_value_ph_llm - expected_T_ph_llm) / sd_T_ph_llm\n",
        "Z_value_pi_llm <- (T_value_pi_llm - expected_T_pi_llm) / sd_T_pi_llm\n",
        "\n",
        "# 打印Z值\n",
        "print(paste(\"Z value between PH and PI:\", Z_value_ph_pi))\n",
        "print(paste(\"Z value between PH and LLM:\", Z_value_ph_llm))\n",
        "print(paste(\"Z value between PI and LLM:\", Z_value_pi_llm))\n",
        "\n",
        "\n",
        "# 汇总统计信息\n",
        "summary_stats_ph <- summary(repair_effort_ph)\n",
        "summary_stats_pi <- summary(repair_effort_pi)\n",
        "summary_stats_llm <- summary(repair_effort_llm)\n",
        "\n",
        "# 计算并打印中位数、平均值和标准差\n",
        "median_ph <- median(repair_effort_ph)\n",
        "mean_ph <- mean(repair_effort_ph)\n",
        "sd_ph <- sd(repair_effort_ph)\n",
        "\n",
        "median_pi <- median(repair_effort_pi)\n",
        "mean_pi <- mean(repair_effort_pi)\n",
        "sd_pi <- sd(repair_effort_pi)\n",
        "\n",
        "median_llm <- median(repair_effort_llm)\n",
        "mean_llm <- mean(repair_effort_llm)\n",
        "sd_llm <- sd(repair_effort_llm)\n",
        "\n",
        "\n",
        "cat(\"Purported Human 的统计信息:\\n\")\n",
        "cat(\"Mean:\", mean_ph, \"\\n\")\n",
        "cat(\"Median:\", median_ph, \"\\n\")\n",
        "cat(\"SD:\", sd_ph, \"\\n\")\n",
        "\n",
        "cat(\"Purported Interpretable 的统计信息:\\n\")\n",
        "cat(\"Mean:\", mean_pi, \"\\n\")\n",
        "cat(\"Median:\", median_pi, \"\\n\")\n",
        "cat(\"SD:\", sd_pi, \"\\n\")\n",
        "\n",
        "cat(\"LLM 的统计信息:\\n\")\n",
        "cat(\"Mean:\", mean_llm,\"\\n\")\n",
        "cat(\"Median:\", median_llm, \"\\n\")\n",
        "cat(\"SD:\", sd_llm, \"\\n\\n\")\n"
      ],
      "metadata": {
        "colab": {
          "base_uri": "https://localhost:8080/",
          "height": 663
        },
        "id": "4lhNQkmAeGGx",
        "outputId": "a7641372-08c5-495a-f072-985f2360a73f"
      },
      "execution_count": null,
      "outputs": [
        {
          "output_type": "stream",
          "name": "stderr",
          "text": [
            "Warning message in wilcox.test.default(repair_effort_ph, repair_effort_llm, paired = TRUE):\n",
            "“cannot compute exact p-value with ties”\n",
            "Warning message in wilcox.test.default(repair_effort_pi, repair_effort_llm, paired = TRUE):\n",
            "“cannot compute exact p-value with zeroes”\n"
          ]
        },
        {
          "output_type": "display_data",
          "data": {
            "text/plain": [
              "\n",
              "\tWilcoxon signed rank exact test\n",
              "\n",
              "data:  repair_effort_ph and repair_effort_pi\n",
              "V = 321, p-value = 0.06989\n",
              "alternative hypothesis: true location shift is not equal to 0\n"
            ]
          },
          "metadata": {}
        },
        {
          "output_type": "display_data",
          "data": {
            "text/plain": [
              "\n",
              "\tWilcoxon signed rank test with continuity correction\n",
              "\n",
              "data:  repair_effort_ph and repair_effort_llm\n",
              "V = 364, p-value = 0.007047\n",
              "alternative hypothesis: true location shift is not equal to 0\n"
            ]
          },
          "metadata": {}
        },
        {
          "output_type": "display_data",
          "data": {
            "text/plain": [
              "\n",
              "\tWilcoxon signed rank test with continuity correction\n",
              "\n",
              "data:  repair_effort_pi and repair_effort_llm\n",
              "V = 244, p-value = 0.574\n",
              "alternative hypothesis: true location shift is not equal to 0\n"
            ]
          },
          "metadata": {}
        },
        {
          "output_type": "stream",
          "name": "stdout",
          "text": [
            "[1] \"Z value between PH and PI: 1.82029803290813\"\n",
            "[1] \"Z value between PH and LLM: 2.70473662516857\"\n",
            "[1] \"Z value between PI and LLM: 0.573014830954033\"\n",
            "Purported Human 的统计信息:\n",
            "Mean: 0.4356898 \n",
            "Median: 0.422619 \n",
            "SD: 0.09755477 \n",
            "Purported Interpretable 的统计信息:\n",
            "Mean: 0.3810906 \n",
            "Median: 0.3875 \n",
            "SD: 0.1156656 \n",
            "LLM 的统计信息:\n",
            "Mean: 0.3587124 \n",
            "Median: 0.35 \n",
            "SD: 0.1261432 \n",
            "\n"
          ]
        }
      ]
    },
    {
      "cell_type": "markdown",
      "source": [
        "校正"
      ],
      "metadata": {
        "id": "ZV70VVeYWBg9"
      }
    },
    {
      "cell_type": "code",
      "source": [
        "# 加载dplyr包\n",
        "library(dplyr)\n",
        "\n",
        "# 筛选出Sex为M的行\n",
        "df_m <- df %>% filter(Sex == \"F\")\n",
        "\n",
        "# 筛选出Model_type为Purported Human的Repair_Effort值\n",
        "repair_effort_ph <- df %>% filter(Model_type == \"Purported Human\") %>% pull(Repair_Effort)\n",
        "\n",
        "# 筛选出Model_type为Purported Interpretable的Repair_Effort值\n",
        "repair_effort_pi <- df %>% filter(Model_type == \"Purported Interpretable\") %>% pull(Repair_Effort)\n",
        "\n",
        "# 筛选出Model_type为LLM的Repair_Effort值\n",
        "repair_effort_llm <- df %>% filter(Model_type == \"LLM\") %>% pull(Repair_Effort)\n",
        "\n",
        "\n",
        "# 进行Wilcoxon符号秩检验: PH 和 PI\n",
        "wilcox_test_result_ph_pi <- wilcox.test(repair_effort_ph, repair_effort_pi, paired = TRUE)\n",
        "\n",
        "# 进行Wilcoxon符号秩检验: PH 和 LLM\n",
        "wilcox_test_result_ph_llm <- wilcox.test(repair_effort_ph, repair_effort_llm, paired = TRUE)\n",
        "\n",
        "# 进行Wilcoxon符号秩检验: PI 和 LLM\n",
        "wilcox_test_result_pi_llm <- wilcox.test(repair_effort_pi, repair_effort_llm, paired = TRUE)\n",
        "\n",
        "# 显示结果\n",
        "print(wilcox_test_result_ph_pi)\n",
        "print(wilcox_test_result_ph_llm)\n",
        "print(wilcox_test_result_pi_llm)\n",
        "\n",
        "# 计算样本大小，样本大小应为差异非零的样本数\n",
        "n_ph_pi <- sum(repair_effort_ph != repair_effort_pi)\n",
        "n_ph_llm <- sum(repair_effort_ph != repair_effort_llm)\n",
        "n_pi_llm <- sum(repair_effort_pi != repair_effort_llm)\n",
        "\n",
        "# 计算期望和标准差\n",
        "expected_T_ph_pi <- n_ph_pi * (n_ph_pi + 1) / 4\n",
        "sd_T_ph_pi <- sqrt(n_ph_pi * (n_ph_pi + 1) * (2 * n_ph_pi + 1) / 24)\n",
        "\n",
        "expected_T_ph_llm <- n_ph_llm * (n_ph_llm + 1) / 4\n",
        "sd_T_ph_llm <- sqrt(n_ph_llm * (n_ph_llm + 1) * (2 * n_ph_llm + 1) / 24)\n",
        "\n",
        "expected_T_pi_llm <- n_pi_llm * (n_pi_llm + 1) / 4\n",
        "sd_T_pi_llm <- sqrt(n_pi_llm * (n_pi_llm + 1) * (2 * n_pi_llm + 1) / 24)\n",
        "\n",
        "# 从wilcox.test结果中提取统计量T\n",
        "T_value_ph_pi <- wilcox_test_result_ph_pi$statistic\n",
        "T_value_ph_llm <- wilcox_test_result_ph_llm$statistic\n",
        "T_value_pi_llm <- wilcox_test_result_pi_llm$statistic\n",
        "\n",
        "# 计算Z值\n",
        "Z_value_ph_pi <- (T_value_ph_pi - expected_T_ph_pi) / sd_T_ph_pi\n",
        "Z_value_ph_llm <- (T_value_ph_llm - expected_T_ph_llm) / sd_T_ph_llm\n",
        "Z_value_pi_llm <- (T_value_pi_llm - expected_T_pi_llm) / sd_T_pi_llm\n",
        "\n",
        "# 打印Z值\n",
        "print(paste(\"Z value between PH and PI:\", Z_value_ph_pi))\n",
        "print(paste(\"Z value between PH and LLM:\", Z_value_ph_llm))\n",
        "print(paste(\"Z value between PI and LLM:\", Z_value_pi_llm))\n",
        "\n",
        "# 汇总统计信息\n",
        "summary_stats_ph <- summary(repair_effort_ph)\n",
        "summary_stats_pi <- summary(repair_effort_pi)\n",
        "summary_stats_llm <- summary(repair_effort_llm)\n",
        "\n",
        "# 计算并打印中位数、平均值和标准差\n",
        "median_ph <- median(repair_effort_ph)\n",
        "mean_ph <- mean(repair_effort_ph)\n",
        "sd_ph <- sd(repair_effort_ph)\n",
        "\n",
        "median_pi <- median(repair_effort_pi)\n",
        "mean_pi <- mean(repair_effort_pi)\n",
        "sd_pi <- sd(repair_effort_pi)\n",
        "\n",
        "median_llm <- median(repair_effort_llm)\n",
        "mean_llm <- mean(repair_effort_llm)\n",
        "sd_llm <- sd(repair_effort_llm)\n",
        "\n",
        "\n",
        "cat(\"Purported Human 的统计信息:\\n\")\n",
        "cat(\"Mean:\", mean_ph, \"\\n\")\n",
        "cat(\"Median:\", median_ph, \"\\n\")\n",
        "cat(\"SD:\", sd_ph, \"\\n\")\n",
        "\n",
        "cat(\"Purported Interpretable 的统计信息:\\n\")\n",
        "cat(\"Mean:\", mean_pi, \"\\n\")\n",
        "cat(\"Median:\", median_pi, \"\\n\")\n",
        "cat(\"SD:\", sd_pi, \"\\n\")\n",
        "\n",
        "cat(\"LLM 的统计信息:\\n\")\n",
        "cat(\"Mean:\", mean_llm, \"\\n\")\n",
        "cat(\"Median:\", median_llm, \"\\n\")\n",
        "cat(\"SD:\", sd_llm, \"\\n\\n\")\n",
        "\n",
        "# Bonferroni校正\n",
        "alpha <- 0.05\n",
        "num_tests <- 3\n",
        "alpha_bonferroni <- alpha / num_tests\n",
        "\n",
        "# 检查校正后的显著性水平\n",
        "p_value_ph_pi <- wilcox_test_result_ph_pi$p.value\n",
        "p_value_ph_llm <- wilcox_test_result_ph_llm$p.value\n",
        "p_value_pi_llm <- wilcox_test_result_pi_llm$p.value\n",
        "\n",
        "significant_ph_pi <- p_value_ph_pi <= alpha_bonferroni\n",
        "significant_ph_llm <- p_value_ph_llm <= alpha_bonferroni\n",
        "significant_pi_llm <- p_value_pi_llm <= alpha_bonferroni\n",
        "\n",
        "cat(\"Bonferroni校正后的显著性水平:\", alpha_bonferroni, \"\\n\")\n",
        "cat(\"PH vs PI 显著性检验结果:\", significant_ph_pi, \"\\n\")\n",
        "cat(\"PH vs LLM 显著性检验结果:\", significant_ph_llm, \"\\n\")\n",
        "cat(\"PI vs LLM 显著性检验结果:\", significant_pi_llm, \"\\n\")\n"
      ],
      "metadata": {
        "colab": {
          "base_uri": "https://localhost:8080/"
        },
        "id": "jOBGwFaHWBGL",
        "outputId": "0d8e6b86-0e9a-42cf-a410-9a51399bbbfd"
      },
      "execution_count": null,
      "outputs": [
        {
          "output_type": "stream",
          "name": "stderr",
          "text": [
            "Warning message in wilcox.test.default(repair_effort_ph, repair_effort_llm, paired = TRUE):\n",
            "“cannot compute exact p-value with ties”\n",
            "Warning message in wilcox.test.default(repair_effort_pi, repair_effort_llm, paired = TRUE):\n",
            "“cannot compute exact p-value with zeroes”\n"
          ]
        },
        {
          "output_type": "stream",
          "name": "stdout",
          "text": [
            "\n",
            "\tWilcoxon signed rank exact test\n",
            "\n",
            "data:  repair_effort_ph and repair_effort_pi\n",
            "V = 321, p-value = 0.06989\n",
            "alternative hypothesis: true location shift is not equal to 0\n",
            "\n",
            "\n",
            "\tWilcoxon signed rank test with continuity correction\n",
            "\n",
            "data:  repair_effort_ph and repair_effort_llm\n",
            "V = 364, p-value = 0.007047\n",
            "alternative hypothesis: true location shift is not equal to 0\n",
            "\n",
            "\n",
            "\tWilcoxon signed rank test with continuity correction\n",
            "\n",
            "data:  repair_effort_pi and repair_effort_llm\n",
            "V = 244, p-value = 0.574\n",
            "alternative hypothesis: true location shift is not equal to 0\n",
            "\n",
            "[1] \"Z value between PH and PI: 1.82029803290813\"\n",
            "[1] \"Z value between PH and LLM: 2.70473662516857\"\n",
            "[1] \"Z value between PI and LLM: 0.573014830954033\"\n",
            "Purported Human 的统计信息:\n",
            "Mean: 0.4356898 \n",
            "Median: 0.422619 \n",
            "SD: 0.09755477 \n",
            "Purported Interpretable 的统计信息:\n",
            "Mean: 0.3810906 \n",
            "Median: 0.3875 \n",
            "SD: 0.1156656 \n",
            "LLM 的统计信息:\n",
            "Mean: 0.3587124 \n",
            "Median: 0.35 \n",
            "SD: 0.1261432 \n",
            "\n",
            "Bonferroni校正后的显著性水平: 0.01666667 \n",
            "PH vs PI 显著性检验结果: FALSE \n",
            "PH vs LLM 显著性检验结果: TRUE \n",
            "PI vs LLM 显著性检验结果: FALSE \n"
          ]
        }
      ]
    },
    {
      "cell_type": "markdown",
      "metadata": {
        "id": "l9nLgGd-F6gp"
      },
      "source": [
        "    Male:\n",
        "    Purported Human vs Purported Interpretable Befriendly Weighted\n",
        "    Purported Human vs LLM Befriendly Weighted\n",
        "    Purported Interpretable vs LLM Befriendly Weighted"
      ]
    },
    {
      "cell_type": "code",
      "execution_count": null,
      "metadata": {
        "colab": {
          "base_uri": "https://localhost:8080/",
          "height": 629
        },
        "collapsed": true,
        "id": "lzN02fyFGMpV",
        "outputId": "10bd430e-be21-467d-a619-71926f8a24b7"
      },
      "outputs": [
        {
          "name": "stderr",
          "output_type": "stream",
          "text": [
            "Warning message in wilcox.test.default(be_friendly_pi, be_friendly_llm, paired = TRUE):\n",
            "“cannot compute exact p-value with zeroes”\n"
          ]
        },
        {
          "data": {
            "text/plain": [
              "\n",
              "\tWilcoxon signed rank exact test\n",
              "\n",
              "data:  be_friendly_ph and be_friendly_pi\n",
              "V = 28, p-value = 0.073\n",
              "alternative hypothesis: true location shift is not equal to 0\n"
            ]
          },
          "metadata": {},
          "output_type": "display_data"
        },
        {
          "data": {
            "text/plain": [
              "\n",
              "\tWilcoxon signed rank exact test\n",
              "\n",
              "data:  be_friendly_ph and be_friendly_llm\n",
              "V = 75, p-value = 0.4212\n",
              "alternative hypothesis: true location shift is not equal to 0\n"
            ]
          },
          "metadata": {},
          "output_type": "display_data"
        },
        {
          "data": {
            "text/plain": [
              "\n",
              "\tWilcoxon signed rank test with continuity correction\n",
              "\n",
              "data:  be_friendly_pi and be_friendly_llm\n",
              "V = 89, p-value = 0.02382\n",
              "alternative hypothesis: true location shift is not equal to 0\n"
            ]
          },
          "metadata": {},
          "output_type": "display_data"
        },
        {
          "name": "stdout",
          "output_type": "stream",
          "text": [
            "[1] \"Z value between PH and PI: -1.81747786959061\"\n",
            "[1] \"Z value between PH and LLM: 0.851942751370597\"\n",
            "[1] \"Z value between PI and LLM: 2.29134159509636\"\n",
            "Purported Human 的统计信息:\n",
            "Mean: 0.4214283 \n",
            "Median: 0.4027778 \n",
            "SD: 0.1824614 \n",
            "Purported Interpretable 的统计信息:\n",
            "Mean: 0.5577199 \n",
            "Median: 0.5535714 \n",
            "SD: 0.1910551 \n",
            "LLM 的统计信息:\n",
            "Mean: 0.4014226 \n",
            "Median: 0.4133333 \n",
            "SD: 0.2038186 \n",
            "\n"
          ]
        }
      ],
      "source": [
        "# 加载dplyr包\n",
        "library(dplyr)\n",
        "\n",
        "# 筛选出Sex为M的行\n",
        "df_m <- df %>% filter(Sex == \"F\")\n",
        "\n",
        "# 筛选出Model_type为Purported Human的Befriendly Weighted值\n",
        "be_friendly_ph <- df_m %>% filter(Model_type == \"Purported Human\") %>% pull(Be_Friendly_Weighted)\n",
        "\n",
        "# 筛选出Model_type为Purported Interpretable的Befriendly Weighted值\n",
        "be_friendly_pi <- df_m %>% filter(Model_type == \"Purported Interpretable\") %>% pull(Be_Friendly_Weighted)\n",
        "\n",
        "# 筛选出Model_type为LLM的Befriendly Weighted值\n",
        "be_friendly_llm <- df_m %>% filter(Model_type == \"LLM\") %>% pull(Be_Friendly_Weighted)\n",
        "\n",
        "# print(be_friendly_llm)\n",
        "\n",
        "# 进行Wilcoxon符号秩检验 PH 和 PI\n",
        "wilcox_test_result_ph_pi <- wilcox.test(be_friendly_ph, be_friendly_pi, paired = TRUE)\n",
        "\n",
        "# 进行Wilcoxon符号秩检验 PH 和 LLM\n",
        "wilcox_test_result_ph_llm <- wilcox.test(be_friendly_ph, be_friendly_llm, paired = TRUE)\n",
        "\n",
        "# 进行Wilcoxon符号秩检验 PH 和 LLM\n",
        "wilcox_test_result_pi_llm <- wilcox.test(be_friendly_pi, be_friendly_llm, paired = TRUE)\n",
        "\n",
        "# 显示结果\n",
        "wilcox_test_result_ph_pi\n",
        "wilcox_test_result_ph_llm\n",
        "wilcox_test_result_pi_llm\n",
        "\n",
        "# 计算样本大小，样本大小应为差异非零的样本数\n",
        "n_ph_pi <- sum(be_friendly_ph != be_friendly_pi)\n",
        "n_ph_llm <- sum(be_friendly_ph != be_friendly_llm)\n",
        "n_pi_llm <- sum(be_friendly_pi != be_friendly_llm)\n",
        "\n",
        "# 计算期望和标准差\n",
        "expected_T_ph_pi <- n_ph_pi * (n_ph_pi + 1) / 4\n",
        "sd_T_ph_pi <- sqrt(n_ph_pi * (n_ph_pi + 1) * (2 * n_ph_pi + 1) / 24)\n",
        "\n",
        "expected_T_ph_llm <- n_ph_llm * (n_ph_llm + 1) / 4\n",
        "sd_T_ph_llm <- sqrt(n_ph_llm * (n_ph_llm + 1) * (2 * n_ph_llm + 1) / 24)\n",
        "\n",
        "expected_T_pi_llm <- n_pi_llm * (n_pi_llm + 1) / 4\n",
        "sd_T_pi_llm <- sqrt(n_pi_llm * (n_pi_llm + 1) * (2 * n_pi_llm + 1) / 24)\n",
        "\n",
        "# 从wilcox.test结果中提取统计量T\n",
        "T_value_ph_pi <- wilcox_test_result_ph_pi$statistic\n",
        "T_value_ph_llm <- wilcox_test_result_ph_llm$statistic\n",
        "T_value_pi_llm <- wilcox_test_result_pi_llm$statistic\n",
        "\n",
        "# 计算Z值\n",
        "Z_value_ph_pi <- (T_value_ph_pi - expected_T_ph_pi) / sd_T_ph_pi\n",
        "Z_value_ph_llm <- (T_value_ph_llm - expected_T_ph_llm) / sd_T_ph_llm\n",
        "Z_value_pi_llm <- (T_value_pi_llm - expected_T_pi_llm) / sd_T_pi_llm\n",
        "\n",
        "# 打印Z值\n",
        "print(paste(\"Z value between PH and PI:\", Z_value_ph_pi))\n",
        "print(paste(\"Z value between PH and LLM:\", Z_value_ph_llm))\n",
        "print(paste(\"Z value between PI and LLM:\", Z_value_pi_llm))\n",
        "\n",
        "\n",
        "# 汇总统计信息\n",
        "summary_stats_ph <- summary(be_friendly_ph)\n",
        "summary_stats_pi <- summary(be_friendly_pi)\n",
        "summary_stats_llm <- summary(be_friendly_llm)\n",
        "\n",
        "# 计算并打印中位数、平均值和标准差\n",
        "median_ph <- median(be_friendly_ph)\n",
        "mean_ph <- mean(be_friendly_ph)\n",
        "sd_ph <- sd(be_friendly_ph)\n",
        "\n",
        "median_pi <- median(be_friendly_pi)\n",
        "mean_pi <- mean(be_friendly_pi)\n",
        "sd_pi <- sd(be_friendly_pi)\n",
        "\n",
        "median_llm <- median(be_friendly_llm)\n",
        "mean_llm <- mean(be_friendly_llm)\n",
        "sd_llm <- sd(be_friendly_llm)\n",
        "\n",
        "\n",
        "cat(\"Purported Human 的统计信息:\\n\")\n",
        "cat(\"Mean:\", mean_ph, \"\\n\")\n",
        "cat(\"Median:\", median_ph, \"\\n\")\n",
        "cat(\"SD:\", sd_ph, \"\\n\")\n",
        "\n",
        "cat(\"Purported Interpretable 的统计信息:\\n\")\n",
        "cat(\"Mean:\", mean_pi, \"\\n\")\n",
        "cat(\"Median:\", median_pi, \"\\n\")\n",
        "cat(\"SD:\", sd_pi, \"\\n\")\n",
        "\n",
        "cat(\"LLM 的统计信息:\\n\")\n",
        "cat(\"Mean:\", mean_llm,\"\\n\")\n",
        "cat(\"Median:\", median_llm, \"\\n\")\n",
        "cat(\"SD:\", sd_llm, \"\\n\\n\")"
      ]
    },
    {
      "cell_type": "markdown",
      "metadata": {
        "id": "cJHYSrn9IAcP"
      },
      "source": [
        "    Male:\n",
        "    Purported Human vs Purported Interpretable Repair-Effort Weighted\n",
        "    Purported Human vs LLM Repair-Effort Weighted\n",
        "    Purported Interpretable vs LLM Repair-Effort Weighted\n",
        "\n"
      ]
    },
    {
      "cell_type": "code",
      "execution_count": null,
      "metadata": {
        "colab": {
          "base_uri": "https://localhost:8080/",
          "height": 646
        },
        "collapsed": true,
        "id": "Ssx7ZHq_IATp",
        "outputId": "2af9c1d5-70a1-4ece-b092-2795a2aeb348"
      },
      "outputs": [
        {
          "data": {
            "text/plain": [
              "\n",
              "\tWilcoxon signed rank exact test\n",
              "\n",
              "data:  repair_effort_ph and repair_effort_pi\n",
              "V = 52, p-value = 0.6788\n",
              "alternative hypothesis: true location shift is not equal to 0\n"
            ]
          },
          "metadata": {},
          "output_type": "display_data"
        },
        {
          "data": {
            "text/plain": [
              "\n",
              "\tWilcoxon signed rank exact test\n",
              "\n",
              "data:  repair_effort_ph and repair_effort_llm\n",
              "V = 61, p-value = 0.978\n",
              "alternative hypothesis: true location shift is not equal to 0\n"
            ]
          },
          "metadata": {},
          "output_type": "display_data"
        },
        {
          "data": {
            "text/plain": [
              "\n",
              "\tWilcoxon signed rank exact test\n",
              "\n",
              "data:  repair_effort_pi and repair_effort_llm\n",
              "V = 67, p-value = 0.7197\n",
              "alternative hypothesis: true location shift is not equal to 0\n"
            ]
          },
          "metadata": {},
          "output_type": "display_data"
        },
        {
          "name": "stdout",
          "output_type": "stream",
          "text": [
            " [1] 0.3750000 0.5625000 0.3571429 0.4037037 0.5142857 0.3611000 0.3541667\n",
            " [8] 0.3552632 0.7777778 0.4375000 0.4523810 0.5238095 0.5842491 0.4358974\n",
            "[15] 0.4500000\n",
            "[1] \"Z value between PH and PI: -0.454369467397652\"\n",
            "[1] \"Z value between PH and LLM: 0.0567961834247065\"\n",
            "[1] \"Z value between PI and LLM: 0.397573283972945\"\n",
            "Purported Human 的统计信息:\n",
            "Mean: 0.4511188 \n",
            "Median: 0.4325758 \n",
            "SD: 0.117019 \n",
            "Purported Interpretable 的统计信息:\n",
            "Mean: 0.4629851 \n",
            "Median: 0.4375 \n",
            "SD: 0.1158763 \n",
            "LLM 的统计信息:\n",
            "Mean: 0.4176544 \n",
            "Median: 0.4166667 \n",
            "SD: 0.1701177 \n",
            "\n"
          ]
        }
      ],
      "source": [
        "# 加载dplyr包\n",
        "library(dplyr)\n",
        "\n",
        "# 筛选出Sex为M的行\n",
        "df_m <- df %>% filter(Sex == \"F\")\n",
        "\n",
        "# 筛选出Model_type为Purported Human的Repair_Effort_Weighted值\n",
        "repair_effort_ph <- df_m %>% filter(Model_type == \"Purported Human\") %>% pull(Repair_Effort_Weighted)\n",
        "\n",
        "# 筛选出Model_type为Purported Interpretable的Repair_Effort值\n",
        "repair_effort_pi <- df_m %>% filter(Model_type == \"Purported Interpretable\") %>% pull(Repair_Effort_Weighted)\n",
        "\n",
        "# 筛选出Model_type为LLM的Repair_Effort值\n",
        "repair_effort_llm <- df_m %>% filter(Model_type == \"LLM\") %>% pull(Repair_Effort_Weighted)\n",
        "\n",
        "\n",
        "# 进行Wilcoxon符号秩检验 PH 和 PI\n",
        "wilcox_test_result_ph_pi <- wilcox.test(repair_effort_ph, repair_effort_pi, paired = TRUE)\n",
        "\n",
        "# 进行Wilcoxon符号秩检验 PH 和 LLM\n",
        "wilcox_test_result_ph_llm <- wilcox.test(repair_effort_ph, repair_effort_llm, paired = TRUE)\n",
        "\n",
        "# 进行Wilcoxon符号秩检验 PI 和 LLM\n",
        "wilcox_test_result_pi_llm <- wilcox.test(repair_effort_pi, repair_effort_llm, paired = TRUE)\n",
        "\n",
        "# 显示结果\n",
        "wilcox_test_result_ph_pi\n",
        "wilcox_test_result_ph_llm\n",
        "wilcox_test_result_pi_llm\n",
        "\n",
        "# print(repair_effort_pi)\n",
        "\n",
        "# 计算样本大小，样本大小应为差异非零的样本数\n",
        "n_ph_pi <- sum(repair_effort_ph != be_friendly_pi)\n",
        "n_ph_llm <- sum(repair_effort_ph != repair_effort_llm)\n",
        "n_pi_llm <- sum(repair_effort_pi != repair_effort_llm)\n",
        "\n",
        "# 计算期望和标准差\n",
        "expected_T_ph_pi <- n_ph_pi * (n_ph_pi + 1) / 4\n",
        "sd_T_ph_pi <- sqrt(n_ph_pi * (n_ph_pi + 1) * (2 * n_ph_pi + 1) / 24)\n",
        "\n",
        "expected_T_ph_llm <- n_ph_llm * (n_ph_llm + 1) / 4\n",
        "sd_T_ph_llm <- sqrt(n_ph_llm * (n_ph_llm + 1) * (2 * n_ph_llm + 1) / 24)\n",
        "\n",
        "expected_T_pi_llm <- n_pi_llm * (n_pi_llm + 1) / 4\n",
        "sd_T_pi_llm <- sqrt(n_pi_llm * (n_pi_llm + 1) * (2 * n_pi_llm + 1) / 24)\n",
        "\n",
        "# 从wilcox.test结果中提取统计量T\n",
        "T_value_ph_pi <- wilcox_test_result_ph_pi$statistic\n",
        "T_value_ph_llm <- wilcox_test_result_ph_llm$statistic\n",
        "T_value_pi_llm <- wilcox_test_result_pi_llm$statistic\n",
        "\n",
        "# 计算Z值\n",
        "Z_value_ph_pi <- (T_value_ph_pi - expected_T_ph_pi) / sd_T_ph_pi\n",
        "Z_value_ph_llm <- (T_value_ph_llm - expected_T_ph_llm) / sd_T_ph_llm\n",
        "Z_value_pi_llm <- (T_value_pi_llm - expected_T_pi_llm) / sd_T_pi_llm\n",
        "\n",
        "# 打印Z值\n",
        "print(paste(\"Z value between PH and PI:\", Z_value_ph_pi))\n",
        "print(paste(\"Z value between PH and LLM:\", Z_value_ph_llm))\n",
        "print(paste(\"Z value between PI and LLM:\", Z_value_pi_llm))\n",
        "\n",
        "\n",
        "# 汇总统计信息\n",
        "summary_stats_ph <- summary(repair_effort_ph)\n",
        "summary_stats_pi <- summary(repair_effort_pi)\n",
        "summary_stats_llm <- summary(repair_effort_llm)\n",
        "\n",
        "# 计算并打印中位数、平均值和标准差\n",
        "median_ph <- median(repair_effort_ph)\n",
        "mean_ph <- mean(repair_effort_ph)\n",
        "sd_ph <- sd(repair_effort_ph)\n",
        "\n",
        "median_pi <- median(repair_effort_pi)\n",
        "mean_pi <- mean(repair_effort_pi)\n",
        "sd_pi <- sd(repair_effort_pi)\n",
        "\n",
        "median_llm <- median(repair_effort_llm)\n",
        "mean_llm <- mean(repair_effort_llm)\n",
        "sd_llm <- sd(repair_effort_llm)\n",
        "\n",
        "\n",
        "cat(\"Purported Human 的统计信息:\\n\")\n",
        "cat(\"Mean:\", mean_ph, \"\\n\")\n",
        "cat(\"Median:\", median_ph, \"\\n\")\n",
        "cat(\"SD:\", sd_ph, \"\\n\")\n",
        "\n",
        "cat(\"Purported Interpretable 的统计信息:\\n\")\n",
        "cat(\"Mean:\", mean_pi, \"\\n\")\n",
        "cat(\"Median:\", median_pi, \"\\n\")\n",
        "cat(\"SD:\", sd_pi, \"\\n\")\n",
        "\n",
        "cat(\"LLM 的统计信息:\\n\")\n",
        "cat(\"Mean:\", mean_llm,\"\\n\")\n",
        "cat(\"Median:\", median_llm, \"\\n\")\n",
        "cat(\"SD:\", sd_llm, \"\\n\\n\")\n"
      ]
    },
    {
      "cell_type": "markdown",
      "source": [
        "不分性别"
      ],
      "metadata": {
        "id": "eTPd_Q6_ej5S"
      }
    },
    {
      "cell_type": "code",
      "source": [
        "# 加载dplyr包\n",
        "library(dplyr)\n",
        "\n",
        "\n",
        "# 筛选出Model_type为Purported Human的Repair_Effort_Weighted值\n",
        "repair_effort_ph <- df %>% filter(Model_type == \"Purported Human\") %>% pull(Repair_Effort_Weighted)\n",
        "\n",
        "# 筛选出Model_type为Purported Interpretable的Repair_Effort值\n",
        "repair_effort_pi <- df %>% filter(Model_type == \"Purported Interpretable\") %>% pull(Repair_Effort_Weighted)\n",
        "\n",
        "# 筛选出Model_type为LLM的Repair_Effort值\n",
        "repair_effort_llm <- df %>% filter(Model_type == \"LLM\") %>% pull(Repair_Effort_Weighted)\n",
        "\n",
        "\n",
        "# 进行Wilcoxon符号秩检验 PH 和 PI\n",
        "wilcox_test_result_ph_pi <- wilcox.test(repair_effort_ph, repair_effort_pi, paired = TRUE)\n",
        "\n",
        "# 进行Wilcoxon符号秩检验 PH 和 LLM\n",
        "wilcox_test_result_ph_llm <- wilcox.test(repair_effort_ph, repair_effort_llm, paired = TRUE)\n",
        "\n",
        "# 进行Wilcoxon符号秩检验 PI 和 LLM\n",
        "wilcox_test_result_pi_llm <- wilcox.test(repair_effort_pi, repair_effort_llm, paired = TRUE)\n",
        "\n",
        "# 显示结果\n",
        "wilcox_test_result_ph_pi\n",
        "wilcox_test_result_ph_llm\n",
        "wilcox_test_result_pi_llm\n",
        "\n",
        "# print(repair_effort_pi)\n",
        "\n",
        "# 计算样本大小，样本大小应为差异非零的样本数\n",
        "n_ph_pi <- sum(repair_effort_ph != repair_effort_pi)\n",
        "n_ph_llm <- sum(repair_effort_ph != repair_effort_llm)\n",
        "n_pi_llm <- sum(repair_effort_pi != repair_effort_llm)\n",
        "\n",
        "# 计算期望和标准差\n",
        "expected_T_ph_pi <- n_ph_pi * (n_ph_pi + 1) / 4\n",
        "sd_T_ph_pi <- sqrt(n_ph_pi * (n_ph_pi + 1) * (2 * n_ph_pi + 1) / 24)\n",
        "\n",
        "expected_T_ph_llm <- n_ph_llm * (n_ph_llm + 1) / 4\n",
        "sd_T_ph_llm <- sqrt(n_ph_llm * (n_ph_llm + 1) * (2 * n_ph_llm + 1) / 24)\n",
        "\n",
        "expected_T_pi_llm <- n_pi_llm * (n_pi_llm + 1) / 4\n",
        "sd_T_pi_llm <- sqrt(n_pi_llm * (n_pi_llm + 1) * (2 * n_pi_llm + 1) / 24)\n",
        "\n",
        "# 从wilcox.test结果中提取统计量T\n",
        "T_value_ph_pi <- wilcox_test_result_ph_pi$statistic\n",
        "T_value_ph_llm <- wilcox_test_result_ph_llm$statistic\n",
        "T_value_pi_llm <- wilcox_test_result_pi_llm$statistic\n",
        "\n",
        "# 计算Z值\n",
        "Z_value_ph_pi <- (T_value_ph_pi - expected_T_ph_pi) / sd_T_ph_pi\n",
        "Z_value_ph_llm <- (T_value_ph_llm - expected_T_ph_llm) / sd_T_ph_llm\n",
        "Z_value_pi_llm <- (T_value_pi_llm - expected_T_pi_llm) / sd_T_pi_llm\n",
        "\n",
        "# 打印Z值\n",
        "print(paste(\"Z value between PH and PI:\", Z_value_ph_pi))\n",
        "print(paste(\"Z value between PH and LLM:\", Z_value_ph_llm))\n",
        "print(paste(\"Z value between PI and LLM:\", Z_value_pi_llm))\n",
        "\n",
        "\n",
        "# 汇总统计信息\n",
        "summary_stats_ph <- summary(repair_effort_ph)\n",
        "summary_stats_pi <- summary(repair_effort_pi)\n",
        "summary_stats_llm <- summary(repair_effort_llm)\n",
        "\n",
        "# 计算并打印中位数、平均值和标准差\n",
        "median_ph <- median(repair_effort_ph)\n",
        "mean_ph <- mean(repair_effort_ph)\n",
        "sd_ph <- sd(repair_effort_ph)\n",
        "\n",
        "median_pi <- median(repair_effort_pi)\n",
        "mean_pi <- mean(repair_effort_pi)\n",
        "sd_pi <- sd(repair_effort_pi)\n",
        "\n",
        "median_llm <- median(repair_effort_llm)\n",
        "mean_llm <- mean(repair_effort_llm)\n",
        "sd_llm <- sd(repair_effort_llm)\n",
        "\n",
        "\n",
        "cat(\"Purported Human 的统计信息:\\n\")\n",
        "cat(\"Mean:\", mean_ph, \"\\n\")\n",
        "cat(\"Median:\", median_ph, \"\\n\")\n",
        "cat(\"SD:\", sd_ph, \"\\n\")\n",
        "\n",
        "cat(\"Purported Interpretable 的统计信息:\\n\")\n",
        "cat(\"Mean:\", mean_pi, \"\\n\")\n",
        "cat(\"Median:\", median_pi, \"\\n\")\n",
        "cat(\"SD:\", sd_pi, \"\\n\")\n",
        "\n",
        "cat(\"LLM 的统计信息:\\n\")\n",
        "cat(\"Mean:\", mean_llm,\"\\n\")\n",
        "cat(\"Median:\", median_llm, \"\\n\")\n",
        "cat(\"SD:\", sd_llm, \"\\n\\n\")\n"
      ],
      "metadata": {
        "colab": {
          "base_uri": "https://localhost:8080/",
          "height": 595
        },
        "id": "MGZAgcW-ejqu",
        "outputId": "8be958e7-2944-4335-9245-56d4dfbce0f9"
      },
      "execution_count": null,
      "outputs": [
        {
          "output_type": "display_data",
          "data": {
            "text/plain": [
              "\n",
              "\tWilcoxon signed rank exact test\n",
              "\n",
              "data:  repair_effort_ph and repair_effort_pi\n",
              "V = 302, p-value = 0.1579\n",
              "alternative hypothesis: true location shift is not equal to 0\n"
            ]
          },
          "metadata": {}
        },
        {
          "output_type": "display_data",
          "data": {
            "text/plain": [
              "\n",
              "\tWilcoxon signed rank exact test\n",
              "\n",
              "data:  repair_effort_ph and repair_effort_llm\n",
              "V = 328, p-value = 0.04971\n",
              "alternative hypothesis: true location shift is not equal to 0\n"
            ]
          },
          "metadata": {}
        },
        {
          "output_type": "display_data",
          "data": {
            "text/plain": [
              "\n",
              "\tWilcoxon signed rank exact test\n",
              "\n",
              "data:  repair_effort_pi and repair_effort_llm\n",
              "V = 270, p-value = 0.4522\n",
              "alternative hypothesis: true location shift is not equal to 0\n"
            ]
          },
          "metadata": {}
        },
        {
          "output_type": "stream",
          "name": "stdout",
          "text": [
            "[1] \"Z value between PH and PI: 1.42949958516514\"\n",
            "[1] \"Z value between PH and LLM: 1.96427640839239\"\n",
            "[1] \"Z value between PI and LLM: 0.771312725808529\"\n",
            "Purported Human 的统计信息:\n",
            "Mean: 0.4660983 \n",
            "Median: 0.4503205 \n",
            "SD: 0.1054039 \n",
            "Purported Interpretable 的统计信息:\n",
            "Mean: 0.4165066 \n",
            "Median: 0.4109519 \n",
            "SD: 0.1389637 \n",
            "LLM 的统计信息:\n",
            "Mean: 0.400721 \n",
            "Median: 0.3822667 \n",
            "SD: 0.1552976 \n",
            "\n"
          ]
        }
      ]
    },
    {
      "cell_type": "code",
      "execution_count": null,
      "metadata": {
        "colab": {
          "base_uri": "https://localhost:8080/",
          "height": 343
        },
        "id": "ymLZd96NYpOq",
        "outputId": "d86e48c1-4043-4ed6-8fa0-0c4f8d11b620"
      },
      "outputs": [
        {
          "name": "stderr",
          "output_type": "stream",
          "text": [
            "\n",
            "Attaching package: ‘dplyr’\n",
            "\n",
            "\n",
            "The following objects are masked from ‘package:stats’:\n",
            "\n",
            "    filter, lag\n",
            "\n",
            "\n",
            "The following objects are masked from ‘package:base’:\n",
            "\n",
            "    intersect, setdiff, setequal, union\n",
            "\n",
            "\n"
          ]
        },
        {
          "ename": "ERROR",
          "evalue": "Error in library(ARTool): there is no package called ‘ARTool’\n",
          "output_type": "error",
          "traceback": [
            "Error in library(ARTool): there is no package called ‘ARTool’\nTraceback:\n",
            "1. library(ARTool)"
          ]
        }
      ],
      "source": [
        "# 加载包\n",
        "library(dplyr)\n",
        "library(ARTool)\n",
        "\n",
        "# 筛选出 Model_type 不为 Human 的数据\n",
        "non_human_data <- df %>%\n",
        "  filter(Model_type != \"Human\") %>%\n",
        "  mutate(across(c(Sex, Model_type), as.factor))  # 确保Sex和Model_type被转换为因子类型\n",
        "\n",
        "# 因变量列表\n",
        "dependent_vars <- c(\"Cooperate\", \"Switchs\", \"Time\", \"Be_Friendly\", \"Repair_Effort\")\n",
        "\n",
        "# 对每个因变量进行 ART ANOVA\n",
        "for (var in dependent_vars) {\n",
        "  # 检查变量是否为数值型，并确保没有NA值，若有NA值则进行处理（例如删除含NA的行）\n",
        "  if (all(is.numeric(non_human_data[[var]]), na.rm = TRUE)) {\n",
        "    # 使用 ARTool 进行排名转换\n",
        "    art_model <- art(non_human_data[[var]] ~ Sex * Model_type, data = non_human_data)\n",
        "\n",
        "    # 使用 aov 函数进行方差分析\n",
        "    art_aov <- anova(art_model)\n",
        "\n",
        "    print(paste(\"ART ANOVA result for\", var))\n",
        "    print(art_aov)\n",
        "  } else {\n",
        "    print(paste(var, \"is not numeric or contains NA values, and will be skipped.\"))\n",
        "  }\n",
        "}\n"
      ]
    },
    {
      "cell_type": "markdown",
      "metadata": {
        "id": "bKeW8hw9XI0X"
      },
      "source": [
        "    对每个因变量进行PERMANOVA检验看主效应和交互效应"
      ]
    },
    {
      "cell_type": "code",
      "execution_count": null,
      "metadata": {
        "colab": {
          "base_uri": "https://localhost:8080/"
        },
        "id": "VOql_0ExTLCZ",
        "outputId": "61f836db-1827-4065-f552-e7cd09b776ef"
      },
      "outputs": [
        {
          "name": "stdout",
          "output_type": "stream",
          "text": [
            "[1] \"PERMANova result for Cooperate\"\n",
            "Permutation test for adonis under reduced model\n",
            "Terms added sequentially (first to last)\n",
            "Permutation: free\n",
            "Number of permutations: 999\n",
            "\n",
            "adonis2(formula = distance_matrix ~ Sex * Model_type, data = non_human_data)\n",
            "               Df SumOfSqs      R2      F Pr(>F)   \n",
            "Sex             1     17.8 0.00404 0.3965  0.515   \n",
            "Model_type      2    204.9 0.04656 2.2848  0.118   \n",
            "Sex:Model_type  2    411.8 0.09357 4.5921  0.010 **\n",
            "Residual       84   3766.0 0.85583                 \n",
            "Total          89   4400.4 1.00000                 \n",
            "---\n",
            "Signif. codes:  0 ‘***’ 0.001 ‘**’ 0.01 ‘*’ 0.05 ‘.’ 0.1 ‘ ’ 1\n",
            "[1] \"PERMANova result for Switchs\"\n",
            "Permutation test for adonis under reduced model\n",
            "Terms added sequentially (first to last)\n",
            "Permutation: free\n",
            "Number of permutations: 999\n",
            "\n",
            "adonis2(formula = distance_matrix ~ Sex * Model_type, data = non_human_data)\n",
            "               Df SumOfSqs      R2      F Pr(>F)\n",
            "Sex             1    33.61 0.01652 1.4613  0.258\n",
            "Model_type      2    31.67 0.01557 0.6884  0.531\n",
            "Sex:Model_type  2    36.69 0.01804 0.7975  0.448\n",
            "Residual       84  1932.13 0.94987              \n",
            "Total          89  2034.10 1.00000              \n",
            "[1] \"Time is not numeric or contains NA values, and will be skipped.\"\n",
            "[1] \"PERMANova result for Be_Friendly\"\n",
            "Permutation test for adonis under reduced model\n",
            "Terms added sequentially (first to last)\n",
            "Permutation: free\n",
            "Number of permutations: 999\n",
            "\n",
            "adonis2(formula = distance_matrix ~ Sex * Model_type, data = non_human_data)\n",
            "               Df SumOfSqs      R2      F Pr(>F)  \n",
            "Sex             1  0.01003 0.00517 0.4951  0.479  \n",
            "Model_type      2  0.04909 0.02529 1.2121  0.311  \n",
            "Sex:Model_type  2  0.18080 0.09315 4.4641  0.019 *\n",
            "Residual       84  1.70107 0.87639                \n",
            "Total          89  1.94099 1.00000                \n",
            "---\n",
            "Signif. codes:  0 ‘***’ 0.001 ‘**’ 0.01 ‘*’ 0.05 ‘.’ 0.1 ‘ ’ 1\n",
            "[1] \"PERMANova result for Repair_Effort\"\n",
            "Permutation test for adonis under reduced model\n",
            "Terms added sequentially (first to last)\n",
            "Permutation: free\n",
            "Number of permutations: 999\n",
            "\n",
            "adonis2(formula = distance_matrix ~ Sex * Model_type, data = non_human_data)\n",
            "               Df SumOfSqs      R2      F Pr(>F)  \n",
            "Sex             1  0.01322 0.01084 1.0081  0.328  \n",
            "Model_type      2  0.09407 0.07714 3.5868  0.025 *\n",
            "Sex:Model_type  2  0.01063 0.00871 0.4051  0.676  \n",
            "Residual       84  1.10157 0.90330                \n",
            "Total          89  1.21949 1.00000                \n",
            "---\n",
            "Signif. codes:  0 ‘***’ 0.001 ‘**’ 0.01 ‘*’ 0.05 ‘.’ 0.1 ‘ ’ 1\n"
          ]
        }
      ],
      "source": [
        "# 加载包\n",
        "library(vegan)\n",
        "library(dplyr)\n",
        "\n",
        "# 筛选出 Model_type 不为 Human 的数据\n",
        "non_human_data <- df %>%\n",
        "  filter(Model_type != \"Human\") %>%\n",
        "  mutate(across(c(Sex, Model_type), as.factor))  # 确保Sex和Model_type被转换为因子类型\n",
        "\n",
        "# 因变量列表\n",
        "# dependent_vars <- c(\"Cooperate\", \"Switchs\", \"Time\", \"Be_Friendly\", \"Repair_Effort\", \"Be_Friendly_Weighted\", \"Repair_Effort_Weighted\")\n",
        "dependent_vars <- c(\"Cooperate\", \"Switchs\", \"Time\", \"Be_Friendly\", \"Repair_Effort\")\n",
        "\n",
        "# 对每个因变量进行 PERMANOVA\n",
        "for (var in dependent_vars) {\n",
        "  # 检查变量是否为数值型，并确保没有NA值，若有NA值则进行处理（例如删除含NA的行）\n",
        "  if (all(is.numeric(non_human_data[[var]]), na.rm = TRUE)) {\n",
        "    # 使用修改后的数据集 non_human_data\n",
        "    distance_matrix <- vegdist(non_human_data[, var, drop = FALSE], method = \"euclidean\")\n",
        "    adonis_result <- adonis2(distance_matrix ~ Sex * Model_type, data = non_human_data)\n",
        "    print(paste(\"PERMANova result for\", var))\n",
        "    print(adonis_result)\n",
        "  } else {\n",
        "    print(paste(var, \"is not numeric or contains NA values, and will be skipped.\"))\n",
        "  }\n",
        "}\n"
      ]
    },
    {
      "cell_type": "code",
      "execution_count": null,
      "metadata": {
        "colab": {
          "base_uri": "https://localhost:8080/",
          "height": 1000
        },
        "id": "c1biKmCmMxKS",
        "outputId": "dbf57e4c-6c73-46b4-c5c3-3c228885df98"
      },
      "outputs": [
        {
          "name": "stdout",
          "output_type": "stream",
          "text": [
            "[1] \"响应变量数据：\"\n",
            "\u001b[90m# A tibble: 6 × 8\u001b[39m\n",
            "  Cooperate Betrayal Earns Switchs Be_Friendly Repair_Effort\n",
            "      \u001b[3m\u001b[90m<dbl>\u001b[39m\u001b[23m    \u001b[3m\u001b[90m<dbl>\u001b[39m\u001b[23m \u001b[3m\u001b[90m<dbl>\u001b[39m\u001b[23m   \u001b[3m\u001b[90m<dbl>\u001b[39m\u001b[23m       \u001b[3m\u001b[90m<dbl>\u001b[39m\u001b[23m         \u001b[3m\u001b[90m<dbl>\u001b[39m\u001b[23m\n",
            "\u001b[90m1\u001b[39m        30       20   125      21       0.546         0.546\n",
            "\u001b[90m2\u001b[39m        34       16   125       9       0.417         0.5  \n",
            "\u001b[90m3\u001b[39m        26       24   114      19       0.389         0.5  \n",
            "\u001b[90m4\u001b[39m        32       18   129       7       0.273         0.318\n",
            "\u001b[90m5\u001b[39m        31       19   124      11       0.438         0.5  \n",
            "\u001b[90m6\u001b[39m        32       18   130      11       0.409         0.5  \n",
            "\u001b[90m# ℹ 2 more variables: Be_Friendly_Weighted <dbl>, Repair_Effort_Weighted <dbl>\u001b[39m\n",
            "[1] \"分组因子数据：\"\n",
            "\u001b[90m# A tibble: 6 × 2\u001b[39m\n",
            "  Sex   Model_type     \n",
            "  \u001b[3m\u001b[90m<fct>\u001b[39m\u001b[23m \u001b[3m\u001b[90m<fct>\u001b[39m\u001b[23m          \n",
            "\u001b[90m1\u001b[39m M     Purported Human\n",
            "\u001b[90m2\u001b[39m M     Purported Human\n",
            "\u001b[90m3\u001b[39m M     Purported Human\n",
            "\u001b[90m4\u001b[39m M     Purported Human\n",
            "\u001b[90m5\u001b[39m M     Purported Human\n",
            "\u001b[90m6\u001b[39m M     Purported Human\n",
            "[1] \"距离矩阵：\"\n",
            "         1         2        3         4         5\n",
            "1  0.00000 13.267892 12.53103 14.838310 10.150279\n",
            "2 13.26789  0.000000 18.68200  5.298306  4.795991\n",
            "3 12.53103 18.682000  0.00000 21.002174 14.629270\n",
            "4 14.83831  5.298306 21.00217  0.000000  6.564165\n",
            "5 10.15028  4.795991 14.62927  6.564165  0.000000\n",
            "[1] \"PERMANOVA分析结果：\"\n",
            "Permutation test for adonis under reduced model\n",
            "Terms added sequentially (first to last)\n",
            "Permutation: free\n",
            "Number of permutations: 999\n",
            "\n",
            "adonis2(formula = distance_matrix_non_human ~ Sex + Model_type, data = grouping_factors_non_human)\n",
            "           Df SumOfSqs      R2      F Pr(>F)\n",
            "Sex         1    112.8 0.00405 0.3653  0.697\n",
            "Model_type  2   1149.1 0.04129 1.8600  0.131\n",
            "Residual   86  26565.8 0.95465              \n",
            "Total      89  27827.7 1.00000              \n",
            "Run 0 stress 0.07166186 \n",
            "Run 1 stress 0.07360236 \n",
            "Run 2 stress 0.1058776 \n",
            "Run 3 stress 0.07360243 \n",
            "Run 4 stress 0.07166181 \n",
            "... New best solution\n",
            "... Procrustes: rmse 4.653206e-05  max resid 0.0002270029 \n",
            "... Similar to previous best\n",
            "Run 5 stress 0.07166182 \n",
            "... Procrustes: rmse 9.827356e-06  max resid 8.25178e-05 \n",
            "... Similar to previous best\n",
            "Run 6 stress 0.1067803 \n",
            "Run 7 stress 0.07360232 \n",
            "Run 8 stress 0.0716618 \n",
            "... New best solution\n",
            "... Procrustes: rmse 2.67666e-05  max resid 0.0002342833 \n",
            "... Similar to previous best\n",
            "Run 9 stress 0.07166184 \n",
            "... Procrustes: rmse 4.711047e-05  max resid 0.0004134961 \n",
            "... Similar to previous best\n",
            "Run 10 stress 0.1472057 \n",
            "Run 11 stress 0.07166181 \n",
            "... Procrustes: rmse 2.435305e-05  max resid 0.0002002511 \n",
            "... Similar to previous best\n",
            "Run 12 stress 0.07360232 \n",
            "Run 13 stress 0.07166187 \n",
            "... Procrustes: rmse 5.908306e-05  max resid 0.0005091647 \n",
            "... Similar to previous best\n",
            "Run 14 stress 0.07360233 \n",
            "Run 15 stress 0.07166189 \n",
            "... Procrustes: rmse 6.536771e-05  max resid 0.0005643021 \n",
            "... Similar to previous best\n",
            "Run 16 stress 0.07166185 \n",
            "... Procrustes: rmse 5.287663e-05  max resid 0.000459345 \n",
            "... Similar to previous best\n",
            "Run 17 stress 0.07166192 \n",
            "... Procrustes: rmse 7.320375e-05  max resid 0.0006311819 \n",
            "... Similar to previous best\n",
            "Run 18 stress 0.07332008 \n",
            "Run 19 stress 0.07166189 \n",
            "... Procrustes: rmse 6.688861e-05  max resid 0.0005757835 \n",
            "... Similar to previous best\n",
            "Run 20 stress 0.07332011 \n",
            "*** Best solution repeated 8 times\n",
            "[1] \"MDS分析结果：\"\n",
            "\n",
            "Call:\n",
            "metaMDS(comm = distance_matrix_non_human) \n",
            "\n",
            "global Multidimensional Scaling using monoMDS\n",
            "\n",
            "Data:     distance_matrix_non_human \n",
            "Distance: euclidean \n",
            "\n",
            "Dimensions: 2 \n",
            "Stress:     0.0716618 \n",
            "Stress type 1, weak ties\n",
            "Best solution was repeated 8 times in 20 tries\n",
            "The best solution was from try 8 (random start)\n",
            "Scaling: centring, PC rotation \n",
            "Species: scores missing\n",
            "\n"
          ]
        },
        {
          "name": "stderr",
          "output_type": "stream",
          "text": [
            "species scores not available\n",
            "\n"
          ]
        },
        {
          "data": {
            "image/png": "[encoded data removed]",
            "text/plain": [
              "plot without title"
            ]
          },
          "metadata": {
            "image/png": {
              "height": 420,
              "width": 420
            }
          },
          "output_type": "display_data"
        }
      ],
      "source": [
        "# 安装并加载必要的R包\n",
        "if (!require(\"dplyr\")) install.packages(\"dplyr\")\n",
        "if (!require(\"vegan\")) install.packages(\"vegan\")\n",
        "library(dplyr)\n",
        "library(vegan)\n",
        "\n",
        "# 假设已经将数据读入到R中的数据框名为df\n",
        "# df <- read.csv(\"your_data.csv\")\n",
        "\n",
        "# 筛选出 Model_type 不为 Human 的数据\n",
        "non_human_data <- df %>% filter(Model_type != \"Human\")\n",
        "\n",
        "# 提取响应变量\n",
        "response_data_non_human <- non_human_data[, c(\"Cooperate\", \"Betrayal\", \"Earns\", \"Switchs\", \"Be_Friendly\", \"Repair_Effort\", \"Be_Friendly_Weighted\", \"Repair_Effort_Weighted\")]\n",
        "\n",
        "# 打印响应变量数据\n",
        "print(\"响应变量数据：\")\n",
        "print(head(response_data_non_human))\n",
        "\n",
        "# 提取分组因子\n",
        "grouping_factors_non_human <- non_human_data[, c(\"Sex\", \"Model_type\")]\n",
        "\n",
        "# 打印分组因子数据\n",
        "print(\"分组因子数据：\")\n",
        "print(head(grouping_factors_non_human))\n",
        "\n",
        "# 计算距离矩阵\n",
        "distance_matrix_non_human <- vegdist(response_data_non_human, method = \"euclidean\")\n",
        "\n",
        "# 打印距离矩阵\n",
        "print(\"距离矩阵：\")\n",
        "print(as.matrix(distance_matrix_non_human)[1:5, 1:5]) # 打印前5行和5列\n",
        "\n",
        "# 进行PERMANOVA分析\n",
        "permanova_result_non_human <- adonis2(distance_matrix_non_human ~ Sex + Model_type, data = grouping_factors_non_human)\n",
        "\n",
        "# 打印PERMANOVA结果\n",
        "print(\"PERMANOVA分析结果：\")\n",
        "print(permanova_result_non_human)\n",
        "\n",
        "# 进行MDS分析\n",
        "mds_result_non_human <- metaMDS(distance_matrix_non_human)\n",
        "\n",
        "# 打印MDS分析结果\n",
        "print(\"MDS分析结果：\")\n",
        "print(mds_result_non_human)\n",
        "\n",
        "# 可视化MDS结果\n",
        "plot(mds_result_non_human, type = \"t\")\n",
        "\n",
        "# 使用不同的颜色和形状来表示不同的 Sex 和 Model_type\n",
        "sex_types <- as.factor(non_human_data$Sex)\n",
        "model_types <- as.factor(non_human_data$Model_type)\n",
        "colors <- c(\"blue\", \"red\")\n",
        "shapes <- c(19, 17)\n",
        "\n",
        "# 绘制点\n",
        "for (i in 1:length(levels(sex_types))) {\n",
        "  for (j in 1:length(levels(model_types))) {\n",
        "    indices <- which(sex_types == levels(sex_types)[i] & model_types == levels(model_types)[j])\n",
        "    points(mds_result_non_human$points[indices, ], col = colors[i], pch = shapes[j])\n",
        "  }\n",
        "}\n",
        "\n",
        "# 添加图例\n",
        "legend(\"topright\", legend = paste(levels(sex_types), levels(model_types)), col = rep(colors, each = length(levels(model_types))), pch = rep(shapes, times = length(levels(sex_types))))\n"
      ]
    },
    {
      "cell_type": "markdown",
      "metadata": {
        "id": "wHLeK5Vbdx3A"
      },
      "source": [
        "    2.检查数据的呈现结果是否正态分布，是为了确定后面的统计方法的选择"
      ]
    },
    {
      "cell_type": "code",
      "execution_count": null,
      "metadata": {
        "colab": {
          "base_uri": "https://localhost:8080/"
        },
        "collapsed": true,
        "id": "siWQq5Xsc-Rd",
        "outputId": "0d7fc1a8-f541-41c8-b349-fe1227ca8b7a"
      },
      "outputs": [
        {
          "name": "stdout",
          "output_type": "stream",
          "text": [
            "Shapiro-Wilk test for Age :\n",
            "Statistic= 0.9000049 , p-value= 1.963474e-07 \n",
            "Result: 非正态分布\n",
            "\n",
            "Shapiro-Wilk test for Cooperate :\n",
            "Statistic= 0.9762576 , p-value= 0.03207964 \n",
            "Result: 非正态分布\n",
            "\n",
            "Shapiro-Wilk test for Betrayal :\n",
            "Statistic= 0.9761359 , p-value= 0.03126407 \n",
            "Result: 非正态分布\n",
            "\n",
            "Shapiro-Wilk test for Earns :\n",
            "Statistic= 0.9840708 , p-value= 0.1693067 \n",
            "Result: 正态分布\n",
            "\n",
            "Shapiro-Wilk test for Switchs :\n",
            "Statistic= 0.9844407 , p-value= 0.1829276 \n",
            "Result: 正态分布\n",
            "\n",
            "Shapiro-Wilk test for Be_Friendly :\n",
            "Statistic= 0.9536519 , p-value= 0.000404462 \n",
            "Result: 非正态分布\n",
            "\n",
            "Shapiro-Wilk test for Repair_Effort :\n",
            "Statistic= 0.9169492 , p-value= 1.608219e-06 \n",
            "Result: 非正态分布\n",
            "\n",
            "Shapiro-Wilk test for Be_Friendly_Weighted :\n",
            "Statistic= 0.970273 , p-value= 0.009268753 \n",
            "Result: 非正态分布\n",
            "\n",
            "Shapiro-Wilk test for Repair_Effort_Weighted :\n",
            "Statistic= 0.9295779 , p-value= 9.057254e-06 \n",
            "Result: 非正态分布\n",
            "\n"
          ]
        }
      ],
      "source": [
        "\n",
        "# 加载必要的包\n",
        "library(stats)\n",
        "\n",
        "# 假设 df 是你的数据框\n",
        "# numeric_columns <- sapply(df, is.numeric)\n",
        "\n",
        "# 你想跳过检查的列名\n",
        "exclude_columns <- c(\"Time\")\n",
        "\n",
        "# 筛选出需要进行Shapiro-Wilk检验的列名\n",
        "columns_to_check <- setdiff(names(df)[sapply(df, is.numeric)], exclude_columns)\n",
        "\n",
        "# 对每个数值列进行Shapiro-Wilk检验，并打印是否符合正态分布\n",
        "for (column in columns_to_check) {\n",
        "  test_result <- shapiro.test(df[[column]])\n",
        "  cat('Shapiro-Wilk test for', column, ':\\n')\n",
        "  cat('Statistic=', test_result$statistic, ', p-value=', test_result$p.value, '\\n')\n",
        "\n",
        "  if (test_result$p.value > 0.05) {\n",
        "    cat('Result: 正态分布\\n\\n')\n",
        "  } else {\n",
        "    cat('Result: 非正态分布\\n\\n')\n",
        "  }\n",
        "}\n"
      ]
    },
    {
      "cell_type": "markdown",
      "metadata": {
        "id": "LG4jkMAbtvxU"
      },
      "source": [
        "    3.PERMANOVA 性别主效应（M vs F）对几个因变量的综合影响是否显著？\n",
        "\n",
        "    1. Df：自由度（Degrees of Freedom）\n",
        "    2. SumOfSqs：平方和（Sum of Squares）\n",
        "    3. R2：决定系数（R-squared），表示各个因子对总变异的解释比例\n",
        "    4. F值\n",
        "    5. Pr(>F)：p值，表示在置换检验中的统计显著性\n"
      ]
    },
    {
      "cell_type": "code",
      "execution_count": null,
      "metadata": {
        "colab": {
          "base_uri": "https://localhost:8080/"
        },
        "collapsed": true,
        "id": "gr8-d5TQkdCc",
        "outputId": "7178b3f5-508e-4ef1-907d-5e642da874f1"
      },
      "outputs": [
        {
          "name": "stdout",
          "output_type": "stream",
          "text": [
            "Permutation test for adonis under reduced model\n",
            "Terms added sequentially (first to last)\n",
            "Permutation: free\n",
            "Number of permutations: 999\n",
            "\n",
            "adonis2(formula = dist_matrix ~ Sex, data = df, permutations = 999)\n",
            "          Df SumOfSqs      R2      F Pr(>F)\n",
            "Sex        1     57.8 0.00401 0.4749   0.57\n",
            "Residual 118  14354.4 0.99599              \n",
            "Total    119  14412.1 1.00000              \n"
          ]
        }
      ],
      "source": [
        "# 设置随机种子\n",
        "set.seed(100)  # 1234是一个任意选定的种子，你可以选择任何整数\n",
        "\n",
        "# 提取自变量\n",
        "variables <- df[, c('Cooperate', 'Switchs', 'Be_Friendly', 'Repair_Effort', 'Be_Friendly_Weighted', 'Repair_Effort_Weighted')]\n",
        "\n",
        "# 计算距离矩阵\n",
        "dist_matrix <- vegdist(variables, method = 'euclidean')\n",
        "\n",
        "# 进行PERMANOVA分析\n",
        "result <- adonis2(dist_matrix ~ Sex, data = df, permutations = 999)\n",
        "\n",
        "# 打印结果\n",
        "print(result)"
      ]
    },
    {
      "cell_type": "markdown",
      "metadata": {
        "id": "A4HtRZzNvgUv"
      },
      "source": [
        "    4.PERMANOVA 主效应Model_type（PH vs PI vs LLM vs H）对几个因变量的综合影响是否显著？"
      ]
    },
    {
      "cell_type": "code",
      "execution_count": null,
      "metadata": {
        "colab": {
          "base_uri": "https://localhost:8080/"
        },
        "collapsed": true,
        "id": "Jc05jnZXnVIM",
        "outputId": "b35209c8-cc59-4171-89bf-8b320c430ee4"
      },
      "outputs": [
        {
          "name": "stdout",
          "output_type": "stream",
          "text": [
            "Permutation test for adonis under reduced model\n",
            "Terms added sequentially (first to last)\n",
            "Permutation: free\n",
            "Number of permutations: 999\n",
            "\n",
            "adonis2(formula = dist_matrix ~ Model_type, data = df, permutations = 999)\n",
            "            Df SumOfSqs      R2      F Pr(>F)    \n",
            "Model_type   3   3164.6 0.21958 10.879  0.001 ***\n",
            "Residual   116  11247.6 0.78042                  \n",
            "Total      119  14412.1 1.00000                  \n",
            "---\n",
            "Signif. codes:  0 ‘***’ 0.001 ‘**’ 0.01 ‘*’ 0.05 ‘.’ 0.1 ‘ ’ 1\n"
          ]
        }
      ],
      "source": [
        "# 设置随机种子\n",
        "set.seed(100)  # 1234是一个任意选定的种子，你可以选择任何整数\n",
        "\n",
        "# 提取自变量\n",
        "variables <- df[, c('Cooperate', 'Switchs', 'Be_Friendly', 'Repair_Effort', 'Be_Friendly_Weighted', 'Repair_Effort_Weighted')]\n",
        "\n",
        "# 计算距离矩阵\n",
        "dist_matrix <- vegdist(variables, method = 'euclidean')\n",
        "\n",
        "# 进行PERMANOVA分析\n",
        "result <- adonis2(dist_matrix ~ Model_type, data = df, permutations = 999)\n",
        "\n",
        "# 打印结果\n",
        "print(result)"
      ]
    },
    {
      "cell_type": "markdown",
      "metadata": {
        "id": "giD8KOxcwpR7"
      },
      "source": [
        "    5.PERMANOVA 交互效应\n",
        "\n",
        "\n",
        "\n",
        "\n"
      ]
    },
    {
      "cell_type": "code",
      "execution_count": null,
      "metadata": {
        "colab": {
          "base_uri": "https://localhost:8080/"
        },
        "collapsed": true,
        "id": "b9ojeYhpq57s",
        "outputId": "a0476acb-9a36-4a24-e9dd-fe96af2f5de2"
      },
      "outputs": [
        {
          "name": "stdout",
          "output_type": "stream",
          "text": [
            "Permutation test for adonis under reduced model\n",
            "Terms added sequentially (first to last)\n",
            "Permutation: free\n",
            "Number of permutations: 999\n",
            "\n",
            "adonis2(formula = dist_matrix ~ Sex * Model_type, data = df, permutations = 999)\n",
            "                Df SumOfSqs      R2       F Pr(>F)    \n",
            "Sex              1     57.8 0.00401  0.6025  0.492    \n",
            "Model_type       3   3164.6 0.21958 11.0010  0.001 ***\n",
            "Sex:Model_type   3    450.4 0.03125  1.5658  0.172    \n",
            "Residual       112  10739.4 0.74516                   \n",
            "Total          119  14412.1 1.00000                   \n",
            "---\n",
            "Signif. codes:  0 ‘***’ 0.001 ‘**’ 0.01 ‘*’ 0.05 ‘.’ 0.1 ‘ ’ 1\n"
          ]
        }
      ],
      "source": [
        "# 设置随机数种子，以保证结果可重复\n",
        "set.seed(100)\n",
        "\n",
        "# 从数据框 df 中选择特定的列，构建数据矩阵\n",
        "data_matrix <- df[, c(\"Cooperate\", \"Switchs\", \"Be_Friendly\", \"Repair_Effort\", \"Be_Friendly_Weighted\", \"Repair_Effort_Weighted\")]\n",
        "\n",
        "# 基于欧氏距离计算距离矩阵\n",
        "dist_matrix <- vegdist(data_matrix, method = \"euclidean\")\n",
        "\n",
        "# 进行 PERMANOVA 分析，探讨 Sex 和 Model_type 以及它们的交互作用对距离矩阵的影响\n",
        "result <- adonis2(dist_matrix ~ Sex * Model_type, data = df, permutations = 999)\n",
        "\n",
        "# 输出 PERMANOVA 结果\n",
        "print(result)"
      ]
    },
    {
      "cell_type": "markdown",
      "metadata": {
        "id": "YCi_41WdyREm"
      },
      "source": [
        "    6. 接下来要进行单一性别在不同Model_type时是否有显著差异。\n",
        "\n",
        "    6.1 男 PERMANOVA 一个自变量（model_type）和多个响应变量"
      ]
    },
    {
      "cell_type": "code",
      "execution_count": null,
      "metadata": {
        "colab": {
          "base_uri": "https://localhost:8080/"
        },
        "collapsed": true,
        "id": "nqyTg04ZyQKy",
        "outputId": "ff0237be-fcd9-43fc-831a-bbb21a8bd0a6"
      },
      "outputs": [
        {
          "name": "stdout",
          "output_type": "stream",
          "text": [
            "Permutation test for adonis under reduced model\n",
            "Terms added sequentially (first to last)\n",
            "Permutation: free\n",
            "Number of permutations: 999\n",
            "\n",
            "adonis2(formula = distance_matrix ~ df_male$Model_type, permutations = 999)\n",
            "                   Df SumOfSqs      R2      F Pr(>F)    \n",
            "df_male$Model_type  3   1909.0 0.28528 7.4507  0.001 ***\n",
            "Residual           56   4782.7 0.71472                  \n",
            "Total              59   6691.7 1.00000                  \n",
            "---\n",
            "Signif. codes:  0 ‘***’ 0.001 ‘**’ 0.01 ‘*’ 0.05 ‘.’ 0.1 ‘ ’ 1\n"
          ]
        }
      ],
      "source": [
        "# 筛选性别为 \"M\" 的数据\n",
        "df_male <- subset(df, Sex == \"M\")\n",
        "\n",
        "# 提取因变量矩阵\n",
        "response_matrix <- as.matrix(df_male[, c(\"Cooperate\", \"Switchs\", \"Be_Friendly\", \"Repair_Effort\", \"Be_Friendly_Weighted\", \"Repair_Effort_Weighted\")])\n",
        "\n",
        "# 计算距离矩阵\n",
        "distance_matrix <- vegdist(response_matrix, method = \"euclidean\")\n",
        "\n",
        "# 进行 PERMANOVA 测试\n",
        "permanova_results <- adonis2(distance_matrix ~ df_male$Model_type, permutations = 999)\n",
        "\n",
        "# 查看结果\n",
        "print(permanova_results)"
      ]
    },
    {
      "cell_type": "markdown",
      "metadata": {
        "id": "pc4pBRch-wgf"
      },
      "source": [
        "    6.2 男 Wilcoxon Signed Rank Test 组中的不同Model_type两两比较Coopertate时的显著差异, 关联样本，一个自变量，一个响应变量\n"
      ]
    },
    {
      "cell_type": "code",
      "execution_count": null,
      "metadata": {
        "colab": {
          "base_uri": "https://localhost:8080/"
        },
        "collapsed": true,
        "id": "7MRN43uY-w4p",
        "outputId": "f0a0c5a3-7c2f-4d05-8d84-89609102f64d"
      },
      "outputs": [
        {
          "name": "stdout",
          "output_type": "stream",
          "text": [
            "Wilcoxon Signed-Rank Test Results:\n",
            "-----------------------------------\n",
            "\n",
            "Comparison: Human vs LLM \n",
            "W statistic: 107.5 \n",
            "P-value: 0.007574 \n",
            "-----------------------------------\n",
            "\n",
            "Comparison: Human vs Purported Human \n",
            "W statistic: 104 \n",
            "P-value: 0.01343 \n",
            "-----------------------------------\n",
            "\n",
            "Comparison: Human vs Purported Interpretable \n",
            "W statistic: 109.5 \n",
            "P-value: 0.00533 \n",
            "-----------------------------------\n",
            "\n",
            "Comparison: LLM vs Purported Human \n",
            "W statistic: 25 \n",
            "P-value: 0.04946 \n",
            "-----------------------------------\n",
            "\n",
            "Comparison: LLM vs Purported Interpretable \n",
            "W statistic: 97.5 \n",
            "P-value: 0.03501 \n",
            "-----------------------------------\n",
            "\n",
            "Comparison: Purported Human vs Purported Interpretable \n",
            "W statistic: 104 \n",
            "P-value: 0.001348 \n",
            "-----------------------------------\n"
          ]
        }
      ],
      "source": [
        "library(dplyr)\n",
        "\n",
        "# 过滤出性别为M的数据\n",
        "data_male <- df %>% filter(Sex == \"M\")\n",
        "\n",
        "# 确保 Model_type 列是因子类型（如果不是的话）\n",
        "data_male$Model_type <- as.factor(data_male$Model_type)\n",
        "\n",
        "# 按照 model_type 对数据进行分类\n",
        "data_model_types <- split(data_male, data_male$Model_type)\n",
        "\n",
        "# 获取所有的 model_type\n",
        "model_types <- names(data_model_types)\n",
        "\n",
        "# 创建一个空列表来存储结果\n",
        "results <- list()\n",
        "\n",
        "# 两两比较\n",
        "for (i in 1:(length(model_types) - 1)) {\n",
        "  for (j in (i + 1):length(model_types)) {\n",
        "    type1 <- model_types[i]\n",
        "    type2 <- model_types[j]\n",
        "\n",
        "    # 提取对应的 Cooperate 数据\n",
        "    cooperate1 <- data_model_types[[type1]]$Cooperate\n",
        "    cooperate2 <- data_model_types[[type2]]$Cooperate\n",
        "\n",
        "    # 进行 Wilcoxon Signed-Rank Test，使用近似 p 值\n",
        "    test_result <- wilcox.test(cooperate1, cooperate2, paired = TRUE, exact = FALSE)\n",
        "\n",
        "    # 将结果存储在列表中\n",
        "    results[[paste(type1, \"vs\", type2)]] <- test_result\n",
        "  }\n",
        "}\n",
        "\n",
        "# 打印结果的简洁格式，以便更容易解释\n",
        "cat(\"Wilcoxon Signed-Rank Test Results:\\n\")\n",
        "cat(\"-----------------------------------\\n\")\n",
        "for (comparison in names(results)) {\n",
        "  test_result <- results[[comparison]]\n",
        "  cat(\"\\nComparison:\", comparison,\n",
        "      \"\\nW statistic:\", test_result$statistic,\n",
        "      \"\\nP-value:\", format.pval(test_result$p.value, digits = 4), \"\\n\")\n",
        "  cat(\"-----------------------------------\\n\")\n",
        "}\n"
      ]
    },
    {
      "cell_type": "markdown",
      "metadata": {
        "id": "oi7C4mw2M46J"
      },
      "source": [
        "    6.3 男 Wilcoxon Signed Rank Test 组中的不同Model_type两两比较Befriednly时的显著差异, 关联样本，一个自变量，一个响应变量\n"
      ]
    },
    {
      "cell_type": "code",
      "execution_count": null,
      "metadata": {
        "colab": {
          "base_uri": "https://localhost:8080/"
        },
        "collapsed": true,
        "id": "LuYQtD11M5ES",
        "outputId": "8632e653-0097-41f7-f1df-3ec7c04f682a"
      },
      "outputs": [
        {
          "name": "stderr",
          "output_type": "stream",
          "text": [
            "Warning message in wilcox.test.default(be_friendly1, be_friendly2, paired = TRUE, :\n",
            "“cannot compute exact p-value with zeroes”\n"
          ]
        },
        {
          "name": "stdout",
          "output_type": "stream",
          "text": [
            "Wilcoxon Signed-Rank Test Results:\n",
            "-----------------------------------\n",
            "\n",
            "Comparison: Human vs LLM \n",
            "W statistic: 47 \n",
            "P-value: 0.4887 \n",
            "-----------------------------------\n",
            "\n",
            "Comparison: Human vs Purported Human \n",
            "W statistic: 32 \n",
            "P-value: 0.1205 \n",
            "-----------------------------------\n",
            "\n",
            "Comparison: Human vs Purported Interpretable \n",
            "W statistic: 47 \n",
            "P-value: 0.7536 \n",
            "-----------------------------------\n",
            "\n",
            "Comparison: LLM vs Purported Human \n",
            "W statistic: 35 \n",
            "P-value: 0.1688 \n",
            "-----------------------------------\n",
            "\n",
            "Comparison: LLM vs Purported Interpretable \n",
            "W statistic: 79 \n",
            "P-value: 0.3028 \n",
            "-----------------------------------\n",
            "\n",
            "Comparison: Purported Human vs Purported Interpretable \n",
            "W statistic: 95 \n",
            "P-value: 0.04791 \n",
            "-----------------------------------\n"
          ]
        }
      ],
      "source": [
        "library(dplyr)\n",
        "\n",
        "# 过滤出性别为M的数据\n",
        "data_male <- df %>% filter(Sex == \"M\")\n",
        "\n",
        "# 确保 Model_type 列是因子类型（如果不是的话）\n",
        "data_male$Model_type <- as.factor(data_male$Model_type)\n",
        "\n",
        "# 按照 model_type 对数据进行分类\n",
        "data_model_types <- split(data_male, data_male$Model_type)\n",
        "\n",
        "# 获取所有的 model_type\n",
        "model_types <- names(data_model_types)\n",
        "\n",
        "# 创建一个空列表来存储结果\n",
        "results <- list()\n",
        "\n",
        "# 两两比较\n",
        "for (i in 1:(length(model_types) - 1)) {\n",
        "  for (j in (i + 1):length(model_types)) {\n",
        "    type1 <- model_types[i]\n",
        "    type2 <- model_types[j]\n",
        "\n",
        "    # 提取对应的 Cooperate 数据\n",
        "    be_friendly1 <- data_model_types[[type1]]$Be_Friendly\n",
        "    be_friendly2 <- data_model_types[[type2]]$Be_Friendly\n",
        "\n",
        "    # 进行 Wilcoxon Signed-Rank Test，使用近似 p 值\n",
        "    test_result <- wilcox.test(be_friendly1, be_friendly2, paired = TRUE, exact = TRUE)\n",
        "\n",
        "    # 将结果存储在列表中\n",
        "    results[[paste(type1, \"vs\", type2)]] <- test_result\n",
        "  }\n",
        "}\n",
        "\n",
        "# 打印结果的简洁格式，以便更容易解释\n",
        "cat(\"Wilcoxon Signed-Rank Test Results:\\n\")\n",
        "cat(\"-----------------------------------\\n\")\n",
        "for (comparison in names(results)) {\n",
        "  test_result <- results[[comparison]]\n",
        "  cat(\"\\nComparison:\", comparison,\n",
        "      \"\\nW statistic:\", test_result$statistic,\n",
        "      \"\\nP-value:\", format.pval(test_result$p.value, digits = 4), \"\\n\")\n",
        "  cat(\"-----------------------------------\\n\")\n",
        "}\n"
      ]
    },
    {
      "cell_type": "markdown",
      "metadata": {
        "id": "pfvzHWZCS7q_"
      },
      "source": [
        "    6.4 男 Wilcoxon Signed Rank Test 组中的不同Model_type两两比较Repair_Effort时的显著差异, 关联样本，一个自变量，一个响应变量"
      ]
    },
    {
      "cell_type": "code",
      "execution_count": null,
      "metadata": {
        "colab": {
          "base_uri": "https://localhost:8080/"
        },
        "collapsed": true,
        "id": "cIGuygOlOq4p",
        "outputId": "b8ad826f-6aa8-4e2a-d4cb-298429ce93df"
      },
      "outputs": [
        {
          "name": "stdout",
          "output_type": "stream",
          "text": [
            "Wilcoxon Signed-Rank Test Results:\n",
            "-----------------------------------\n",
            "\n",
            "Comparison: Human vs LLM \n",
            "W statistic: 53 \n",
            "P-value: 0.712 \n",
            "-----------------------------------\n",
            "\n",
            "Comparison: Human vs Purported Human \n",
            "W statistic: 24 \n",
            "P-value: 0.07879 \n",
            "-----------------------------------\n",
            "\n",
            "Comparison: Human vs Purported Interpretable \n",
            "W statistic: 35 \n",
            "P-value: 0.2859 \n",
            "-----------------------------------\n",
            "\n",
            "Comparison: LLM vs Purported Human \n",
            "W statistic: 16 \n",
            "P-value: 0.01347 \n",
            "-----------------------------------\n",
            "\n",
            "Comparison: LLM vs Purported Interpretable \n",
            "W statistic: 37 \n",
            "P-value: 0.3464 \n",
            "-----------------------------------\n",
            "\n",
            "Comparison: Purported Human vs Purported Interpretable \n",
            "W statistic: 89 \n",
            "P-value: 0.1055 \n",
            "-----------------------------------\n"
          ]
        }
      ],
      "source": [
        "library(dplyr)\n",
        "\n",
        "# 过滤出性别为M的数据\n",
        "data_male <- df %>% filter(Sex == \"M\")\n",
        "\n",
        "# 确保 Model_type 列是因子类型（如果不是的话）\n",
        "data_male$Model_type <- as.factor(data_male$Model_type)\n",
        "\n",
        "# 按照 model_type 对数据进行分类\n",
        "data_model_types <- split(data_male, data_male$Model_type)\n",
        "\n",
        "# 获取所有的 model_type\n",
        "model_types <- names(data_model_types)\n",
        "\n",
        "# 创建一个空列表来存储结果\n",
        "results <- list()\n",
        "\n",
        "# 两两比较\n",
        "for (i in 1:(length(model_types) - 1)) {\n",
        "  for (j in (i + 1):length(model_types)) {\n",
        "    type1 <- model_types[i]\n",
        "    type2 <- model_types[j]\n",
        "\n",
        "    # 提取对应的 Cooperate 数据\n",
        "    repair_effort1 <- data_model_types[[type1]]$Repair_Effort\n",
        "    repair_effort2 <- data_model_types[[type2]]$Repair_Effort\n",
        "\n",
        "    # 进行 Wilcoxon Signed-Rank Test，使用近似 p 值\n",
        "    test_result <- wilcox.test(repair_effort1, repair_effort2, paired = TRUE, exact = FALSE)\n",
        "\n",
        "    # 将结果存储在列表中\n",
        "    results[[paste(type1, \"vs\", type2)]] <- test_result\n",
        "  }\n",
        "}\n",
        "\n",
        "# 打印结果的简洁格式，以便更容易解释\n",
        "cat(\"Wilcoxon Signed-Rank Test Results:\\n\")\n",
        "cat(\"-----------------------------------\\n\")\n",
        "for (comparison in names(results)) {\n",
        "  test_result <- results[[comparison]]\n",
        "  cat(\"\\nComparison:\", comparison,\n",
        "      \"\\nW statistic:\", test_result$statistic,\n",
        "      \"\\nP-value:\", format.pval(test_result$p.value, digits = 4), \"\\n\")\n",
        "  cat(\"-----------------------------------\\n\")\n",
        "}\n"
      ]
    },
    {
      "cell_type": "markdown",
      "metadata": {
        "id": "rJx-upZ2TH9K"
      },
      "source": [
        "    6.5 男 Wilcoxon Signed Rank Test 组中的不同Model_type两两比较befiriendly_weighted时的显著差异, 关联样本，一个自变量，一个响应变量"
      ]
    },
    {
      "cell_type": "code",
      "execution_count": null,
      "metadata": {
        "colab": {
          "base_uri": "https://localhost:8080/"
        },
        "collapsed": true,
        "id": "3M06YPADQAeH",
        "outputId": "cdd9a394-e546-437f-8f5b-a7d9785acc6d"
      },
      "outputs": [
        {
          "name": "stdout",
          "output_type": "stream",
          "text": [
            "Wilcoxon Signed-Rank Test Results:\n",
            "-----------------------------------\n",
            "\n",
            "Comparison: Human vs LLM \n",
            "W statistic: 47 \n",
            "P-value: 0.4777 \n",
            "-----------------------------------\n",
            "\n",
            "Comparison: Human vs Purported Human \n",
            "W statistic: 24 \n",
            "P-value: 0.04377 \n",
            "-----------------------------------\n",
            "\n",
            "Comparison: Human vs Purported Interpretable \n",
            "W statistic: 38 \n",
            "P-value: 0.3795 \n",
            "-----------------------------------\n",
            "\n",
            "Comparison: LLM vs Purported Human \n",
            "W statistic: 18 \n",
            "P-value: 0.01842 \n",
            "-----------------------------------\n",
            "\n",
            "Comparison: LLM vs Purported Interpretable \n",
            "W statistic: 65 \n",
            "P-value: 0.7983 \n",
            "-----------------------------------\n",
            "\n",
            "Comparison: Purported Human vs Purported Interpretable \n",
            "W statistic: 97 \n",
            "P-value: 0.03817 \n",
            "-----------------------------------\n"
          ]
        }
      ],
      "source": [
        "library(dplyr)\n",
        "\n",
        "# 过滤出性别为M的数据\n",
        "data_male <- df %>% filter(Sex == \"M\")\n",
        "\n",
        "# 确保 Model_type 列是因子类型（如果不是的话）\n",
        "data_male$Model_type <- as.factor(data_male$Model_type)\n",
        "\n",
        "# 按照 model_type 对数据进行分类\n",
        "data_model_types <- split(data_male, data_male$Model_type)\n",
        "\n",
        "# 获取所有的 model_type\n",
        "model_types <- names(data_model_types)\n",
        "\n",
        "# 创建一个空列表来存储结果\n",
        "results <- list()\n",
        "\n",
        "# 两两比较\n",
        "for (i in 1:(length(model_types) - 1)) {\n",
        "  for (j in (i + 1):length(model_types)) {\n",
        "    type1 <- model_types[i]\n",
        "    type2 <- model_types[j]\n",
        "\n",
        "    # 提取对应的 Cooperate 数据\n",
        "     be_friendly_weight1 <- data_model_types[[type1]]$Be_Friendly_Weighted\n",
        "     be_friendly_weight2 <- data_model_types[[type2]]$Be_Friendly_Weighted\n",
        "\n",
        "    # 进行 Wilcoxon Signed-Rank Test，使用近似 p 值\n",
        "    test_result <- wilcox.test(be_friendly_weight1, be_friendly_weight2, paired = TRUE, exact = FALSE)\n",
        "\n",
        "    # 将结果存储在列表中\n",
        "    results[[paste(type1, \"vs\", type2)]] <- test_result\n",
        "  }\n",
        "}\n",
        "\n",
        "# 打印结果的简洁格式，以便更容易解释\n",
        "cat(\"Wilcoxon Signed-Rank Test Results:\\n\")\n",
        "cat(\"-----------------------------------\\n\")\n",
        "for (comparison in names(results)) {\n",
        "  test_result <- results[[comparison]]\n",
        "  cat(\"\\nComparison:\", comparison,\n",
        "      \"\\nW statistic:\", test_result$statistic,\n",
        "      \"\\nP-value:\", format.pval(test_result$p.value, digits = 4), \"\\n\")\n",
        "  cat(\"-----------------------------------\\n\")\n",
        "}"
      ]
    },
    {
      "cell_type": "markdown",
      "metadata": {
        "id": "rHcYIBxtTQ3f"
      },
      "source": [
        "    6.5 男 Wilcoxon Signed Rank Test 组中的不同Model_type两两比较repair_effort_weighted时的显著差异, 关联样本，一个自变量，一个响应变量"
      ]
    },
    {
      "cell_type": "code",
      "execution_count": null,
      "metadata": {
        "colab": {
          "base_uri": "https://localhost:8080/"
        },
        "collapsed": true,
        "id": "K5gdD9VZO76e",
        "outputId": "a660c25d-5725-438f-f059-106ddf153ad3"
      },
      "outputs": [
        {
          "name": "stdout",
          "output_type": "stream",
          "text": [
            "Wilcoxon Signed-Rank Test Results:\n",
            "-----------------------------------\n",
            "\n",
            "Comparison: Human vs LLM \n",
            "W statistic: 60 \n",
            "P-value: 1 \n",
            "-----------------------------------\n",
            "\n",
            "Comparison: Human vs Purported Human \n",
            "W statistic: 43 \n",
            "P-value: 0.3487 \n",
            "-----------------------------------\n",
            "\n",
            "Comparison: Human vs Purported Interpretable \n",
            "W statistic: 49 \n",
            "P-value: 0.8506 \n",
            "-----------------------------------\n",
            "\n",
            "Comparison: LLM vs Purported Human \n",
            "W statistic: 26 \n",
            "P-value: 0.05708 \n",
            "-----------------------------------\n",
            "\n",
            "Comparison: LLM vs Purported Interpretable \n",
            "W statistic: 52 \n",
            "P-value: 0.6701 \n",
            "-----------------------------------\n",
            "\n",
            "Comparison: Purported Human vs Purported Interpretable \n",
            "W statistic: 96 \n",
            "P-value: 0.04377 \n",
            "-----------------------------------\n"
          ]
        }
      ],
      "source": [
        "library(dplyr)\n",
        "\n",
        "# 过滤出性别为M的数据\n",
        "data_male <- df %>% filter(Sex == \"M\")\n",
        "\n",
        "# 确保 Model_type 列是因子类型（如果不是的话）\n",
        "data_male$Model_type <- as.factor(data_male$Model_type)\n",
        "\n",
        "# 按照 model_type 对数据进行分类\n",
        "data_model_types <- split(data_male, data_male$Model_type)\n",
        "\n",
        "# 获取所有的 model_type\n",
        "model_types <- names(data_model_types)\n",
        "\n",
        "# 创建一个空列表来存储结果\n",
        "results <- list()\n",
        "\n",
        "# 两两比较\n",
        "for (i in 1:(length(model_types) - 1)) {\n",
        "  for (j in (i + 1):length(model_types)) {\n",
        "    type1 <- model_types[i]\n",
        "    type2 <- model_types[j]\n",
        "\n",
        "    # 提取对应的 Cooperate 数据\n",
        "    repair_effort_weight1 <- data_model_types[[type1]]$Repair_Effort_Weighted\n",
        "    repair_effort_weight2 <- data_model_types[[type2]]$Repair_Effort_Weighted\n",
        "\n",
        "    # 进行 Wilcoxon Signed-Rank Test，使用近似 p 值\n",
        "    test_result <- wilcox.test(repair_effort_weight1, repair_effort_weight2, paired = TRUE, exact = FALSE)\n",
        "\n",
        "    # 将结果存储在列表中\n",
        "    results[[paste(type1, \"vs\", type2)]] <- test_result\n",
        "  }\n",
        "}\n",
        "\n",
        "# 打印结果的简洁格式，以便更容易解释\n",
        "cat(\"Wilcoxon Signed-Rank Test Results:\\n\")\n",
        "cat(\"-----------------------------------\\n\")\n",
        "for (comparison in names(results)) {\n",
        "  test_result <- results[[comparison]]\n",
        "  cat(\"\\nComparison:\", comparison,\n",
        "      \"\\nW statistic:\", test_result$statistic,\n",
        "      \"\\nP-value:\", format.pval(test_result$p.value, digits = 4), \"\\n\")\n",
        "  cat(\"-----------------------------------\\n\")\n",
        "}\n"
      ]
    },
    {
      "cell_type": "code",
      "execution_count": null,
      "metadata": {
        "id": "eTt-LZ4nO74H"
      },
      "outputs": [],
      "source": []
    },
    {
      "cell_type": "code",
      "execution_count": null,
      "metadata": {
        "id": "IZ60B_FXO71w"
      },
      "outputs": [],
      "source": []
    },
    {
      "cell_type": "code",
      "execution_count": null,
      "metadata": {
        "id": "uRdI9b3MO7zb"
      },
      "outputs": [],
      "source": []
    },
    {
      "cell_type": "code",
      "execution_count": null,
      "metadata": {
        "id": "TjSIdzemO7w1"
      },
      "outputs": [],
      "source": []
    },
    {
      "cell_type": "code",
      "execution_count": null,
      "metadata": {
        "id": "kXEiEeSyO7ug"
      },
      "outputs": [],
      "source": []
    },
    {
      "cell_type": "code",
      "execution_count": null,
      "metadata": {
        "id": "WTE_9hXpO7mr"
      },
      "outputs": [],
      "source": []
    },
    {
      "cell_type": "code",
      "execution_count": null,
      "metadata": {
        "id": "Q18ciaQ2O7d0"
      },
      "outputs": [],
      "source": []
    },
    {
      "cell_type": "markdown",
      "metadata": {
        "id": "J8KVmxOq8g2c"
      },
      "source": [
        "    7.1 女 PERMANOVA 一个自变量（model_type）和多个响应变量"
      ]
    },
    {
      "cell_type": "code",
      "execution_count": null,
      "metadata": {
        "colab": {
          "base_uri": "https://localhost:8080/"
        },
        "collapsed": true,
        "id": "2f8KaXinyQIc",
        "outputId": "2332a862-409a-4207-810c-af65b0f9c86b"
      },
      "outputs": [
        {
          "name": "stdout",
          "output_type": "stream",
          "text": [
            "Permutation test for adonis under reduced model\n",
            "Terms added sequentially (first to last)\n",
            "Permutation: free\n",
            "Number of permutations: 999\n",
            "\n",
            "adonis2(formula = distance_matrix ~ df_male$Model_type, permutations = 999)\n",
            "                   Df SumOfSqs      R2      F Pr(>F)    \n",
            "df_male$Model_type  3   1706.0 0.22264 5.3462  0.001 ***\n",
            "Residual           56   5956.7 0.77736                  \n",
            "Total              59   7662.7 1.00000                  \n",
            "---\n",
            "Signif. codes:  0 ‘***’ 0.001 ‘**’ 0.01 ‘*’ 0.05 ‘.’ 0.1 ‘ ’ 1\n"
          ]
        }
      ],
      "source": [
        "# 筛选性别为 \"F\" 的数据\n",
        "df_male <- subset(df, Sex == \"F\")\n",
        "\n",
        "# 提取因变量矩阵\n",
        "response_matrix <- as.matrix(df_male[, c(\"Cooperate\", \"Switchs\", \"Be_Friendly\", \"Repair_Effort\", \"Be_Friendly_Weighted\", \"Repair_Effort_Weighted\")])\n",
        "\n",
        "# 计算距离矩阵\n",
        "distance_matrix <- vegdist(response_matrix, method = \"euclidean\")\n",
        "\n",
        "# 进行 PERMANOVA 测试\n",
        "permanova_results <- adonis2(distance_matrix ~ df_male$Model_type, permutations = 999)\n",
        "\n",
        "# 查看结果\n",
        "print(permanova_results)"
      ]
    },
    {
      "cell_type": "markdown",
      "metadata": {
        "id": "V4rLC5MyT4Mb"
      },
      "source": [
        "    7.2 男 Wilcoxon Signed Rank Test 组中的不同Model_type两两比较cooperate时的显著差异, 关联样本，一个自变量，一个响应变量"
      ]
    },
    {
      "cell_type": "code",
      "execution_count": null,
      "metadata": {
        "colab": {
          "base_uri": "https://localhost:8080/"
        },
        "collapsed": true,
        "id": "b5MBk9hyyQGF",
        "outputId": "b53eacb8-eb02-441b-c2a8-f65e39d4100f"
      },
      "outputs": [
        {
          "name": "stdout",
          "output_type": "stream",
          "text": [
            "Wilcoxon Signed-Rank Test Results:\n",
            "-----------------------------------\n",
            "\n",
            "Comparison: Human vs LLM \n",
            "W statistic: 105 \n",
            "P-value: 0.001091 \n",
            "-----------------------------------\n",
            "\n",
            "Comparison: Human vs Purported Human \n",
            "W statistic: 117 \n",
            "P-value: 0.00132 \n",
            "-----------------------------------\n",
            "\n",
            "Comparison: Human vs Purported Interpretable \n",
            "W statistic: 103 \n",
            "P-value: 0.01574 \n",
            "-----------------------------------\n",
            "\n",
            "Comparison: LLM vs Purported Human \n",
            "W statistic: 34 \n",
            "P-value: 0.147 \n",
            "-----------------------------------\n",
            "\n",
            "Comparison: LLM vs Purported Interpretable \n",
            "W statistic: 25.5 \n",
            "P-value: 0.05314 \n",
            "-----------------------------------\n",
            "\n",
            "Comparison: Purported Human vs Purported Interpretable \n",
            "W statistic: 37.5 \n",
            "P-value: 0.3611 \n",
            "-----------------------------------\n"
          ]
        }
      ],
      "source": [
        "library(dplyr)\n",
        "\n",
        "# 过滤出性别为M的数据\n",
        "data_male <- df %>% filter(Sex == \"F\")\n",
        "\n",
        "# 确保 Model_type 列是因子类型（如果不是的话）\n",
        "data_male$Model_type <- as.factor(data_male$Model_type)\n",
        "\n",
        "# 按照 model_type 对数据进行分类\n",
        "data_model_types <- split(data_male, data_male$Model_type)\n",
        "\n",
        "# 获取所有的 model_type\n",
        "model_types <- names(data_model_types)\n",
        "\n",
        "# 创建一个空列表来存储结果\n",
        "results <- list()\n",
        "\n",
        "# 两两比较\n",
        "for (i in 1:(length(model_types) - 1)) {\n",
        "  for (j in (i + 1):length(model_types)) {\n",
        "    type1 <- model_types[i]\n",
        "    type2 <- model_types[j]\n",
        "\n",
        "    # 提取对应的 Cooperate 数据\n",
        "    cooperate1 <- data_model_types[[type1]]$Cooperate\n",
        "    cooperate2 <- data_model_types[[type2]]$Cooperate\n",
        "\n",
        "    # 进行 Wilcoxon Signed-Rank Test，使用近似 p 值\n",
        "    test_result <- wilcox.test(cooperate1, cooperate2, paired = TRUE, exact = FALSE)\n",
        "\n",
        "    # 将结果存储在列表中\n",
        "    results[[paste(type1, \"vs\", type2)]] <- test_result\n",
        "  }\n",
        "}\n",
        "\n",
        "# 打印结果的简洁格式，以便更容易解释\n",
        "cat(\"Wilcoxon Signed-Rank Test Results:\\n\")\n",
        "cat(\"-----------------------------------\\n\")\n",
        "for (comparison in names(results)) {\n",
        "  test_result <- results[[comparison]]\n",
        "  cat(\"\\nComparison:\", comparison,\n",
        "      \"\\nW statistic:\", test_result$statistic,\n",
        "      \"\\nP-value:\", format.pval(test_result$p.value, digits = 4), \"\\n\")\n",
        "  cat(\"-----------------------------------\\n\")\n",
        "}\n"
      ]
    },
    {
      "cell_type": "markdown",
      "metadata": {
        "id": "FY0QWXwGUHEQ"
      },
      "source": [
        "    7.3 女 Wilcoxon Signed Rank Test 组中的不同Model_type两两比较be_friendly时的显著差异, 关联样本，一个自变量，一个响应变量"
      ]
    },
    {
      "cell_type": "code",
      "execution_count": null,
      "metadata": {
        "colab": {
          "base_uri": "https://localhost:8080/"
        },
        "collapsed": true,
        "id": "L88XU52CROLV",
        "outputId": "c1d25282-7c31-4f33-b10e-f225d966c827"
      },
      "outputs": [
        {
          "name": "stderr",
          "output_type": "stream",
          "text": [
            "Warning message in wilcox.test.default(be_friendly1, be_friendly2, paired = TRUE, :\n",
            "“cannot compute exact p-value with zeroes”\n",
            "Warning message in wilcox.test.default(be_friendly1, be_friendly2, paired = TRUE, :\n",
            "“cannot compute exact p-value with zeroes”\n"
          ]
        },
        {
          "name": "stdout",
          "output_type": "stream",
          "text": [
            "Wilcoxon Signed-Rank Test Results:\n",
            "-----------------------------------\n",
            "\n",
            "Comparison: Human vs LLM \n",
            "W statistic: 49 \n",
            "P-value: 0.8506 \n",
            "-----------------------------------\n",
            "\n",
            "Comparison: Human vs Purported Human \n",
            "W statistic: 51 \n",
            "P-value: 0.6387 \n",
            "-----------------------------------\n",
            "\n",
            "Comparison: Human vs Purported Interpretable \n",
            "W statistic: 24 \n",
            "P-value: 0.04126 \n",
            "-----------------------------------\n",
            "\n",
            "Comparison: LLM vs Purported Human \n",
            "W statistic: 34 \n",
            "P-value: 0.1514 \n",
            "-----------------------------------\n",
            "\n",
            "Comparison: LLM vs Purported Interpretable \n",
            "W statistic: 20 \n",
            "P-value: 0.04455 \n",
            "-----------------------------------\n",
            "\n",
            "Comparison: Purported Human vs Purported Interpretable \n",
            "W statistic: 40 \n",
            "P-value: 0.2769 \n",
            "-----------------------------------\n"
          ]
        }
      ],
      "source": [
        "library(dplyr)\n",
        "\n",
        "# 过滤出性别为M的数据\n",
        "data_male <- df %>% filter(Sex == \"F\")\n",
        "\n",
        "# 确保 Model_type 列是因子类型（如果不是的话）\n",
        "data_male$Model_type <- as.factor(data_male$Model_type)\n",
        "\n",
        "# 按照 model_type 对数据进行分类\n",
        "data_model_types <- split(data_male, data_male$Model_type)\n",
        "\n",
        "# 获取所有的 model_type\n",
        "model_types <- names(data_model_types)\n",
        "\n",
        "# 创建一个空列表来存储结果\n",
        "results <- list()\n",
        "\n",
        "# 两两比较\n",
        "for (i in 1:(length(model_types) - 1)) {\n",
        "  for (j in (i + 1):length(model_types)) {\n",
        "    type1 <- model_types[i]\n",
        "    type2 <- model_types[j]\n",
        "\n",
        "    # 提取对应的 Cooperate 数据\n",
        "    be_friendly1 <- data_model_types[[type1]]$Be_Friendly\n",
        "    be_friendly2 <- data_model_types[[type2]]$Be_Friendly\n",
        "\n",
        "    # 进行 Wilcoxon Signed-Rank Test，使用近似 p 值\n",
        "    test_result <- wilcox.test(be_friendly1, be_friendly2, paired = TRUE, exact = FALSE)\n",
        "\n",
        "    # 将结果存储在列表中\n",
        "    results[[paste(type1, \"vs\", type2)]] <- test_result\n",
        "  }\n",
        "}\n",
        "\n",
        "# 打印结果的简洁格式，以便更容易解释\n",
        "cat(\"Wilcoxon Signed-Rank Test Results:\\n\")\n",
        "cat(\"-----------------------------------\\n\")\n",
        "for (comparison in names(results)) {\n",
        "  test_result <- results[[comparison]]\n",
        "  cat(\"\\nComparison:\", comparison,\n",
        "      \"\\nW statistic:\", test_result$statistic,\n",
        "      \"\\nP-value:\", format.pval(test_result$p.value, digits = 4), \"\\n\")\n",
        "  cat(\"-----------------------------------\\n\")\n",
        "}\n"
      ]
    },
    {
      "cell_type": "markdown",
      "metadata": {
        "id": "h2zY-hEfUYf6"
      },
      "source": [
        "    7.4 女 Wilcoxon Signed Rank Test 组中的不同Model_type两两比较时repair_effort的显著差异, 关联样本，一个自变量，一个响应变量"
      ]
    },
    {
      "cell_type": "code",
      "execution_count": null,
      "metadata": {
        "colab": {
          "base_uri": "https://localhost:8080/"
        },
        "collapsed": true,
        "id": "1NkHLa9fQ7tV",
        "outputId": "9bde28a3-58af-47ff-f1bd-42c06a750a68"
      },
      "outputs": [
        {
          "name": "stdout",
          "output_type": "stream",
          "text": [
            "Wilcoxon Signed-Rank Test Results:\n",
            "-----------------------------------\n",
            "\n",
            "Comparison: Human vs LLM \n",
            "W statistic: 37 \n",
            "P-value: 0.3464 \n",
            "-----------------------------------\n",
            "\n",
            "Comparison: Human vs Purported Human \n",
            "W statistic: 35 \n",
            "P-value: 0.1641 \n",
            "-----------------------------------\n",
            "\n",
            "Comparison: Human vs Purported Interpretable \n",
            "W statistic: 34 \n",
            "P-value: 0.2584 \n",
            "-----------------------------------\n",
            "\n",
            "Comparison: LLM vs Purported Human \n",
            "W statistic: 44 \n",
            "P-value: 0.3786 \n",
            "-----------------------------------\n",
            "\n",
            "Comparison: LLM vs Purported Interpretable \n",
            "W statistic: 63 \n",
            "P-value: 0.8871 \n",
            "-----------------------------------\n",
            "\n",
            "Comparison: Purported Human vs Purported Interpretable \n",
            "W statistic: 79 \n",
            "P-value: 0.2934 \n",
            "-----------------------------------\n"
          ]
        }
      ],
      "source": [
        "library(dplyr)\n",
        "\n",
        "# 过滤出性别为M的数据\n",
        "data_male <- df %>% filter(Sex == \"F\")\n",
        "\n",
        "# 确保 Model_type 列是因子类型（如果不是的话）\n",
        "data_male$Model_type <- as.factor(data_male$Model_type)\n",
        "\n",
        "# 按照 model_type 对数据进行分类\n",
        "data_model_types <- split(data_male, data_male$Model_type)\n",
        "\n",
        "# 获取所有的 model_type\n",
        "model_types <- names(data_model_types)\n",
        "\n",
        "# 创建一个空列表来存储结果\n",
        "results <- list()\n",
        "\n",
        "# 两两比较\n",
        "for (i in 1:(length(model_types) - 1)) {\n",
        "  for (j in (i + 1):length(model_types)) {\n",
        "    type1 <- model_types[i]\n",
        "    type2 <- model_types[j]\n",
        "\n",
        "    # 提取对应的 Cooperate 数据\n",
        "    repair_effort1 <- data_model_types[[type1]]$Repair_Effort\n",
        "    repair_effort2 <- data_model_types[[type2]]$Repair_Effort\n",
        "\n",
        "    # 进行 Wilcoxon Signed-Rank Test，使用近似 p 值\n",
        "    test_result <- wilcox.test(repair_effort1, repair_effort2, paired = TRUE, exact = FALSE)\n",
        "\n",
        "    # 将结果存储在列表中\n",
        "    results[[paste(type1, \"vs\", type2)]] <- test_result\n",
        "  }\n",
        "}\n",
        "\n",
        "# 打印结果的简洁格式，以便更容易解释\n",
        "cat(\"Wilcoxon Signed-Rank Test Results:\\n\")\n",
        "cat(\"-----------------------------------\\n\")\n",
        "for (comparison in names(results)) {\n",
        "  test_result <- results[[comparison]]\n",
        "  cat(\"\\nComparison:\", comparison,\n",
        "      \"\\nW statistic:\", test_result$statistic,\n",
        "      \"\\nP-value:\", format.pval(test_result$p.value, digits = 4), \"\\n\")\n",
        "  cat(\"-----------------------------------\\n\")\n",
        "}"
      ]
    },
    {
      "cell_type": "markdown",
      "metadata": {
        "id": "e2Q3N9WXUmFs"
      },
      "source": [
        "    7.5 女 Wilcoxon Signed Rank Test 组中的不同Model_type两两比较befiriendly_weighted时的显著差异, 关联样本，一个自变量，一个响应变量"
      ]
    },
    {
      "cell_type": "code",
      "execution_count": null,
      "metadata": {
        "colab": {
          "base_uri": "https://localhost:8080/"
        },
        "collapsed": true,
        "id": "hgYYi0ifRrNv",
        "outputId": "64b050bc-06a0-4a00-e503-ecff642e97ba"
      },
      "outputs": [
        {
          "name": "stdout",
          "output_type": "stream",
          "text": [
            "Wilcoxon Signed-Rank Test Results:\n",
            "-----------------------------------\n",
            "\n",
            "Comparison: Human vs LLM \n",
            "W statistic: 42 \n",
            "P-value: 0.5302 \n",
            "-----------------------------------\n",
            "\n",
            "Comparison: Human vs Purported Human \n",
            "W statistic: 43 \n",
            "P-value: 0.3487 \n",
            "-----------------------------------\n",
            "\n",
            "Comparison: Human vs Purported Interpretable \n",
            "W statistic: 23 \n",
            "P-value: 0.03817 \n",
            "-----------------------------------\n",
            "\n",
            "Comparison: LLM vs Purported Human \n",
            "W statistic: 45 \n",
            "P-value: 0.4102 \n",
            "-----------------------------------\n",
            "\n",
            "Comparison: LLM vs Purported Interpretable \n",
            "W statistic: 16 \n",
            "P-value: 0.02382 \n",
            "-----------------------------------\n",
            "\n",
            "Comparison: Purported Human vs Purported Interpretable \n",
            "W statistic: 28 \n",
            "P-value: 0.0736 \n",
            "-----------------------------------\n"
          ]
        }
      ],
      "source": [
        "library(dplyr)\n",
        "\n",
        "# 过滤出性别为M的数据\n",
        "data_male <- df %>% filter(Sex == \"F\")\n",
        "\n",
        "# 确保 Model_type 列是因子类型（如果不是的话）\n",
        "data_male$Model_type <- as.factor(data_male$Model_type)\n",
        "\n",
        "# 按照 model_type 对数据进行分类\n",
        "data_model_types <- split(data_male, data_male$Model_type)\n",
        "\n",
        "# 获取所有的 model_type\n",
        "model_types <- names(data_model_types)\n",
        "\n",
        "# 创建一个空列表来存储结果\n",
        "results <- list()\n",
        "\n",
        "# 两两比较\n",
        "for (i in 1:(length(model_types) - 1)) {\n",
        "  for (j in (i + 1):length(model_types)) {\n",
        "    type1 <- model_types[i]\n",
        "    type2 <- model_types[j]\n",
        "\n",
        "    # 提取对应的 Cooperate 数据\n",
        "     be_friendly_weight1 <- data_model_types[[type1]]$Be_Friendly_Weighted\n",
        "     be_friendly_weight2 <- data_model_types[[type2]]$Be_Friendly_Weighted\n",
        "\n",
        "    # 进行 Wilcoxon Signed-Rank Test，使用近似 p 值\n",
        "    test_result <- wilcox.test(be_friendly_weight1, be_friendly_weight2, paired = TRUE, exact = FALSE)\n",
        "\n",
        "    # 将结果存储在列表中\n",
        "    results[[paste(type1, \"vs\", type2)]] <- test_result\n",
        "  }\n",
        "}\n",
        "\n",
        "# 打印结果的简洁格式，以便更容易解释\n",
        "cat(\"Wilcoxon Signed-Rank Test Results:\\n\")\n",
        "cat(\"-----------------------------------\\n\")\n",
        "for (comparison in names(results)) {\n",
        "  test_result <- results[[comparison]]\n",
        "  cat(\"\\nComparison:\", comparison,\n",
        "      \"\\nW statistic:\", test_result$statistic,\n",
        "      \"\\nP-value:\", format.pval(test_result$p.value, digits = 4), \"\\n\")\n",
        "  cat(\"-----------------------------------\\n\")\n",
        "}"
      ]
    },
    {
      "cell_type": "markdown",
      "metadata": {
        "id": "A8Jpx24xU2S9"
      },
      "source": [
        "    7.6 女 Wilcoxon Signed Rank Test 组中的不同Model_type两两比较repair_effort_weighted时的显著差异, 关联样本，一个自变量，一个响应变量"
      ]
    },
    {
      "cell_type": "code",
      "execution_count": null,
      "metadata": {
        "colab": {
          "base_uri": "https://localhost:8080/"
        },
        "collapsed": true,
        "id": "GSeKls1OyQDe",
        "outputId": "6e677d5c-60da-4c06-a649-c0fc50667a59"
      },
      "outputs": [
        {
          "name": "stdout",
          "output_type": "stream",
          "text": [
            "Wilcoxon Signed-Rank Test Results:\n",
            "-----------------------------------\n",
            "\n",
            "Comparison: Human vs LLM \n",
            "W statistic: 34 \n",
            "P-value: 0.2585 \n",
            "-----------------------------------\n",
            "\n",
            "Comparison: Human vs Purported Human \n",
            "W statistic: 33 \n",
            "P-value: 0.1323 \n",
            "-----------------------------------\n",
            "\n",
            "Comparison: Human vs Purported Interpretable \n",
            "W statistic: 32 \n",
            "P-value: 0.1183 \n",
            "-----------------------------------\n",
            "\n",
            "Comparison: LLM vs Purported Human \n",
            "W statistic: 59 \n",
            "P-value: 0.9773 \n",
            "-----------------------------------\n",
            "\n",
            "Comparison: LLM vs Purported Interpretable \n",
            "W statistic: 53 \n",
            "P-value: 0.712 \n",
            "-----------------------------------\n",
            "\n",
            "Comparison: Purported Human vs Purported Interpretable \n",
            "W statistic: 52 \n",
            "P-value: 0.6701 \n",
            "-----------------------------------\n"
          ]
        }
      ],
      "source": [
        "library(dplyr)\n",
        "\n",
        "# 过滤出性别为M的数据\n",
        "data_male <- df %>% filter(Sex == \"F\")\n",
        "\n",
        "# 确保 Model_type 列是因子类型（如果不是的话）\n",
        "data_male$Model_type <- as.factor(data_male$Model_type)\n",
        "\n",
        "# 按照 model_type 对数据进行分类\n",
        "data_model_types <- split(data_male, data_male$Model_type)\n",
        "\n",
        "# 获取所有的 model_type\n",
        "model_types <- names(data_model_types)\n",
        "\n",
        "# 创建一个空列表来存储结果\n",
        "results <- list()\n",
        "\n",
        "# 两两比较\n",
        "for (i in 1:(length(model_types) - 1)) {\n",
        "  for (j in (i + 1):length(model_types)) {\n",
        "    type1 <- model_types[i]\n",
        "    type2 <- model_types[j]\n",
        "\n",
        "    # 提取对应的 Cooperate 数据\n",
        "    repair_effort_weight1 <- data_model_types[[type1]]$Repair_Effort_Weighted\n",
        "    repair_effort_weight2 <- data_model_types[[type2]]$Repair_Effort_Weighted\n",
        "\n",
        "    # 进行 Wilcoxon Signed-Rank Test，使用近似 p 值\n",
        "    test_result <- wilcox.test(repair_effort_weight1, repair_effort_weight2, paired = TRUE, exact = FALSE)\n",
        "\n",
        "    # 将结果存储在列表中\n",
        "    results[[paste(type1, \"vs\", type2)]] <- test_result\n",
        "  }\n",
        "}\n",
        "\n",
        "# 打印结果的简洁格式，以便更容易解释\n",
        "cat(\"Wilcoxon Signed-Rank Test Results:\\n\")\n",
        "cat(\"-----------------------------------\\n\")\n",
        "for (comparison in names(results)) {\n",
        "  test_result <- results[[comparison]]\n",
        "  cat(\"\\nComparison:\", comparison,\n",
        "      \"\\nW statistic:\", test_result$statistic,\n",
        "      \"\\nP-value:\", format.pval(test_result$p.value, digits = 4), \"\\n\")\n",
        "  cat(\"-----------------------------------\\n\")\n",
        "}\n"
      ]
    },
    {
      "cell_type": "code",
      "execution_count": null,
      "metadata": {
        "id": "VglxWr4ydpro"
      },
      "outputs": [],
      "source": []
    },
    {
      "cell_type": "code",
      "execution_count": null,
      "metadata": {
        "colab": {
          "base_uri": "https://localhost:8080/",
          "height": 573
        },
        "id": "DYVA--HZdLnp",
        "outputId": "7c49feff-e133-4869-89d2-58ee201faa7d"
      },
      "outputs": [
        {
          "name": "stdout",
          "output_type": "stream",
          "text": [
            "\n",
            "\tWilcoxon rank sum test with continuity correction\n",
            "\n",
            "data:  A and B\n",
            "W = 154.5, p-value = 0.08394\n",
            "alternative hypothesis: true location shift is not equal to 0\n",
            "\n",
            "无显著差异: 无法拒绝原假设，A 和 B 之间不存在显著差异\n"
          ]
        },
        {
          "data": {
            "image/png": "[encoded data removed]",
            "text/plain": [
              "plot without title"
            ]
          },
          "metadata": {
            "image/png": {
              "height": 420,
              "width": 420
            }
          },
          "output_type": "display_data"
        }
      ],
      "source": [
        "# 加载必要的库\n",
        "library(ggplot2)\n",
        "\n",
        "# 创建数据向量\n",
        "A <- c(30, 34, 26, 32, 31, 32, 31, 23, 34, 26, 24, 26, 32, 25, 32)\n",
        "B <- c(30, 7, 37, 29, 12, 30, 16, 31, 34, 29, 21, 26, 24, 21, 25)\n",
        "\n",
        "# 绘制箱线图\n",
        "data <- data.frame(\n",
        "  score = c(A, B),\n",
        "  group = factor(rep(c(\"A\", \"B\"), each = length(A)))\n",
        ")\n",
        "\n",
        "ggplot(data, aes(x = group, y = score)) +\n",
        "  geom_boxplot() +\n",
        "  labs(title = \"箱线图\", x = \"组别\", y = \"得分\")\n",
        "\n",
        "# 执行 Mann-Whitney U 检验，启用连续性修正\n",
        "mw_test <- wilcox.test(A, B, alternative = \"two.sided\", exact = FALSE, correct = TRUE)\n",
        "\n",
        "# 打印检验结果\n",
        "print(mw_test)\n",
        "\n",
        "# 结果解释\n",
        "alpha <- 0.05\n",
        "if (mw_test$p.value < alpha) {\n",
        "  cat(\"显著差异: 拒绝原假设，A 和 B 之间存在显著差异\\n\")\n",
        "} else {\n",
        "  cat(\"无显著差异: 无法拒绝原假设，A 和 B 之间不存在显著差异\\n\")\n",
        "}"
      ]
    },
    {
      "cell_type": "code",
      "execution_count": null,
      "metadata": {
        "colab": {
          "base_uri": "https://localhost:8080/"
        },
        "id": "a1IbmWo7yP-z",
        "outputId": "13ed8ac0-3b70-4bd7-a394-1ea36b5ee08c"
      },
      "outputs": [
        {
          "name": "stdout",
          "output_type": "stream",
          "text": [
            "\n",
            "\tWilcoxon rank sum test with continuity correction\n",
            "\n",
            "data:  Cooperate by Sex\n",
            "W = 70.5, p-value = 0.08394\n",
            "alternative hypothesis: true location shift is not equal to 0\n",
            "\n"
          ]
        }
      ],
      "source": [
        "library(dplyr)\n",
        "\n",
        "# 筛选出 model_type 为 \"Purported Human\" 的数据\n",
        "df_filtered <- df %>% filter(Model_type == \"Purported Human\")\n",
        "\n",
        "# 使用 Mann-Whitney U 检验比较 Cooperate 的显著性差异\n",
        "test_result <- wilcox.test(Cooperate ~ Sex, data = df_filtered, exact = FALSE,correct = TRUE)\n",
        "\n",
        "# 打印结果\n",
        "print(test_result)"
      ]
    },
    {
      "cell_type": "code",
      "execution_count": null,
      "metadata": {
        "colab": {
          "base_uri": "https://localhost:8080/"
        },
        "id": "1EI5QeAdyPtH",
        "outputId": "db85194b-0e2b-4e5d-d83d-09f0e4b9c886"
      },
      "outputs": [
        {
          "name": "stderr",
          "output_type": "stream",
          "text": [
            "Warning message in wilcox.test.default(x = DATA[[1L]], y = DATA[[2L]], ...):\n",
            "“cannot compute exact p-value with ties”\n"
          ]
        },
        {
          "name": "stdout",
          "output_type": "stream",
          "text": [
            "\n",
            "\tWilcoxon rank sum test with continuity correction\n",
            "\n",
            "data:  Cooperate by Sex\n",
            "W = 155.5, p-value = 0.0773\n",
            "alternative hypothesis: true location shift is not equal to 0\n",
            "\n"
          ]
        }
      ],
      "source": [
        "library(dplyr)\n",
        "\n",
        "# 筛选出 model_type 为 \"Purported In\" 的数据\n",
        "df_filtered <- df %>% filter(Model_type == \"Purported Interpretable\")\n",
        "\n",
        "# 使用 Mann-Whitney U 检验比较 Cooperate 的显著性差异\n",
        "test_result <- wilcox.test(Cooperate ~ Sex, data = df_filtered, exact = TRUE)\n",
        "\n",
        "# 打印结果\n",
        "print(test_result)"
      ]
    },
    {
      "cell_type": "code",
      "execution_count": null,
      "metadata": {
        "id": "C1GHebnBWrv6"
      },
      "outputs": [],
      "source": []
    },
    {
      "cell_type": "code",
      "execution_count": null,
      "metadata": {
        "id": "kw0PBtskP0Om"
      },
      "outputs": [],
      "source": []
    },
    {
      "cell_type": "code",
      "execution_count": null,
      "metadata": {
        "id": "RJsyfSVwP0Mf"
      },
      "outputs": [],
      "source": []
    },
    {
      "cell_type": "code",
      "execution_count": null,
      "metadata": {
        "id": "Pr8r2qsLP0Ke"
      },
      "outputs": [],
      "source": []
    },
    {
      "cell_type": "code",
      "execution_count": null,
      "metadata": {
        "id": "x_1PwykjP0H5"
      },
      "outputs": [],
      "source": []
    },
    {
      "cell_type": "code",
      "execution_count": null,
      "metadata": {
        "id": "sIUcDerVPz72"
      },
      "outputs": [],
      "source": []
    }
  ],
  "metadata": {
    "colab": {
      "provenance": [],
      "include_colab_link": true
    },
    "kernelspec": {
      "display_name": "R",
      "name": "ir"
    },
    "language_info": {
      "name": "R"
    }
  },
  "nbformat": 4,
  "nbformat_minor": 0
}